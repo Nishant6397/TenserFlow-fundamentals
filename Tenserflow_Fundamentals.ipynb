{
  "nbformat": 4,
  "nbformat_minor": 0,
  "metadata": {
    "colab": {
      "provenance": [],
      "gpuType": "T4",
      "authorship_tag": "ABX9TyPZbl4EmtHHl+HtHBGd09AJ",
      "include_colab_link": true
    },
    "kernelspec": {
      "name": "python3",
      "display_name": "Python 3"
    },
    "language_info": {
      "name": "python"
    },
    "accelerator": "GPU"
  },
  "cells": [
    {
      "cell_type": "markdown",
      "metadata": {
        "id": "view-in-github",
        "colab_type": "text"
      },
      "source": [
        "<a href=\"https://colab.research.google.com/github/Nishant6397/TenserFlow-fundamentals/blob/main/Tenserflow_Fundamentals.ipynb\" target=\"_parent\"><img src=\"https://colab.research.google.com/assets/colab-badge.svg\" alt=\"Open In Colab\"/></a>"
      ]
    },
    {
      "cell_type": "markdown",
      "source": [
        "# In this notebook we are going to explore the  some of the most fundamental concepts of Tenserflow\n",
        "\n",
        "*More Specifically we are cover:\n",
        "\n",
        "*Intro to Tensors\n",
        "\n",
        "*Getting information from tensors\n",
        "\n",
        "*Manipulating the tensors\n",
        "\n",
        "*Tensors & numpy\n",
        "\n",
        "*Using @tf.function(a way to speed up your regular python functions)\n",
        "\n",
        "*Using GPUs with Tensorflow or TPUs\n",
        "\n",
        "*Exercises to try for yourself\n"
      ],
      "metadata": {
        "id": "YkOuRYf7bT8v"
      }
    },
    {
      "cell_type": "code",
      "source": [
        "# Import Tensorflow\n",
        "import tensorflow as tf\n",
        "import numpy as np\n",
        "\n",
        "print(tf.__version__)"
      ],
      "metadata": {
        "colab": {
          "base_uri": "https://localhost:8080/"
        },
        "id": "CymjhZZ6bccV",
        "outputId": "8bd37279-8fb6-4a9c-9be2-1e1d88d9bf75"
      },
      "execution_count": null,
      "outputs": [
        {
          "output_type": "stream",
          "name": "stdout",
          "text": [
            "2.15.0\n"
          ]
        }
      ]
    },
    {
      "cell_type": "code",
      "source": [
        "# Create a tensor with tf.constant\n",
        "# Creates a constant tensor from a tensor-like object.\n",
        "# Link for more understanding\n",
        "# https://www.tensorflow.org/api_docs/python/tf/constant\n",
        "scalar = tf.constant(7)\n",
        "scalar\n",
        "\n",
        "# Constant 1-D Tensor from a python list.\n",
        "b= tf.constant([1, 2, 3, 4, 5, 6])\n",
        "b\n",
        "\n",
        "# Or a numpy array\n",
        "a = np.array([[1, 2, 3], [4, 5, 6]])\n",
        "tf.constant(a)\n",
        "a\n",
        "\n",
        "\n",
        "\n",
        "\n"
      ],
      "metadata": {
        "colab": {
          "base_uri": "https://localhost:8080/"
        },
        "id": "m6XFvRGncEYM",
        "outputId": "ed2cebe1-6a5c-4c91-cac2-1925b865707a"
      },
      "execution_count": null,
      "outputs": [
        {
          "output_type": "execute_result",
          "data": {
            "text/plain": [
              "array([[1, 2, 3],\n",
              "       [4, 5, 6]])"
            ]
          },
          "metadata": {},
          "execution_count": 101
        }
      ]
    },
    {
      "cell_type": "code",
      "source": [
        "#Check the number of dimensions of a tensor (ndim stands for number of dimensions)\n",
        "scalar.ndim"
      ],
      "metadata": {
        "colab": {
          "base_uri": "https://localhost:8080/"
        },
        "id": "l2wOHw3_fnaM",
        "outputId": "809b2c5b-9550-463b-963d-f62bf9276633"
      },
      "execution_count": null,
      "outputs": [
        {
          "output_type": "execute_result",
          "data": {
            "text/plain": [
              "0"
            ]
          },
          "metadata": {},
          "execution_count": 102
        }
      ]
    },
    {
      "cell_type": "code",
      "source": [
        "#Create a vector\n",
        "vector = tf.constant([10,10])\n",
        "vector"
      ],
      "metadata": {
        "colab": {
          "base_uri": "https://localhost:8080/"
        },
        "id": "p4uQK7v6hOG8",
        "outputId": "29cf4aaa-4660-4ed4-972a-1d4df99b9fb5"
      },
      "execution_count": null,
      "outputs": [
        {
          "output_type": "execute_result",
          "data": {
            "text/plain": [
              "<tf.Tensor: shape=(2,), dtype=int32, numpy=array([10, 10], dtype=int32)>"
            ]
          },
          "metadata": {},
          "execution_count": 103
        }
      ]
    },
    {
      "cell_type": "code",
      "source": [
        "#Check the dimenstions for that\n",
        "vector.ndim"
      ],
      "metadata": {
        "colab": {
          "base_uri": "https://localhost:8080/"
        },
        "id": "ZO18s2HlhXbl",
        "outputId": "b5da81d9-48fd-4ec6-8f8e-cce47c852d2c"
      },
      "execution_count": null,
      "outputs": [
        {
          "output_type": "execute_result",
          "data": {
            "text/plain": [
              "1"
            ]
          },
          "metadata": {},
          "execution_count": 104
        }
      ]
    },
    {
      "cell_type": "code",
      "source": [
        "#create a matrix\n",
        "matrix = tf.constant([[10,7], [10,9]])\n",
        "matrix"
      ],
      "metadata": {
        "colab": {
          "base_uri": "https://localhost:8080/"
        },
        "id": "GQg7XBDqhdCd",
        "outputId": "af1e3230-49a3-492f-b377-f763e857f3e3"
      },
      "execution_count": null,
      "outputs": [
        {
          "output_type": "execute_result",
          "data": {
            "text/plain": [
              "<tf.Tensor: shape=(2, 2), dtype=int32, numpy=\n",
              "array([[10,  7],\n",
              "       [10,  9]], dtype=int32)>"
            ]
          },
          "metadata": {},
          "execution_count": 105
        }
      ]
    },
    {
      "cell_type": "code",
      "source": [
        "matrix.ndim"
      ],
      "metadata": {
        "colab": {
          "base_uri": "https://localhost:8080/"
        },
        "id": "tB8VwJlxhke0",
        "outputId": "54bbc5f0-331f-4f15-cc67-4c9c3470e31e"
      },
      "execution_count": null,
      "outputs": [
        {
          "output_type": "execute_result",
          "data": {
            "text/plain": [
              "2"
            ]
          },
          "metadata": {},
          "execution_count": 106
        }
      ]
    },
    {
      "cell_type": "code",
      "source": [
        "#Create a another matrix\n",
        "another_matrix = tf.constant([[10.,8,],[3.,5.], [3.,7.]], dtype=tf.float16)\n",
        "another_matrix"
      ],
      "metadata": {
        "colab": {
          "base_uri": "https://localhost:8080/"
        },
        "id": "ITU6nqJzhnXX",
        "outputId": "be72c696-f1e8-45ab-c192-53e860ff1539"
      },
      "execution_count": null,
      "outputs": [
        {
          "output_type": "execute_result",
          "data": {
            "text/plain": [
              "<tf.Tensor: shape=(3, 2), dtype=float16, numpy=\n",
              "array([[10.,  8.],\n",
              "       [ 3.,  5.],\n",
              "       [ 3.,  7.]], dtype=float16)>"
            ]
          },
          "metadata": {},
          "execution_count": 107
        }
      ]
    },
    {
      "cell_type": "code",
      "source": [
        "another_matrix.ndim"
      ],
      "metadata": {
        "colab": {
          "base_uri": "https://localhost:8080/"
        },
        "id": "79WqBe5Mh6GT",
        "outputId": "8ba914c7-81e0-4bfe-a737-db80fc12e108"
      },
      "execution_count": null,
      "outputs": [
        {
          "output_type": "execute_result",
          "data": {
            "text/plain": [
              "2"
            ]
          },
          "metadata": {},
          "execution_count": 108
        }
      ]
    },
    {
      "cell_type": "code",
      "source": [
        "one_more_matrix = tf.constant([[[2,3],[4,5]]])\n",
        "one_more_matrix"
      ],
      "metadata": {
        "colab": {
          "base_uri": "https://localhost:8080/"
        },
        "id": "Wq59EVMKiBjJ",
        "outputId": "099573cd-7c10-478d-ad05-1fce7ad7de28"
      },
      "execution_count": null,
      "outputs": [
        {
          "output_type": "execute_result",
          "data": {
            "text/plain": [
              "<tf.Tensor: shape=(1, 2, 2), dtype=int32, numpy=\n",
              "array([[[2, 3],\n",
              "        [4, 5]]], dtype=int32)>"
            ]
          },
          "metadata": {},
          "execution_count": 109
        }
      ]
    },
    {
      "cell_type": "code",
      "source": [
        "one_more_matrix.ndim"
      ],
      "metadata": {
        "colab": {
          "base_uri": "https://localhost:8080/"
        },
        "id": "lYFoxxrqiIYB",
        "outputId": "55efeda7-9d35-4bae-a14d-6d7bc96e60a3"
      },
      "execution_count": null,
      "outputs": [
        {
          "output_type": "execute_result",
          "data": {
            "text/plain": [
              "3"
            ]
          },
          "metadata": {},
          "execution_count": 110
        }
      ]
    },
    {
      "cell_type": "code",
      "source": [
        "#Lets create a tensor\n",
        "tensor = tf.constant([[[[1,2,3], [4,4,5]], [[2,3,2],[3,4,5]],[[3,2,4], [3,4,5]]]])\n",
        "tensor\n",
        "\n"
      ],
      "metadata": {
        "colab": {
          "base_uri": "https://localhost:8080/"
        },
        "id": "aF3gI07wiQSs",
        "outputId": "16cb8c9b-ceb9-41f2-cd12-5b6ad4e4c97b"
      },
      "execution_count": null,
      "outputs": [
        {
          "output_type": "execute_result",
          "data": {
            "text/plain": [
              "<tf.Tensor: shape=(1, 3, 2, 3), dtype=int32, numpy=\n",
              "array([[[[1, 2, 3],\n",
              "         [4, 4, 5]],\n",
              "\n",
              "        [[2, 3, 2],\n",
              "         [3, 4, 5]],\n",
              "\n",
              "        [[3, 2, 4],\n",
              "         [3, 4, 5]]]], dtype=int32)>"
            ]
          },
          "metadata": {},
          "execution_count": 111
        }
      ]
    },
    {
      "cell_type": "code",
      "source": [
        "tensor.ndim"
      ],
      "metadata": {
        "colab": {
          "base_uri": "https://localhost:8080/"
        },
        "id": "bZbhbrnVi-ak",
        "outputId": "b67e9214-c49d-483c-9120-ffed7978ece5"
      },
      "execution_count": null,
      "outputs": [
        {
          "output_type": "execute_result",
          "data": {
            "text/plain": [
              "4"
            ]
          },
          "metadata": {},
          "execution_count": 112
        }
      ]
    },
    {
      "cell_type": "code",
      "source": [],
      "metadata": {
        "id": "V0H5I8mHkU4L"
      },
      "execution_count": null,
      "outputs": []
    },
    {
      "cell_type": "markdown",
      "source": [
        "#What we've created so far:\n",
        "*Scalar: a single number\n",
        "\n",
        "*Vector: a number with direction (e.g. wind speed and direction)\n",
        "\n",
        "*Matrix: a 2-dimensional array of numbers\n",
        "\n",
        "*Tensor: an n-dimensional array of numbers (where n can be any number , a-0 dimensional , a 1 dimension is a vector)"
      ],
      "metadata": {
        "id": "DUBC8LHXkipQ"
      }
    },
    {
      "cell_type": "markdown",
      "source": [
        "### Creating Tensor with tf.variable\n",
        "\n",
        "https://www.tensorflow.org/api_docs/python/tf/Variable\n",
        "\n",
        "Why would we use variable over constant tensors\n",
        "\n",
        "\n",
        "In variable tensors we can change the value of existing tensor with the help of assign function"
      ],
      "metadata": {
        "id": "oSw4mE3bm2Xa"
      }
    },
    {
      "cell_type": "code",
      "source": [
        "#Create a above tensor with tf.Variable() as above\n",
        "changeable_tensor = tf.Variable([10,7])\n",
        "unchangeable_tensor = tf.constant([10,7])\n",
        "changeable_tensor, unchangeable_tensor"
      ],
      "metadata": {
        "colab": {
          "base_uri": "https://localhost:8080/"
        },
        "id": "ptdsN4rWnC9h",
        "outputId": "122a0d69-b7e3-4a51-8243-77b56c39a54c"
      },
      "execution_count": null,
      "outputs": [
        {
          "output_type": "execute_result",
          "data": {
            "text/plain": [
              "(<tf.Variable 'Variable:0' shape=(2,) dtype=int32, numpy=array([10,  7], dtype=int32)>,\n",
              " <tf.Tensor: shape=(2,), dtype=int32, numpy=array([10,  7], dtype=int32)>)"
            ]
          },
          "metadata": {},
          "execution_count": 113
        }
      ]
    },
    {
      "cell_type": "code",
      "source": [
        "changeable_tensor[0].assign(7)\n",
        "changeable_tensor\n",
        "\n",
        "#but for constant we can't do this so we have to decide what we use variable or constant\n"
      ],
      "metadata": {
        "colab": {
          "base_uri": "https://localhost:8080/"
        },
        "id": "gq7JlPOCnPqb",
        "outputId": "086d41dc-7e1c-427c-bd04-34d97d738fa3"
      },
      "execution_count": null,
      "outputs": [
        {
          "output_type": "execute_result",
          "data": {
            "text/plain": [
              "<tf.Variable 'Variable:0' shape=(2,) dtype=int32, numpy=array([7, 7], dtype=int32)>"
            ]
          },
          "metadata": {},
          "execution_count": 114
        }
      ]
    },
    {
      "cell_type": "markdown",
      "source": [
        "### Creating Random Tensors\n",
        "IN the starting we initailize with random wieghts and biases in the beginning then we train our model with the help of back propagation algorithm it will tweaks our weights and biases in this manner our neural network train\n",
        "so for the we want random tensor\n",
        "So here is a function in Tensorflow for creating the random tensors\n",
        "\n",
        "\n",
        "https://www.tensorflow.org/api_docs/python/tf/random/uniform"
      ],
      "metadata": {
        "id": "1gLFPVU4pAA9"
      }
    },
    {
      "cell_type": "code",
      "source": [
        "random_1 = tf.random.Generator.from_seed(42) #set seed for reproducibility\n",
        "random_1= random_1.uniform(shape=(3,2))\n",
        "random_2 = tf.random.Generator.from_seed(42)\n",
        "random_2 = random_2.normal(shape=(3,2))\n",
        "random_1, random_2, random_1 == random_2"
      ],
      "metadata": {
        "colab": {
          "base_uri": "https://localhost:8080/"
        },
        "id": "xVHmhZufqvHr",
        "outputId": "dc824750-43af-4297-f4bc-98a907651956"
      },
      "execution_count": null,
      "outputs": [
        {
          "output_type": "execute_result",
          "data": {
            "text/plain": [
              "(<tf.Tensor: shape=(3, 2), dtype=float32, numpy=\n",
              " array([[0.7493447 , 0.73561966],\n",
              "        [0.45230794, 0.49039817],\n",
              "        [0.1889317 , 0.52027524]], dtype=float32)>,\n",
              " <tf.Tensor: shape=(3, 2), dtype=float32, numpy=\n",
              " array([[-0.7565803 , -0.06854702],\n",
              "        [ 0.07595026, -1.2573844 ],\n",
              "        [-0.23193763, -1.8107855 ]], dtype=float32)>,\n",
              " <tf.Tensor: shape=(3, 2), dtype=bool, numpy=\n",
              " array([[False, False],\n",
              "        [False, False],\n",
              "        [False, False]])>)"
            ]
          },
          "metadata": {},
          "execution_count": 115
        }
      ]
    },
    {
      "cell_type": "code",
      "source": [],
      "metadata": {
        "id": "oJUREaKbsVFs"
      },
      "execution_count": null,
      "outputs": []
    },
    {
      "cell_type": "markdown",
      "source": [
        "### Shuffle th order of elements\n",
        "https://www.tensorflow.org/api_docs/python/tf/random/shuffle"
      ],
      "metadata": {
        "id": "UGY7JIFTsa7Y"
      }
    },
    {
      "cell_type": "code",
      "source": [
        "#Shuffke a tensor (shuffle the data wanted to inherit the data but does not affect the learning)\n",
        "not_shuffled = tf.constant([[10,7],[3,4],[2,5]])\n",
        "not_shuffled.ndim ,  not_shuffled\n"
      ],
      "metadata": {
        "colab": {
          "base_uri": "https://localhost:8080/"
        },
        "id": "RCk9E5RNsZ81",
        "outputId": "962008fd-3934-4f22-c68c-29cad6bb725f"
      },
      "execution_count": null,
      "outputs": [
        {
          "output_type": "execute_result",
          "data": {
            "text/plain": [
              "(2,\n",
              " <tf.Tensor: shape=(3, 2), dtype=int32, numpy=\n",
              " array([[10,  7],\n",
              "        [ 3,  4],\n",
              "        [ 2,  5]], dtype=int32)>)"
            ]
          },
          "metadata": {},
          "execution_count": 116
        }
      ]
    },
    {
      "cell_type": "code",
      "source": [
        "shiffled  = tf.random.shuffle(\n",
        "    not_shuffled\n",
        ")\n",
        "shiffled"
      ],
      "metadata": {
        "colab": {
          "base_uri": "https://localhost:8080/"
        },
        "id": "apEoxXzAtKMd",
        "outputId": "f7a6ca08-cc5a-4de6-a4f9-bd2fbad6667c"
      },
      "execution_count": null,
      "outputs": [
        {
          "output_type": "execute_result",
          "data": {
            "text/plain": [
              "<tf.Tensor: shape=(3, 2), dtype=int32, numpy=\n",
              "array([[ 3,  4],\n",
              "       [ 2,  5],\n",
              "       [10,  7]], dtype=int32)>"
            ]
          },
          "metadata": {},
          "execution_count": 117
        }
      ]
    },
    {
      "cell_type": "markdown",
      "source": [
        "SET Seed\n",
        "\n",
        "It looks like if we want our shuffled tensors to be in the same order we've go to use global level random seed as well as operation level random seed:\n",
        "https://www.tensorflow.org/api_docs/python/tf/random/set_seed"
      ],
      "metadata": {
        "id": "btVhxx4wgwO4"
      }
    },
    {
      "cell_type": "code",
      "source": [
        "tf.random.set_seed(42) #global level random seed\n",
        "# tf.random.set_seed(\n",
        "#     seed\n",
        "# )\n",
        "tf.random.shuffle(not_shuffled, seed=42) #operation level random seed"
      ],
      "metadata": {
        "colab": {
          "base_uri": "https://localhost:8080/"
        },
        "id": "I-CY9Nwpgoem",
        "outputId": "424bd1db-c6ef-4f9b-c944-2d91f65eec47"
      },
      "execution_count": null,
      "outputs": [
        {
          "output_type": "execute_result",
          "data": {
            "text/plain": [
              "<tf.Tensor: shape=(3, 2), dtype=int32, numpy=\n",
              "array([[10,  7],\n",
              "       [ 3,  4],\n",
              "       [ 2,  5]], dtype=int32)>"
            ]
          },
          "metadata": {},
          "execution_count": 118
        }
      ]
    },
    {
      "cell_type": "markdown",
      "source": [
        " # Other ways to create tensors"
      ],
      "metadata": {
        "id": "43a68ZichUNH"
      }
    },
    {
      "cell_type": "markdown",
      "source": [],
      "metadata": {
        "id": "A6kkam-5uVSL"
      }
    },
    {
      "cell_type": "code",
      "source": [
        "# Create a tensors all ones\n",
        "tf.ones([10,7])"
      ],
      "metadata": {
        "colab": {
          "base_uri": "https://localhost:8080/"
        },
        "id": "mrJD5IKThTeQ",
        "outputId": "3d8e9188-9391-414d-f3df-2848c7a3eb0c"
      },
      "execution_count": null,
      "outputs": [
        {
          "output_type": "execute_result",
          "data": {
            "text/plain": [
              "<tf.Tensor: shape=(10, 7), dtype=float32, numpy=\n",
              "array([[1., 1., 1., 1., 1., 1., 1.],\n",
              "       [1., 1., 1., 1., 1., 1., 1.],\n",
              "       [1., 1., 1., 1., 1., 1., 1.],\n",
              "       [1., 1., 1., 1., 1., 1., 1.],\n",
              "       [1., 1., 1., 1., 1., 1., 1.],\n",
              "       [1., 1., 1., 1., 1., 1., 1.],\n",
              "       [1., 1., 1., 1., 1., 1., 1.],\n",
              "       [1., 1., 1., 1., 1., 1., 1.],\n",
              "       [1., 1., 1., 1., 1., 1., 1.],\n",
              "       [1., 1., 1., 1., 1., 1., 1.]], dtype=float32)>"
            ]
          },
          "metadata": {},
          "execution_count": 119
        }
      ]
    },
    {
      "cell_type": "code",
      "source": [
        "# Create a tensors of all zeroes\n",
        "tf.zeros(shape= ( 3,4))"
      ],
      "metadata": {
        "colab": {
          "base_uri": "https://localhost:8080/"
        },
        "id": "EhW6xFu0hkrf",
        "outputId": "3843a5e5-6b77-4c15-81aa-abfbbe55e19f"
      },
      "execution_count": null,
      "outputs": [
        {
          "output_type": "execute_result",
          "data": {
            "text/plain": [
              "<tf.Tensor: shape=(3, 4), dtype=float32, numpy=\n",
              "array([[0., 0., 0., 0.],\n",
              "       [0., 0., 0., 0.],\n",
              "       [0., 0., 0., 0.]], dtype=float32)>"
            ]
          },
          "metadata": {},
          "execution_count": 120
        }
      ]
    },
    {
      "cell_type": "markdown",
      "source": [
        "### Turn Numpy array into tensors\n",
        "\n",
        "The main difference between NUmpy arrays and tenserflow is that tensors can be run on a GPU Computing"
      ],
      "metadata": {
        "id": "MW5TGU2dh4PB"
      }
    },
    {
      "cell_type": "code",
      "source": [
        "#Youcan aksi tyrb Numpy arrays into tensors\n",
        "import numpy as np\n",
        "numpy_A = np.arange(1,25, dtype=np.int32) #create a Numpy array between 1 and 25\n",
        "numpy_A\n",
        "\n",
        "#X = tf.constant(some_matrix) #capital for matrix or tensor\n",
        "#y = tf.constant(vector) non capital for vecot"
      ],
      "metadata": {
        "colab": {
          "base_uri": "https://localhost:8080/"
        },
        "id": "rTmEd-yliCIX",
        "outputId": "594f72fb-4fa0-430d-e3bd-8a5bf639329e"
      },
      "execution_count": null,
      "outputs": [
        {
          "output_type": "execute_result",
          "data": {
            "text/plain": [
              "array([ 1,  2,  3,  4,  5,  6,  7,  8,  9, 10, 11, 12, 13, 14, 15, 16, 17,\n",
              "       18, 19, 20, 21, 22, 23, 24], dtype=int32)"
            ]
          },
          "metadata": {},
          "execution_count": 121
        }
      ]
    },
    {
      "cell_type": "code",
      "source": [
        "# We can directly pass the  numpy array into the Tenserflow  toi made a tensor\n",
        "A = tf.constant(numpy_A, shape= (2,3,4))\n",
        "A"
      ],
      "metadata": {
        "colab": {
          "base_uri": "https://localhost:8080/"
        },
        "id": "nRcyELo_jNgc",
        "outputId": "5b0437a6-16ef-49cf-d609-bae5d8541972"
      },
      "execution_count": null,
      "outputs": [
        {
          "output_type": "execute_result",
          "data": {
            "text/plain": [
              "<tf.Tensor: shape=(2, 3, 4), dtype=int32, numpy=\n",
              "array([[[ 1,  2,  3,  4],\n",
              "        [ 5,  6,  7,  8],\n",
              "        [ 9, 10, 11, 12]],\n",
              "\n",
              "       [[13, 14, 15, 16],\n",
              "        [17, 18, 19, 20],\n",
              "        [21, 22, 23, 24]]], dtype=int32)>"
            ]
          },
          "metadata": {},
          "execution_count": 122
        }
      ]
    },
    {
      "cell_type": "code",
      "source": [],
      "metadata": {
        "id": "b4vvWQsbk-Ao"
      },
      "execution_count": null,
      "outputs": []
    },
    {
      "cell_type": "markdown",
      "source": [
        "###  Getting information from Tensors\n",
        "## When dealing with tensors you probably want to aware of the following attributes\n",
        "\n",
        "Shape -> The length (number of elements) of each of the dimensions of a tensor.  -> tensor.shape\n",
        "\n",
        "Rank  -> The number of tensor dimensions. A scalar has rank 0, a vector has rank 1, a Matrix has rank 2, a Tensor has rank n -> tensor.ndim\n",
        "\n",
        "Axis of Dimension -> A particular dimension of a tensor  -> tensor[0], tensor[:,1].....\n",
        "\n",
        "Size -> The total number of items in the tensor -> tf.size(tensor)\n"
      ],
      "metadata": {
        "id": "1_uiEySquWnK"
      }
    },
    {
      "cell_type": "code",
      "source": [
        "# Creata  rank 4 tensor (4 dimesions)\n",
        "rank_4_tensor = tf.zeros(shape=[2,3,4,5])\n",
        "rank_4_tensor"
      ],
      "metadata": {
        "colab": {
          "base_uri": "https://localhost:8080/"
        },
        "id": "5WbcLQHevWsn",
        "outputId": "70e96d00-2606-4098-dad7-041c4af93c33"
      },
      "execution_count": null,
      "outputs": [
        {
          "output_type": "execute_result",
          "data": {
            "text/plain": [
              "<tf.Tensor: shape=(2, 3, 4, 5), dtype=float32, numpy=\n",
              "array([[[[0., 0., 0., 0., 0.],\n",
              "         [0., 0., 0., 0., 0.],\n",
              "         [0., 0., 0., 0., 0.],\n",
              "         [0., 0., 0., 0., 0.]],\n",
              "\n",
              "        [[0., 0., 0., 0., 0.],\n",
              "         [0., 0., 0., 0., 0.],\n",
              "         [0., 0., 0., 0., 0.],\n",
              "         [0., 0., 0., 0., 0.]],\n",
              "\n",
              "        [[0., 0., 0., 0., 0.],\n",
              "         [0., 0., 0., 0., 0.],\n",
              "         [0., 0., 0., 0., 0.],\n",
              "         [0., 0., 0., 0., 0.]]],\n",
              "\n",
              "\n",
              "       [[[0., 0., 0., 0., 0.],\n",
              "         [0., 0., 0., 0., 0.],\n",
              "         [0., 0., 0., 0., 0.],\n",
              "         [0., 0., 0., 0., 0.]],\n",
              "\n",
              "        [[0., 0., 0., 0., 0.],\n",
              "         [0., 0., 0., 0., 0.],\n",
              "         [0., 0., 0., 0., 0.],\n",
              "         [0., 0., 0., 0., 0.]],\n",
              "\n",
              "        [[0., 0., 0., 0., 0.],\n",
              "         [0., 0., 0., 0., 0.],\n",
              "         [0., 0., 0., 0., 0.],\n",
              "         [0., 0., 0., 0., 0.]]]], dtype=float32)>"
            ]
          },
          "metadata": {},
          "execution_count": 123
        }
      ]
    },
    {
      "cell_type": "code",
      "source": [
        "rank_4_tensor[0]"
      ],
      "metadata": {
        "colab": {
          "base_uri": "https://localhost:8080/"
        },
        "id": "z8Z7PyKFv6go",
        "outputId": "481cd10d-a983-478f-c7cb-cb884751a8c0"
      },
      "execution_count": null,
      "outputs": [
        {
          "output_type": "execute_result",
          "data": {
            "text/plain": [
              "<tf.Tensor: shape=(3, 4, 5), dtype=float32, numpy=\n",
              "array([[[0., 0., 0., 0., 0.],\n",
              "        [0., 0., 0., 0., 0.],\n",
              "        [0., 0., 0., 0., 0.],\n",
              "        [0., 0., 0., 0., 0.]],\n",
              "\n",
              "       [[0., 0., 0., 0., 0.],\n",
              "        [0., 0., 0., 0., 0.],\n",
              "        [0., 0., 0., 0., 0.],\n",
              "        [0., 0., 0., 0., 0.]],\n",
              "\n",
              "       [[0., 0., 0., 0., 0.],\n",
              "        [0., 0., 0., 0., 0.],\n",
              "        [0., 0., 0., 0., 0.],\n",
              "        [0., 0., 0., 0., 0.]]], dtype=float32)>"
            ]
          },
          "metadata": {},
          "execution_count": 124
        }
      ]
    },
    {
      "cell_type": "code",
      "source": [
        "rank_4_tensor.shape, rank_4_tensor.ndim, tf.size(rank_4_tensor)"
      ],
      "metadata": {
        "colab": {
          "base_uri": "https://localhost:8080/"
        },
        "id": "flaZJ-NNwD2V",
        "outputId": "fd7b6521-ea08-4b99-970d-1267cbe7ae56"
      },
      "execution_count": null,
      "outputs": [
        {
          "output_type": "execute_result",
          "data": {
            "text/plain": [
              "(TensorShape([2, 3, 4, 5]), 4, <tf.Tensor: shape=(), dtype=int32, numpy=120>)"
            ]
          },
          "metadata": {},
          "execution_count": 125
        }
      ]
    },
    {
      "cell_type": "code",
      "source": [
        "# Get varipus attributes of our tensor\n",
        "print(\"Datatype of every element: \" , rank_4_tensor.dtype)\n",
        "print(\"Number of dimensions (rank): \", rank_4_tensor.ndim)\n",
        "print(\"Shape of tensor: \", rank_4_tensor.shape)\n",
        "print(\"Elements along the 0 axis: \", rank_4_tensor.shape[0])\n",
        "print(\"Elements along the last axis: \", rank_4_tensor.shape[-1])\n",
        "print(\"Total number of elements in our tensor: \", tf.size(rank_4_tensor).numpy())"
      ],
      "metadata": {
        "colab": {
          "base_uri": "https://localhost:8080/"
        },
        "id": "mL0hUpSXwcim",
        "outputId": "d6c94e05-f447-4600-804b-3b23fa63cd89"
      },
      "execution_count": null,
      "outputs": [
        {
          "output_type": "stream",
          "name": "stdout",
          "text": [
            "Datatype of every element:  <dtype: 'float32'>\n",
            "Number of dimensions (rank):  4\n",
            "Shape of tensor:  (2, 3, 4, 5)\n",
            "Elements along the 0 axis:  2\n",
            "Elements along the last axis:  5\n",
            "Total number of elements in our tensor:  120\n"
          ]
        }
      ]
    },
    {
      "cell_type": "markdown",
      "source": [
        "### Indexing Tensors\n",
        "Tensors can be indexed just like python lists\n"
      ],
      "metadata": {
        "id": "GMj-ehC0xsKj"
      }
    },
    {
      "cell_type": "code",
      "source": [
        "some_list = [1,2,3,4]\n",
        "some_list[:2]"
      ],
      "metadata": {
        "colab": {
          "base_uri": "https://localhost:8080/"
        },
        "id": "bswSLHZXyGkS",
        "outputId": "449bc84d-372a-4ae4-8897-5045ffbdeacc"
      },
      "execution_count": null,
      "outputs": [
        {
          "output_type": "execute_result",
          "data": {
            "text/plain": [
              "[1, 2]"
            ]
          },
          "metadata": {},
          "execution_count": 127
        }
      ]
    },
    {
      "cell_type": "code",
      "source": [
        "#Ge the first 2 elements of each dimesnion\n",
        "rank_4_tensor[:2, :2,:2,:2]"
      ],
      "metadata": {
        "colab": {
          "base_uri": "https://localhost:8080/"
        },
        "id": "2HAs-jRUxLcN",
        "outputId": "55b68049-d2ad-4a2b-af60-c78ec7394dc2"
      },
      "execution_count": null,
      "outputs": [
        {
          "output_type": "execute_result",
          "data": {
            "text/plain": [
              "<tf.Tensor: shape=(2, 2, 2, 2), dtype=float32, numpy=\n",
              "array([[[[0., 0.],\n",
              "         [0., 0.]],\n",
              "\n",
              "        [[0., 0.],\n",
              "         [0., 0.]]],\n",
              "\n",
              "\n",
              "       [[[0., 0.],\n",
              "         [0., 0.]],\n",
              "\n",
              "        [[0., 0.],\n",
              "         [0., 0.]]]], dtype=float32)>"
            ]
          },
          "metadata": {},
          "execution_count": 128
        }
      ]
    },
    {
      "cell_type": "code",
      "source": [
        "#Get the first  element from each dimension from each index except for the final one\n",
        "rank_4_tensor[:1, :1, :1, :1]"
      ],
      "metadata": {
        "colab": {
          "base_uri": "https://localhost:8080/"
        },
        "id": "3JROoeAMyopU",
        "outputId": "df79dac5-9756-46d5-92f4-64bd394cb784"
      },
      "execution_count": null,
      "outputs": [
        {
          "output_type": "execute_result",
          "data": {
            "text/plain": [
              "<tf.Tensor: shape=(1, 1, 1, 1), dtype=float32, numpy=array([[[[0.]]]], dtype=float32)>"
            ]
          },
          "metadata": {},
          "execution_count": 129
        }
      ]
    },
    {
      "cell_type": "code",
      "source": [
        "# Create a rank 2 tensor (2 dimensions)\n",
        "rank_2_tensor = tf.constant([[10,7], [2,4]])\n",
        "rank_2_tensor.shape, rank_2_tensor.ndim\n"
      ],
      "metadata": {
        "colab": {
          "base_uri": "https://localhost:8080/"
        },
        "id": "gpV9OzplzU-r",
        "outputId": "3ed920af-bc55-429e-da69-5d320e31d8dc"
      },
      "execution_count": null,
      "outputs": [
        {
          "output_type": "execute_result",
          "data": {
            "text/plain": [
              "(TensorShape([2, 2]), 2)"
            ]
          },
          "metadata": {},
          "execution_count": 130
        }
      ]
    },
    {
      "cell_type": "code",
      "source": [
        "#Get the last item of each row in rank _2 tensor\n",
        "rank_2_tensor[: ,-1]"
      ],
      "metadata": {
        "colab": {
          "base_uri": "https://localhost:8080/"
        },
        "id": "GvlYUySkzho9",
        "outputId": "130fd863-dca9-4bf3-cad4-5f847bc18502"
      },
      "execution_count": null,
      "outputs": [
        {
          "output_type": "execute_result",
          "data": {
            "text/plain": [
              "<tf.Tensor: shape=(2,), dtype=int32, numpy=array([7, 4], dtype=int32)>"
            ]
          },
          "metadata": {},
          "execution_count": 131
        }
      ]
    },
    {
      "cell_type": "code",
      "source": [
        "# Add extra dimension in rank 2 tensor\n",
        "rank_3_tensor = rank_2_tensor[..., tf.newaxis]\n",
        "rank_3_tensor\n"
      ],
      "metadata": {
        "colab": {
          "base_uri": "https://localhost:8080/"
        },
        "id": "2f5eWE3fz_1a",
        "outputId": "c97df7f1-06ea-459e-98f9-eecfc379bbb7"
      },
      "execution_count": null,
      "outputs": [
        {
          "output_type": "execute_result",
          "data": {
            "text/plain": [
              "<tf.Tensor: shape=(2, 2, 1), dtype=int32, numpy=\n",
              "array([[[10],\n",
              "        [ 7]],\n",
              "\n",
              "       [[ 2],\n",
              "        [ 4]]], dtype=int32)>"
            ]
          },
          "metadata": {},
          "execution_count": 132
        }
      ]
    },
    {
      "cell_type": "markdown",
      "source": [
        "![image.png](data:image/png;base64,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)"
      ],
      "metadata": {
        "id": "UwpvtXgy0Vcz"
      }
    },
    {
      "cell_type": "code",
      "source": [
        "# Alternative to tf.newaxis()\n",
        "tf.expand_dims(rank_2_tensor, axis=1) # \"-1\" means expand the final axis , 1 is called expand in the middle 0 the for starting"
      ],
      "metadata": {
        "colab": {
          "base_uri": "https://localhost:8080/"
        },
        "id": "2cpeBJ-g0ciF",
        "outputId": "39c8e6dc-273c-4c52-b563-1371886cd5c7"
      },
      "execution_count": null,
      "outputs": [
        {
          "output_type": "execute_result",
          "data": {
            "text/plain": [
              "<tf.Tensor: shape=(2, 1, 2), dtype=int32, numpy=\n",
              "array([[[10,  7]],\n",
              "\n",
              "       [[ 2,  4]]], dtype=int32)>"
            ]
          },
          "metadata": {},
          "execution_count": 133
        }
      ]
    },
    {
      "cell_type": "markdown",
      "source": [
        "### Manipulating Tensors (tensor operations)\n",
        "\n",
        "** Basic Operations **\n",
        "\n",
        "+, -,*,/"
      ],
      "metadata": {
        "id": "S1nkoMCL1GSu"
      }
    },
    {
      "cell_type": "code",
      "source": [
        "# You can add values to a tensor using the addition operator\n",
        "#Original tensor is unchanges\n",
        "tensor = tf.constant([[10,7], [3,4]])\n",
        "tensor +10"
      ],
      "metadata": {
        "colab": {
          "base_uri": "https://localhost:8080/"
        },
        "id": "m8GVtWXx0_2I",
        "outputId": "ba62d8c1-6d35-492d-b579-7bb0955fbe20"
      },
      "execution_count": null,
      "outputs": [
        {
          "output_type": "execute_result",
          "data": {
            "text/plain": [
              "<tf.Tensor: shape=(2, 2), dtype=int32, numpy=\n",
              "array([[20, 17],\n",
              "       [13, 14]], dtype=int32)>"
            ]
          },
          "metadata": {},
          "execution_count": 134
        }
      ]
    },
    {
      "cell_type": "code",
      "source": [
        "\n",
        "tensor = tensor +10"
      ],
      "metadata": {
        "id": "Q2IncejI6ZsR"
      },
      "execution_count": null,
      "outputs": []
    },
    {
      "cell_type": "code",
      "source": [
        "\n",
        "tensor"
      ],
      "metadata": {
        "colab": {
          "base_uri": "https://localhost:8080/"
        },
        "id": "kBInfha-1F4-",
        "outputId": "ad311be9-cc01-4b37-a27e-a3c44339047f"
      },
      "execution_count": null,
      "outputs": [
        {
          "output_type": "execute_result",
          "data": {
            "text/plain": [
              "<tf.Tensor: shape=(2, 2), dtype=int32, numpy=\n",
              "array([[20, 17],\n",
              "       [13, 14]], dtype=int32)>"
            ]
          },
          "metadata": {},
          "execution_count": 136
        }
      ]
    },
    {
      "cell_type": "code",
      "source": [
        "#Multiplication also works\n",
        "tensor*10\n"
      ],
      "metadata": {
        "colab": {
          "base_uri": "https://localhost:8080/"
        },
        "id": "8-pX8kZP6fOw",
        "outputId": "ca98b74c-ee9c-4c62-cb71-8dac9ab3731e"
      },
      "execution_count": null,
      "outputs": [
        {
          "output_type": "execute_result",
          "data": {
            "text/plain": [
              "<tf.Tensor: shape=(2, 2), dtype=int32, numpy=\n",
              "array([[200, 170],\n",
              "       [130, 140]], dtype=int32)>"
            ]
          },
          "metadata": {},
          "execution_count": 137
        }
      ]
    },
    {
      "cell_type": "code",
      "source": [
        "#subtraction\n",
        "tensor-10\n"
      ],
      "metadata": {
        "colab": {
          "base_uri": "https://localhost:8080/"
        },
        "id": "URtPUXLM6n9V",
        "outputId": "02c01730-0b13-487f-a074-7bfe1930a593"
      },
      "execution_count": null,
      "outputs": [
        {
          "output_type": "execute_result",
          "data": {
            "text/plain": [
              "<tf.Tensor: shape=(2, 2), dtype=int32, numpy=\n",
              "array([[10,  7],\n",
              "       [ 3,  4]], dtype=int32)>"
            ]
          },
          "metadata": {},
          "execution_count": 138
        }
      ]
    },
    {
      "cell_type": "code",
      "source": [
        "# We can use the tenserflow built-in function too\n",
        "tf.multiply(tensor,10)"
      ],
      "metadata": {
        "colab": {
          "base_uri": "https://localhost:8080/"
        },
        "id": "tvpSg70i6rJU",
        "outputId": "e54c2bef-9c87-4e73-bfa3-ae028be32051"
      },
      "execution_count": null,
      "outputs": [
        {
          "output_type": "execute_result",
          "data": {
            "text/plain": [
              "<tf.Tensor: shape=(2, 2), dtype=int32, numpy=\n",
              "array([[200, 170],\n",
              "       [130, 140]], dtype=int32)>"
            ]
          },
          "metadata": {},
          "execution_count": 139
        }
      ]
    },
    {
      "cell_type": "markdown",
      "source": [
        "*** Matrix Multiplication ***\n",
        "There are two rules need to fulfilll if we're going to matrix multiply\n",
        "\n",
        "The inner dimension must match\n",
        "\n",
        "The resulting matrix has the shape of outer dimensions"
      ],
      "metadata": {
        "id": "rGsI2ODR7QDF"
      }
    },
    {
      "cell_type": "code",
      "source": [
        "# Matrix multiplication in tenserflow\n",
        "tensor = tf.constant([[10,7], [3,4]])\n",
        "\n",
        "tf.matmul(tensor, tensor)"
      ],
      "metadata": {
        "colab": {
          "base_uri": "https://localhost:8080/"
        },
        "id": "exC_gmzY7UNl",
        "outputId": "be531799-c260-4581-fc96-5dfaeeb4daca"
      },
      "execution_count": null,
      "outputs": [
        {
          "output_type": "execute_result",
          "data": {
            "text/plain": [
              "<tf.Tensor: shape=(2, 2), dtype=int32, numpy=\n",
              "array([[121,  98],\n",
              "       [ 42,  37]], dtype=int32)>"
            ]
          },
          "metadata": {},
          "execution_count": 140
        }
      ]
    },
    {
      "cell_type": "code",
      "source": [
        "tensor_1 = tf.constant([[1,2,5], [7,2,1], [3,3,3]])\n",
        "tensor_2 = tf.constant([[3,5], [6,7], [1,8]])\n",
        "tf.matmul(tensor_1, tensor_2)"
      ],
      "metadata": {
        "colab": {
          "base_uri": "https://localhost:8080/"
        },
        "id": "9GdXVw5fHOYB",
        "outputId": "b7ad58a6-f15e-44bb-9538-8669430ab9a6"
      },
      "execution_count": null,
      "outputs": [
        {
          "output_type": "execute_result",
          "data": {
            "text/plain": [
              "<tf.Tensor: shape=(3, 2), dtype=int32, numpy=\n",
              "array([[20, 59],\n",
              "       [34, 57],\n",
              "       [30, 60]], dtype=int32)>"
            ]
          },
          "metadata": {},
          "execution_count": 141
        }
      ]
    },
    {
      "cell_type": "code",
      "source": [
        "tensor_1 @ tensor_2"
      ],
      "metadata": {
        "colab": {
          "base_uri": "https://localhost:8080/"
        },
        "id": "MH0OrwcgIL0Z",
        "outputId": "5f52b742-b005-40bd-edf7-b5f32f0ae0fe"
      },
      "execution_count": null,
      "outputs": [
        {
          "output_type": "execute_result",
          "data": {
            "text/plain": [
              "<tf.Tensor: shape=(3, 2), dtype=int32, numpy=\n",
              "array([[20, 59],\n",
              "       [34, 57],\n",
              "       [30, 60]], dtype=int32)>"
            ]
          },
          "metadata": {},
          "execution_count": 142
        }
      ]
    },
    {
      "cell_type": "code",
      "source": [
        "# multiply tensor with same shape\n",
        "matrix_1 = tf.constant([[1,2],[3,4],[5,1]])\n",
        "matrix_2 = tf.constant([[2,5],[6,7],[1,8]])\n",
        "matrix_1 , matrix_2"
      ],
      "metadata": {
        "colab": {
          "base_uri": "https://localhost:8080/"
        },
        "id": "alQgqxjfJU0Z",
        "outputId": "9a03794f-8261-4aa9-89d8-ca1dd10f1ceb"
      },
      "execution_count": null,
      "outputs": [
        {
          "output_type": "execute_result",
          "data": {
            "text/plain": [
              "(<tf.Tensor: shape=(3, 2), dtype=int32, numpy=\n",
              " array([[1, 2],\n",
              "        [3, 4],\n",
              "        [5, 1]], dtype=int32)>,\n",
              " <tf.Tensor: shape=(3, 2), dtype=int32, numpy=\n",
              " array([[2, 5],\n",
              "        [6, 7],\n",
              "        [1, 8]], dtype=int32)>)"
            ]
          },
          "metadata": {},
          "execution_count": 143
        }
      ]
    },
    {
      "cell_type": "code",
      "source": [
        "# tf.matmul(matrix_1, matrix_2)"
      ],
      "metadata": {
        "id": "waTKgEEJJlDI"
      },
      "execution_count": null,
      "outputs": []
    },
    {
      "cell_type": "code",
      "source": [
        "# Lets change the shape of matrix\n",
        "updated_matrix = tf.reshape(matrix_2, shape=(2,3))\n",
        "\n",
        "tf.matmul(matrix_1, updated_matrix)"
      ],
      "metadata": {
        "colab": {
          "base_uri": "https://localhost:8080/"
        },
        "id": "yiy8M8ODKmL-",
        "outputId": "6ad1d2a4-e362-4e8c-9bbf-e7d9d836775d"
      },
      "execution_count": null,
      "outputs": [
        {
          "output_type": "execute_result",
          "data": {
            "text/plain": [
              "<tf.Tensor: shape=(3, 3), dtype=int32, numpy=\n",
              "array([[16,  7, 22],\n",
              "       [34, 19, 50],\n",
              "       [17, 26, 38]], dtype=int32)>"
            ]
          },
          "metadata": {},
          "execution_count": 145
        }
      ]
    },
    {
      "cell_type": "markdown",
      "source": [
        "\n"
      ],
      "metadata": {
        "id": "ZzuWBO0_K9qt"
      }
    },
    {
      "cell_type": "code",
      "source": [
        "# Can do the same with transpose\n",
        "tf.transpose(matrix_1) , tf.reshape(matrix_1, shape=(2,3))"
      ],
      "metadata": {
        "colab": {
          "base_uri": "https://localhost:8080/"
        },
        "id": "K3MGF_kTK4Kn",
        "outputId": "395f22bc-5fc3-48e5-88c0-ddae0017282b"
      },
      "execution_count": null,
      "outputs": [
        {
          "output_type": "execute_result",
          "data": {
            "text/plain": [
              "(<tf.Tensor: shape=(2, 3), dtype=int32, numpy=\n",
              " array([[1, 3, 5],\n",
              "        [2, 4, 1]], dtype=int32)>,\n",
              " <tf.Tensor: shape=(2, 3), dtype=int32, numpy=\n",
              " array([[1, 2, 3],\n",
              "        [4, 5, 1]], dtype=int32)>)"
            ]
          },
          "metadata": {},
          "execution_count": 146
        }
      ]
    },
    {
      "cell_type": "markdown",
      "source": [
        "# The Dot Product\n",
        "\n",
        "Matrix Multiplication is also referred as the dot product\n",
        "\n",
        "You can perform matri Multiplication using\n",
        "\n",
        "* tf.matmul()\n",
        "* tf.tensordot()"
      ],
      "metadata": {
        "id": "-musg5rAx5Qx"
      }
    },
    {
      "cell_type": "code",
      "source": [
        "#Perform the dot product on X and Y (requires X or Y to be transpose )\n",
        "X = matrix_1\n",
        "Y = matrix_2\n",
        "\n",
        "X, Y ,tf.tensordot(tf.transpose(X), Y, axes=1)\n"
      ],
      "metadata": {
        "colab": {
          "base_uri": "https://localhost:8080/"
        },
        "id": "Hg2rSe7Qxt5F",
        "outputId": "b25bf663-02d0-49fc-a5b4-0604aa119263"
      },
      "execution_count": null,
      "outputs": [
        {
          "output_type": "execute_result",
          "data": {
            "text/plain": [
              "(<tf.Tensor: shape=(3, 2), dtype=int32, numpy=\n",
              " array([[1, 2],\n",
              "        [3, 4],\n",
              "        [5, 1]], dtype=int32)>,\n",
              " <tf.Tensor: shape=(3, 2), dtype=int32, numpy=\n",
              " array([[2, 5],\n",
              "        [6, 7],\n",
              "        [1, 8]], dtype=int32)>,\n",
              " <tf.Tensor: shape=(2, 2), dtype=int32, numpy=\n",
              " array([[25, 66],\n",
              "        [29, 46]], dtype=int32)>)"
            ]
          },
          "metadata": {},
          "execution_count": 147
        }
      ]
    },
    {
      "cell_type": "code",
      "source": [
        "# perform matrix multiplication between X and Y ( transposed)\n",
        "tf.matmul(X, tf.transpose(Y))"
      ],
      "metadata": {
        "colab": {
          "base_uri": "https://localhost:8080/"
        },
        "id": "L2DJfwfuycte",
        "outputId": "c84c286c-7d5d-45e5-a4de-8f92a7c96ce6"
      },
      "execution_count": null,
      "outputs": [
        {
          "output_type": "execute_result",
          "data": {
            "text/plain": [
              "<tf.Tensor: shape=(3, 3), dtype=int32, numpy=\n",
              "array([[12, 20, 17],\n",
              "       [26, 46, 35],\n",
              "       [15, 37, 13]], dtype=int32)>"
            ]
          },
          "metadata": {},
          "execution_count": 148
        }
      ]
    },
    {
      "cell_type": "code",
      "source": [
        "# perform matrix multiplication between X and Y ( reshaped)\n",
        "tf.matmul(X, tf.reshape(Y, shape=(2,3)))"
      ],
      "metadata": {
        "colab": {
          "base_uri": "https://localhost:8080/"
        },
        "id": "XHnL--QOylXH",
        "outputId": "64621f58-7b27-447a-d085-dc8623950952"
      },
      "execution_count": null,
      "outputs": [
        {
          "output_type": "execute_result",
          "data": {
            "text/plain": [
              "<tf.Tensor: shape=(3, 3), dtype=int32, numpy=\n",
              "array([[16,  7, 22],\n",
              "       [34, 19, 50],\n",
              "       [17, 26, 38]], dtype=int32)>"
            ]
          },
          "metadata": {},
          "execution_count": 149
        }
      ]
    },
    {
      "cell_type": "code",
      "source": [
        "# Check the values of Y , transpose of Y\n",
        "print(\"Normal Y:\")\n",
        "print(Y, \"\\n\")\n",
        "print(\"Y reshaped to (2,3):\")\n",
        "print(tf.reshape(Y, (2,3)), \"\\n\")\n",
        "print(\"Y transposed:\")\n",
        "print(tf.transpose(Y))\n",
        "#"
      ],
      "metadata": {
        "colab": {
          "base_uri": "https://localhost:8080/"
        },
        "id": "icus3d6Hy1lE",
        "outputId": "5e8787f8-9a8a-4c57-aad0-66ff1ca4b66e"
      },
      "execution_count": null,
      "outputs": [
        {
          "output_type": "stream",
          "name": "stdout",
          "text": [
            "Normal Y:\n",
            "tf.Tensor(\n",
            "[[2 5]\n",
            " [6 7]\n",
            " [1 8]], shape=(3, 2), dtype=int32) \n",
            "\n",
            "Y reshaped to (2,3):\n",
            "tf.Tensor(\n",
            "[[2 5 6]\n",
            " [7 1 8]], shape=(2, 3), dtype=int32) \n",
            "\n",
            "Y transposed:\n",
            "tf.Tensor(\n",
            "[[2 6 1]\n",
            " [5 7 8]], shape=(2, 3), dtype=int32)\n"
          ]
        }
      ]
    },
    {
      "cell_type": "code",
      "source": [],
      "metadata": {
        "id": "4tT46FveCkMD"
      },
      "execution_count": null,
      "outputs": []
    },
    {
      "cell_type": "markdown",
      "source": [
        "# Changing the data type of tensors\n"
      ],
      "metadata": {
        "id": "UCgRhonMClT9"
      }
    }
  ]
}