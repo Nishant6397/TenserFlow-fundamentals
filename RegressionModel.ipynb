{
  "nbformat": 4,
  "nbformat_minor": 0,
  "metadata": {
    "colab": {
      "provenance": [],
      "toc_visible": true,
      "authorship_tag": "ABX9TyPCWwdc1r+4IezmtX4ONf8o",
      "include_colab_link": true
    },
    "kernelspec": {
      "name": "python3",
      "display_name": "Python 3"
    },
    "language_info": {
      "name": "python"
    }
  },
  "cells": [
    {
      "cell_type": "markdown",
      "metadata": {
        "id": "view-in-github",
        "colab_type": "text"
      },
      "source": [
        "<a href=\"https://colab.research.google.com/github/Nishant6397/TenserFlow-fundamentals/blob/main/RegressionModel.ipynb\" target=\"_parent\"><img src=\"https://colab.research.google.com/assets/colab-badge.svg\" alt=\"Open In Colab\"/></a>"
      ]
    },
    {
      "cell_type": "markdown",
      "source": [
        "### Introduction to Regression with neural networkds in tenserflow"
      ],
      "metadata": {
        "id": "Iw9bWwrpGawL"
      }
    },
    {
      "cell_type": "code",
      "execution_count": 1,
      "metadata": {
        "colab": {
          "base_uri": "https://localhost:8080/"
        },
        "id": "T9xyAZQ_8Vrj",
        "outputId": "a17a5de8-fa89-4b98-bedc-4f1a1145cb18"
      },
      "outputs": [
        {
          "output_type": "stream",
          "name": "stdout",
          "text": [
            "2.15.0\n"
          ]
        }
      ],
      "source": [
        "import tensorflow as tf\n",
        "print(tf.__version__)"
      ]
    },
    {
      "cell_type": "markdown",
      "source": [
        "# Creating data to view and fit"
      ],
      "metadata": {
        "id": "VhU0u_aNGuLL"
      }
    },
    {
      "cell_type": "code",
      "source": [
        "import numpy as np\n",
        "import matplotlib.pyplot as plt\n",
        "\n",
        "#Create features\n",
        "X = np.array([-7.0, -4.0, -1.0, 2.0, 5.0, 8.0, 11.0, 14.0])\n",
        "\n",
        "#Create labels\n",
        "Y = np.array([3.0, 6.0, 9.0, 12.0, 15.0, 18.0, 21.0, 24.0])\n",
        "\n",
        "#Visualize it\n",
        "plt.scatter(X, Y)"
      ],
      "metadata": {
        "colab": {
          "base_uri": "https://localhost:8080/",
          "height": 452
        },
        "id": "dBPrXdwbGtQn",
        "outputId": "fd89a9c6-ed0d-4ac1-a5db-b9d13361ccaa"
      },
      "execution_count": 2,
      "outputs": [
        {
          "output_type": "execute_result",
          "data": {
            "text/plain": [
              "<matplotlib.collections.PathCollection at 0x7e48b60ff730>"
            ]
          },
          "metadata": {},
          "execution_count": 2
        },
        {
          "output_type": "display_data",
          "data": {
            "text/plain": [
              "<Figure size 640x480 with 1 Axes>"
            ],
            "image/png": "[encoded data removed]"
          },
          "metadata": {}
        }
      ]
    },
    {
      "cell_type": "code",
      "source": [
        "Y== X +10"
      ],
      "metadata": {
        "colab": {
          "base_uri": "https://localhost:8080/"
        },
        "id": "6WpzQsaVHopj",
        "outputId": "771cf331-803e-41f0-f3e4-1841b74a4840"
      },
      "execution_count": 3,
      "outputs": [
        {
          "output_type": "execute_result",
          "data": {
            "text/plain": [
              "array([ True,  True,  True,  True,  True,  True,  True,  True])"
            ]
          },
          "metadata": {},
          "execution_count": 3
        }
      ]
    },
    {
      "cell_type": "markdown",
      "source": [
        "# Input and output Shapes"
      ],
      "metadata": {
        "id": "RFhSMPKHHd7s"
      }
    },
    {
      "cell_type": "code",
      "source": [
        "# Create a demo tensor for our housing price prediction problem\n",
        "house_info = tf.constant(['bedroom', 'bathroom', 'garage'])\n",
        "house_price = tf.constant([939700])\n",
        "house_info, house_price"
      ],
      "metadata": {
        "colab": {
          "base_uri": "https://localhost:8080/"
        },
        "id": "flFMemTaHuyp",
        "outputId": "6b3a1db6-d1b6-4f1f-b094-1a70ba81f976"
      },
      "execution_count": 4,
      "outputs": [
        {
          "output_type": "execute_result",
          "data": {
            "text/plain": [
              "(<tf.Tensor: shape=(3,), dtype=string, numpy=array([b'bedroom', b'bathroom', b'garage'], dtype=object)>,\n",
              " <tf.Tensor: shape=(1,), dtype=int32, numpy=array([939700], dtype=int32)>)"
            ]
          },
          "metadata": {},
          "execution_count": 4
        }
      ]
    },
    {
      "cell_type": "code",
      "source": [
        "input_shape = X.shape\n",
        "output_shape = Y.shape\n",
        "input_shape, output_shape"
      ],
      "metadata": {
        "colab": {
          "base_uri": "https://localhost:8080/"
        },
        "id": "fVMXhRpLIB2m",
        "outputId": "c6348f43-d5f3-4174-f87f-18189eec095d"
      },
      "execution_count": 5,
      "outputs": [
        {
          "output_type": "execute_result",
          "data": {
            "text/plain": [
              "((8,), (8,))"
            ]
          },
          "metadata": {},
          "execution_count": 5
        }
      ]
    },
    {
      "cell_type": "code",
      "source": [
        "X[0], Y[0]"
      ],
      "metadata": {
        "colab": {
          "base_uri": "https://localhost:8080/"
        },
        "id": "T2xrXydyIn07",
        "outputId": "ef6f1633-c2ec-4f37-9f0a-93df75350710"
      },
      "execution_count": 6,
      "outputs": [
        {
          "output_type": "execute_result",
          "data": {
            "text/plain": [
              "(-7.0, 3.0)"
            ]
          },
          "metadata": {},
          "execution_count": 6
        }
      ]
    },
    {
      "cell_type": "code",
      "source": [
        "# Turn our Numpy arrays into tensors\n",
        "X = tf.constant(X)\n",
        "Y = tf.constant(Y)\n",
        "# X, Y"
      ],
      "metadata": {
        "id": "owRp1rIRI33P"
      },
      "execution_count": 7,
      "outputs": []
    },
    {
      "cell_type": "code",
      "source": [
        "# when there no dmension it is a scalar value\n",
        "\n",
        "input_shape = X[0].shape\n",
        "output_shape = Y[0].shape\n",
        "input_shape, output_shape\n"
      ],
      "metadata": {
        "colab": {
          "base_uri": "https://localhost:8080/"
        },
        "id": "P322_LbEI_uj",
        "outputId": "b14c235d-df0b-4c2d-ab13-44262a245fcc"
      },
      "execution_count": 8,
      "outputs": [
        {
          "output_type": "execute_result",
          "data": {
            "text/plain": [
              "(TensorShape([]), TensorShape([]))"
            ]
          },
          "metadata": {},
          "execution_count": 8
        }
      ]
    },
    {
      "cell_type": "code",
      "source": [
        "plt.scatter(X,Y)"
      ],
      "metadata": {
        "colab": {
          "base_uri": "https://localhost:8080/",
          "height": 452
        },
        "id": "utTXDdMYJL1r",
        "outputId": "b46a27bc-d68a-431c-cc02-7a07c7fe8b6a"
      },
      "execution_count": 9,
      "outputs": [
        {
          "output_type": "execute_result",
          "data": {
            "text/plain": [
              "<matplotlib.collections.PathCollection at 0x7e48b1d5e620>"
            ]
          },
          "metadata": {},
          "execution_count": 9
        },
        {
          "output_type": "display_data",
          "data": {
            "text/plain": [
              "<Figure size 640x480 with 1 Axes>"
            ],
            "image/png": "[encoded data removed]"
          },
          "metadata": {}
        }
      ]
    },
    {
      "cell_type": "markdown",
      "source": [
        "### Steps in Modelling with Tenserflow\n",
        "1. Create a model -> define the input and output layers, as well as the hidden layers\n",
        "2. Compile the model -> Define the loss (in other words the function which tells our model how wrong it is) and the optimizer (tells our model how to improve the patterns it has learning) and evaluation metrics (What we can use to interpret the performance of our model)\n",
        "3. Fit the model -> Letting the model try to find patterns between X and Y (features and labels)\n",
        "\n",
        "https://www.tensorflow.org/api_docs/python/tf/keras/losses/MeanAbsoluteError\n",
        "\n",
        "Learn about Stochastic Gradient Descent"
      ],
      "metadata": {
        "id": "ikiJa4MFJyjG"
      }
    },
    {
      "cell_type": "code",
      "source": [
        "# Set random seed\n",
        "tf.random.set_seed(42)\n",
        "\n",
        "# 1. Create a model using the Sequential API\n",
        "model = tf.keras.Sequential([\n",
        "    tf.keras.layers.Dense(1)\n",
        "])\n",
        "\n",
        "# 2 Compile the mode\n",
        "model.compile(loss= tf.keras.losses.mae,\n",
        "              optimizer = tf.keras.optimizers.SGD(), metrics= ['mae']) # mae mean absolute error -> comparision between predicted vs actual\n",
        "\n",
        "\n",
        "# 3. Fit the model\n",
        "model.fit(tf.expand_dims(X, axis=1),Y , epochs=1000)\n"
      ],
      "metadata": {
        "colab": {
          "base_uri": "https://localhost:8080/"
        },
        "id": "XTks2PtgJO4i",
        "outputId": "9dd96f02-9187-4fd5-9327-66b1f17af0c5"
      },
      "execution_count": 10,
      "outputs": [
        {
          "output_type": "stream",
          "name": "stdout",
          "text": [
            "Epoch 1/1000\n",
            "1/1 [==============================] - 1s 1s/step - loss: 19.6315 - mae: 19.6315\n",
            "Epoch 2/1000\n",
            "1/1 [==============================] - 0s 22ms/step - loss: 19.3503 - mae: 19.3503\n",
            "Epoch 3/1000\n",
            "1/1 [==============================] - 0s 15ms/step - loss: 19.0690 - mae: 19.0690\n",
            "Epoch 4/1000\n",
            "1/1 [==============================] - 0s 21ms/step - loss: 18.7878 - mae: 18.7878\n",
            "Epoch 5/1000\n",
            "1/1 [==============================] - 0s 19ms/step - loss: 18.5065 - mae: 18.5065\n",
            "Epoch 6/1000\n",
            "1/1 [==============================] - 0s 43ms/step - loss: 18.2253 - mae: 18.2253\n",
            "Epoch 7/1000\n",
            "1/1 [==============================] - 0s 17ms/step - loss: 17.9440 - mae: 17.9440\n",
            "Epoch 8/1000\n",
            "1/1 [==============================] - 0s 21ms/step - loss: 17.6628 - mae: 17.6628\n",
            "Epoch 9/1000\n",
            "1/1 [==============================] - 0s 23ms/step - loss: 17.3815 - mae: 17.3815\n",
            "Epoch 10/1000\n",
            "1/1 [==============================] - 0s 73ms/step - loss: 17.1003 - mae: 17.1003\n",
            "Epoch 11/1000\n",
            "1/1 [==============================] - 0s 21ms/step - loss: 16.8190 - mae: 16.8190\n",
            "Epoch 12/1000\n",
            "1/1 [==============================] - 0s 34ms/step - loss: 16.5378 - mae: 16.5378\n",
            "Epoch 13/1000\n",
            "1/1 [==============================] - 0s 23ms/step - loss: 16.2565 - mae: 16.2565\n",
            "Epoch 14/1000\n",
            "1/1 [==============================] - 0s 53ms/step - loss: 15.9753 - mae: 15.9753\n",
            "Epoch 15/1000\n",
            "1/1 [==============================] - 0s 29ms/step - loss: 15.6940 - mae: 15.6940\n",
            "Epoch 16/1000\n",
            "1/1 [==============================] - 0s 22ms/step - loss: 15.4128 - mae: 15.4128\n",
            "Epoch 17/1000\n",
            "1/1 [==============================] - 0s 75ms/step - loss: 15.1315 - mae: 15.1315\n",
            "Epoch 18/1000\n",
            "1/1 [==============================] - 0s 20ms/step - loss: 14.8503 - mae: 14.8503\n",
            "Epoch 19/1000\n",
            "1/1 [==============================] - 0s 20ms/step - loss: 14.6452 - mae: 14.6452\n",
            "Epoch 20/1000\n",
            "1/1 [==============================] - 0s 68ms/step - loss: 14.5127 - mae: 14.5127\n",
            "Epoch 21/1000\n",
            "1/1 [==============================] - 0s 30ms/step - loss: 14.3802 - mae: 14.3802\n",
            "Epoch 22/1000\n",
            "1/1 [==============================] - 0s 36ms/step - loss: 14.2477 - mae: 14.2477\n",
            "Epoch 23/1000\n",
            "1/1 [==============================] - 0s 32ms/step - loss: 14.1152 - mae: 14.1152\n",
            "Epoch 24/1000\n",
            "1/1 [==============================] - 0s 31ms/step - loss: 13.9827 - mae: 13.9827\n",
            "Epoch 25/1000\n",
            "1/1 [==============================] - 0s 77ms/step - loss: 13.8502 - mae: 13.8502\n",
            "Epoch 26/1000\n",
            "1/1 [==============================] - 0s 47ms/step - loss: 13.7177 - mae: 13.7177\n",
            "Epoch 27/1000\n",
            "1/1 [==============================] - 0s 61ms/step - loss: 13.5852 - mae: 13.5852\n",
            "Epoch 28/1000\n",
            "1/1 [==============================] - 0s 64ms/step - loss: 13.4527 - mae: 13.4527\n",
            "Epoch 29/1000\n",
            "1/1 [==============================] - 0s 54ms/step - loss: 13.3202 - mae: 13.3202\n",
            "Epoch 30/1000\n",
            "1/1 [==============================] - 0s 53ms/step - loss: 13.1877 - mae: 13.1877\n",
            "Epoch 31/1000\n",
            "1/1 [==============================] - 0s 75ms/step - loss: 13.0552 - mae: 13.0552\n",
            "Epoch 32/1000\n",
            "1/1 [==============================] - 0s 39ms/step - loss: 12.9227 - mae: 12.9227\n",
            "Epoch 33/1000\n",
            "1/1 [==============================] - 0s 24ms/step - loss: 12.7902 - mae: 12.7902\n",
            "Epoch 34/1000\n",
            "1/1 [==============================] - 0s 48ms/step - loss: 12.6577 - mae: 12.6577\n",
            "Epoch 35/1000\n",
            "1/1 [==============================] - 0s 23ms/step - loss: 12.5252 - mae: 12.5252\n",
            "Epoch 36/1000\n",
            "1/1 [==============================] - 0s 24ms/step - loss: 12.3927 - mae: 12.3927\n",
            "Epoch 37/1000\n",
            "1/1 [==============================] - 0s 62ms/step - loss: 12.2602 - mae: 12.2602\n",
            "Epoch 38/1000\n",
            "1/1 [==============================] - 0s 36ms/step - loss: 12.1277 - mae: 12.1277\n",
            "Epoch 39/1000\n",
            "1/1 [==============================] - 0s 36ms/step - loss: 11.9952 - mae: 11.9952\n",
            "Epoch 40/1000\n",
            "1/1 [==============================] - 0s 83ms/step - loss: 11.8627 - mae: 11.8627\n",
            "Epoch 41/1000\n",
            "1/1 [==============================] - 0s 52ms/step - loss: 11.7302 - mae: 11.7302\n",
            "Epoch 42/1000\n",
            "1/1 [==============================] - 0s 36ms/step - loss: 11.5977 - mae: 11.5977\n",
            "Epoch 43/1000\n",
            "1/1 [==============================] - 0s 36ms/step - loss: 11.4652 - mae: 11.4652\n",
            "Epoch 44/1000\n",
            "1/1 [==============================] - 0s 62ms/step - loss: 11.3327 - mae: 11.3327\n",
            "Epoch 45/1000\n",
            "1/1 [==============================] - 0s 80ms/step - loss: 11.2002 - mae: 11.2002\n",
            "Epoch 46/1000\n",
            "1/1 [==============================] - 0s 47ms/step - loss: 11.0677 - mae: 11.0677\n",
            "Epoch 47/1000\n",
            "1/1 [==============================] - 0s 42ms/step - loss: 10.9352 - mae: 10.9352\n",
            "Epoch 48/1000\n",
            "1/1 [==============================] - 0s 36ms/step - loss: 10.8027 - mae: 10.8027\n",
            "Epoch 49/1000\n",
            "1/1 [==============================] - 0s 13ms/step - loss: 10.6702 - mae: 10.6702\n",
            "Epoch 50/1000\n",
            "1/1 [==============================] - 0s 26ms/step - loss: 10.5377 - mae: 10.5377\n",
            "Epoch 51/1000\n",
            "1/1 [==============================] - 0s 19ms/step - loss: 10.4052 - mae: 10.4052\n",
            "Epoch 52/1000\n",
            "1/1 [==============================] - 0s 14ms/step - loss: 10.2727 - mae: 10.2727\n",
            "Epoch 53/1000\n",
            "1/1 [==============================] - 0s 14ms/step - loss: 10.1402 - mae: 10.1402\n",
            "Epoch 54/1000\n",
            "1/1 [==============================] - 0s 13ms/step - loss: 10.0077 - mae: 10.0077\n",
            "Epoch 55/1000\n",
            "1/1 [==============================] - 0s 13ms/step - loss: 9.8752 - mae: 9.8752\n",
            "Epoch 56/1000\n",
            "1/1 [==============================] - 0s 14ms/step - loss: 9.7427 - mae: 9.7427\n",
            "Epoch 57/1000\n",
            "1/1 [==============================] - 0s 16ms/step - loss: 9.6102 - mae: 9.6102\n",
            "Epoch 58/1000\n",
            "1/1 [==============================] - 0s 11ms/step - loss: 9.4777 - mae: 9.4777\n",
            "Epoch 59/1000\n",
            "1/1 [==============================] - 0s 14ms/step - loss: 9.3452 - mae: 9.3452\n",
            "Epoch 60/1000\n",
            "1/1 [==============================] - 0s 14ms/step - loss: 9.2127 - mae: 9.2127\n",
            "Epoch 61/1000\n",
            "1/1 [==============================] - 0s 10ms/step - loss: 9.0802 - mae: 9.0802\n",
            "Epoch 62/1000\n",
            "1/1 [==============================] - 0s 13ms/step - loss: 8.9477 - mae: 8.9477\n",
            "Epoch 63/1000\n",
            "1/1 [==============================] - 0s 14ms/step - loss: 8.8152 - mae: 8.8152\n",
            "Epoch 64/1000\n",
            "1/1 [==============================] - 0s 9ms/step - loss: 8.6827 - mae: 8.6827\n",
            "Epoch 65/1000\n",
            "1/1 [==============================] - 0s 14ms/step - loss: 8.5502 - mae: 8.5502\n",
            "Epoch 66/1000\n",
            "1/1 [==============================] - 0s 15ms/step - loss: 8.4177 - mae: 8.4177\n",
            "Epoch 67/1000\n",
            "1/1 [==============================] - 0s 19ms/step - loss: 8.2852 - mae: 8.2852\n",
            "Epoch 68/1000\n",
            "1/1 [==============================] - 0s 16ms/step - loss: 8.1527 - mae: 8.1527\n",
            "Epoch 69/1000\n",
            "1/1 [==============================] - 0s 26ms/step - loss: 8.0202 - mae: 8.0202\n",
            "Epoch 70/1000\n",
            "1/1 [==============================] - 0s 21ms/step - loss: 7.8877 - mae: 7.8877\n",
            "Epoch 71/1000\n",
            "1/1 [==============================] - 0s 27ms/step - loss: 7.7552 - mae: 7.7552\n",
            "Epoch 72/1000\n",
            "1/1 [==============================] - 0s 26ms/step - loss: 7.6227 - mae: 7.6227\n",
            "Epoch 73/1000\n",
            "1/1 [==============================] - 0s 25ms/step - loss: 7.4902 - mae: 7.4902\n",
            "Epoch 74/1000\n",
            "1/1 [==============================] - 0s 24ms/step - loss: 7.3577 - mae: 7.3577\n",
            "Epoch 75/1000\n",
            "1/1 [==============================] - 0s 26ms/step - loss: 7.2252 - mae: 7.2252\n",
            "Epoch 76/1000\n",
            "1/1 [==============================] - 0s 15ms/step - loss: 7.0927 - mae: 7.0927\n",
            "Epoch 77/1000\n",
            "1/1 [==============================] - 0s 12ms/step - loss: 6.9638 - mae: 6.9638\n",
            "Epoch 78/1000\n",
            "1/1 [==============================] - 0s 11ms/step - loss: 6.9581 - mae: 6.9581\n",
            "Epoch 79/1000\n",
            "1/1 [==============================] - 0s 14ms/step - loss: 6.9525 - mae: 6.9525\n",
            "Epoch 80/1000\n",
            "1/1 [==============================] - 0s 33ms/step - loss: 6.9469 - mae: 6.9469\n",
            "Epoch 81/1000\n",
            "1/1 [==============================] - 0s 22ms/step - loss: 6.9412 - mae: 6.9412\n",
            "Epoch 82/1000\n",
            "1/1 [==============================] - 0s 21ms/step - loss: 6.9356 - mae: 6.9356\n",
            "Epoch 83/1000\n",
            "1/1 [==============================] - 0s 31ms/step - loss: 6.9300 - mae: 6.9300\n",
            "Epoch 84/1000\n",
            "1/1 [==============================] - 0s 23ms/step - loss: 6.9244 - mae: 6.9244\n",
            "Epoch 85/1000\n",
            "1/1 [==============================] - 0s 12ms/step - loss: 6.9188 - mae: 6.9188\n",
            "Epoch 86/1000\n",
            "1/1 [==============================] - 0s 28ms/step - loss: 6.9131 - mae: 6.9131\n",
            "Epoch 87/1000\n",
            "1/1 [==============================] - 0s 31ms/step - loss: 6.9075 - mae: 6.9075\n",
            "Epoch 88/1000\n",
            "1/1 [==============================] - 0s 19ms/step - loss: 6.9019 - mae: 6.9019\n",
            "Epoch 89/1000\n",
            "1/1 [==============================] - 0s 13ms/step - loss: 6.8963 - mae: 6.8963\n",
            "Epoch 90/1000\n",
            "1/1 [==============================] - 0s 19ms/step - loss: 6.8906 - mae: 6.8906\n",
            "Epoch 91/1000\n",
            "1/1 [==============================] - 0s 29ms/step - loss: 6.8850 - mae: 6.8850\n",
            "Epoch 92/1000\n",
            "1/1 [==============================] - 0s 40ms/step - loss: 6.8794 - mae: 6.8794\n",
            "Epoch 93/1000\n",
            "1/1 [==============================] - 0s 36ms/step - loss: 6.8738 - mae: 6.8738\n",
            "Epoch 94/1000\n",
            "1/1 [==============================] - 0s 24ms/step - loss: 6.8681 - mae: 6.8681\n",
            "Epoch 95/1000\n",
            "1/1 [==============================] - 0s 24ms/step - loss: 6.8625 - mae: 6.8625\n",
            "Epoch 96/1000\n",
            "1/1 [==============================] - 0s 42ms/step - loss: 6.8569 - mae: 6.8569\n",
            "Epoch 97/1000\n",
            "1/1 [==============================] - 0s 33ms/step - loss: 6.8513 - mae: 6.8513\n",
            "Epoch 98/1000\n",
            "1/1 [==============================] - 0s 32ms/step - loss: 6.8456 - mae: 6.8456\n",
            "Epoch 99/1000\n",
            "1/1 [==============================] - 0s 48ms/step - loss: 6.8400 - mae: 6.8400\n",
            "Epoch 100/1000\n",
            "1/1 [==============================] - 0s 66ms/step - loss: 6.8344 - mae: 6.8344\n",
            "Epoch 101/1000\n",
            "1/1 [==============================] - 0s 39ms/step - loss: 6.8288 - mae: 6.8288\n",
            "Epoch 102/1000\n",
            "1/1 [==============================] - 0s 68ms/step - loss: 6.8231 - mae: 6.8231\n",
            "Epoch 103/1000\n",
            "1/1 [==============================] - 0s 45ms/step - loss: 6.8175 - mae: 6.8175\n",
            "Epoch 104/1000\n",
            "1/1 [==============================] - 0s 44ms/step - loss: 6.8119 - mae: 6.8119\n",
            "Epoch 105/1000\n",
            "1/1 [==============================] - 0s 27ms/step - loss: 6.8063 - mae: 6.8063\n",
            "Epoch 106/1000\n",
            "1/1 [==============================] - 0s 22ms/step - loss: 6.8006 - mae: 6.8006\n",
            "Epoch 107/1000\n",
            "1/1 [==============================] - 0s 15ms/step - loss: 6.7950 - mae: 6.7950\n",
            "Epoch 108/1000\n",
            "1/1 [==============================] - 0s 18ms/step - loss: 6.7894 - mae: 6.7894\n",
            "Epoch 109/1000\n",
            "1/1 [==============================] - 0s 26ms/step - loss: 6.7838 - mae: 6.7838\n",
            "Epoch 110/1000\n",
            "1/1 [==============================] - 0s 14ms/step - loss: 6.7781 - mae: 6.7781\n",
            "Epoch 111/1000\n",
            "1/1 [==============================] - 0s 20ms/step - loss: 6.7725 - mae: 6.7725\n",
            "Epoch 112/1000\n",
            "1/1 [==============================] - 0s 17ms/step - loss: 6.7669 - mae: 6.7669\n",
            "Epoch 113/1000\n",
            "1/1 [==============================] - 0s 16ms/step - loss: 6.7613 - mae: 6.7613\n",
            "Epoch 114/1000\n",
            "1/1 [==============================] - 0s 35ms/step - loss: 6.7556 - mae: 6.7556\n",
            "Epoch 115/1000\n",
            "1/1 [==============================] - 0s 25ms/step - loss: 6.7500 - mae: 6.7500\n",
            "Epoch 116/1000\n",
            "1/1 [==============================] - 0s 24ms/step - loss: 6.7444 - mae: 6.7444\n",
            "Epoch 117/1000\n",
            "1/1 [==============================] - 0s 30ms/step - loss: 6.7388 - mae: 6.7388\n",
            "Epoch 118/1000\n",
            "1/1 [==============================] - 0s 23ms/step - loss: 6.7331 - mae: 6.7331\n",
            "Epoch 119/1000\n",
            "1/1 [==============================] - 0s 16ms/step - loss: 6.7275 - mae: 6.7275\n",
            "Epoch 120/1000\n",
            "1/1 [==============================] - 0s 18ms/step - loss: 6.7219 - mae: 6.7219\n",
            "Epoch 121/1000\n",
            "1/1 [==============================] - 0s 25ms/step - loss: 6.7163 - mae: 6.7163\n",
            "Epoch 122/1000\n",
            "1/1 [==============================] - 0s 20ms/step - loss: 6.7106 - mae: 6.7106\n",
            "Epoch 123/1000\n",
            "1/1 [==============================] - 0s 22ms/step - loss: 6.7050 - mae: 6.7050\n",
            "Epoch 124/1000\n",
            "1/1 [==============================] - 0s 24ms/step - loss: 6.6994 - mae: 6.6994\n",
            "Epoch 125/1000\n",
            "1/1 [==============================] - 0s 38ms/step - loss: 6.6938 - mae: 6.6938\n",
            "Epoch 126/1000\n",
            "1/1 [==============================] - 0s 34ms/step - loss: 6.6881 - mae: 6.6881\n",
            "Epoch 127/1000\n",
            "1/1 [==============================] - 0s 33ms/step - loss: 6.6825 - mae: 6.6825\n",
            "Epoch 128/1000\n",
            "1/1 [==============================] - 0s 38ms/step - loss: 6.6769 - mae: 6.6769\n",
            "Epoch 129/1000\n",
            "1/1 [==============================] - 0s 37ms/step - loss: 6.6712 - mae: 6.6712\n",
            "Epoch 130/1000\n",
            "1/1 [==============================] - 0s 41ms/step - loss: 6.6656 - mae: 6.6656\n",
            "Epoch 131/1000\n",
            "1/1 [==============================] - 0s 39ms/step - loss: 6.6600 - mae: 6.6600\n",
            "Epoch 132/1000\n",
            "1/1 [==============================] - 0s 31ms/step - loss: 6.6544 - mae: 6.6544\n",
            "Epoch 133/1000\n",
            "1/1 [==============================] - 0s 29ms/step - loss: 6.6488 - mae: 6.6488\n",
            "Epoch 134/1000\n",
            "1/1 [==============================] - 0s 26ms/step - loss: 6.6431 - mae: 6.6431\n",
            "Epoch 135/1000\n",
            "1/1 [==============================] - 0s 17ms/step - loss: 6.6375 - mae: 6.6375\n",
            "Epoch 136/1000\n",
            "1/1 [==============================] - 0s 18ms/step - loss: 6.6319 - mae: 6.6319\n",
            "Epoch 137/1000\n",
            "1/1 [==============================] - 0s 19ms/step - loss: 6.6263 - mae: 6.6263\n",
            "Epoch 138/1000\n",
            "1/1 [==============================] - 0s 19ms/step - loss: 6.6206 - mae: 6.6206\n",
            "Epoch 139/1000\n",
            "1/1 [==============================] - 0s 16ms/step - loss: 6.6150 - mae: 6.6150\n",
            "Epoch 140/1000\n",
            "1/1 [==============================] - 0s 13ms/step - loss: 6.6094 - mae: 6.6094\n",
            "Epoch 141/1000\n",
            "1/1 [==============================] - 0s 12ms/step - loss: 6.6037 - mae: 6.6037\n",
            "Epoch 142/1000\n",
            "1/1 [==============================] - 0s 12ms/step - loss: 6.5981 - mae: 6.5981\n",
            "Epoch 143/1000\n",
            "1/1 [==============================] - 0s 11ms/step - loss: 6.5925 - mae: 6.5925\n",
            "Epoch 144/1000\n",
            "1/1 [==============================] - 0s 17ms/step - loss: 6.5869 - mae: 6.5869\n",
            "Epoch 145/1000\n",
            "1/1 [==============================] - 0s 16ms/step - loss: 6.5812 - mae: 6.5812\n",
            "Epoch 146/1000\n",
            "1/1 [==============================] - 0s 14ms/step - loss: 6.5756 - mae: 6.5756\n",
            "Epoch 147/1000\n",
            "1/1 [==============================] - 0s 16ms/step - loss: 6.5700 - mae: 6.5700\n",
            "Epoch 148/1000\n",
            "1/1 [==============================] - 0s 17ms/step - loss: 6.5644 - mae: 6.5644\n",
            "Epoch 149/1000\n",
            "1/1 [==============================] - 0s 18ms/step - loss: 6.5587 - mae: 6.5587\n",
            "Epoch 150/1000\n",
            "1/1 [==============================] - 0s 21ms/step - loss: 6.5531 - mae: 6.5531\n",
            "Epoch 151/1000\n",
            "1/1 [==============================] - 0s 21ms/step - loss: 6.5475 - mae: 6.5475\n",
            "Epoch 152/1000\n",
            "1/1 [==============================] - 0s 24ms/step - loss: 6.5419 - mae: 6.5419\n",
            "Epoch 153/1000\n",
            "1/1 [==============================] - 0s 19ms/step - loss: 6.5362 - mae: 6.5362\n",
            "Epoch 154/1000\n",
            "1/1 [==============================] - 0s 18ms/step - loss: 6.5306 - mae: 6.5306\n",
            "Epoch 155/1000\n",
            "1/1 [==============================] - 0s 19ms/step - loss: 6.5250 - mae: 6.5250\n",
            "Epoch 156/1000\n",
            "1/1 [==============================] - 0s 20ms/step - loss: 6.5194 - mae: 6.5194\n",
            "Epoch 157/1000\n",
            "1/1 [==============================] - 0s 20ms/step - loss: 6.5137 - mae: 6.5137\n",
            "Epoch 158/1000\n",
            "1/1 [==============================] - 0s 20ms/step - loss: 6.5081 - mae: 6.5081\n",
            "Epoch 159/1000\n",
            "1/1 [==============================] - 0s 16ms/step - loss: 6.5025 - mae: 6.5025\n",
            "Epoch 160/1000\n",
            "1/1 [==============================] - 0s 19ms/step - loss: 6.4969 - mae: 6.4969\n",
            "Epoch 161/1000\n",
            "1/1 [==============================] - 0s 20ms/step - loss: 6.4912 - mae: 6.4912\n",
            "Epoch 162/1000\n",
            "1/1 [==============================] - 0s 19ms/step - loss: 6.4856 - mae: 6.4856\n",
            "Epoch 163/1000\n",
            "1/1 [==============================] - 0s 18ms/step - loss: 6.4800 - mae: 6.4800\n",
            "Epoch 164/1000\n",
            "1/1 [==============================] - 0s 19ms/step - loss: 6.4744 - mae: 6.4744\n",
            "Epoch 165/1000\n",
            "1/1 [==============================] - 0s 21ms/step - loss: 6.4687 - mae: 6.4687\n",
            "Epoch 166/1000\n",
            "1/1 [==============================] - 0s 21ms/step - loss: 6.4631 - mae: 6.4631\n",
            "Epoch 167/1000\n",
            "1/1 [==============================] - 0s 15ms/step - loss: 6.4575 - mae: 6.4575\n",
            "Epoch 168/1000\n",
            "1/1 [==============================] - 0s 15ms/step - loss: 6.4519 - mae: 6.4519\n",
            "Epoch 169/1000\n",
            "1/1 [==============================] - 0s 16ms/step - loss: 6.4462 - mae: 6.4462\n",
            "Epoch 170/1000\n",
            "1/1 [==============================] - 0s 21ms/step - loss: 6.4406 - mae: 6.4406\n",
            "Epoch 171/1000\n",
            "1/1 [==============================] - 0s 21ms/step - loss: 6.4350 - mae: 6.4350\n",
            "Epoch 172/1000\n",
            "1/1 [==============================] - 0s 60ms/step - loss: 6.4294 - mae: 6.4294\n",
            "Epoch 173/1000\n",
            "1/1 [==============================] - 0s 40ms/step - loss: 6.4237 - mae: 6.4237\n",
            "Epoch 174/1000\n",
            "1/1 [==============================] - 0s 24ms/step - loss: 6.4181 - mae: 6.4181\n",
            "Epoch 175/1000\n",
            "1/1 [==============================] - 0s 33ms/step - loss: 6.4125 - mae: 6.4125\n",
            "Epoch 176/1000\n",
            "1/1 [==============================] - 0s 20ms/step - loss: 6.4069 - mae: 6.4069\n",
            "Epoch 177/1000\n",
            "1/1 [==============================] - 0s 32ms/step - loss: 6.4012 - mae: 6.4012\n",
            "Epoch 178/1000\n",
            "1/1 [==============================] - 0s 22ms/step - loss: 6.3956 - mae: 6.3956\n",
            "Epoch 179/1000\n",
            "1/1 [==============================] - 0s 29ms/step - loss: 6.3900 - mae: 6.3900\n",
            "Epoch 180/1000\n",
            "1/1 [==============================] - 0s 15ms/step - loss: 6.3844 - mae: 6.3844\n",
            "Epoch 181/1000\n",
            "1/1 [==============================] - 0s 18ms/step - loss: 6.3787 - mae: 6.3787\n",
            "Epoch 182/1000\n",
            "1/1 [==============================] - 0s 14ms/step - loss: 6.3731 - mae: 6.3731\n",
            "Epoch 183/1000\n",
            "1/1 [==============================] - 0s 14ms/step - loss: 6.3675 - mae: 6.3675\n",
            "Epoch 184/1000\n",
            "1/1 [==============================] - 0s 14ms/step - loss: 6.3619 - mae: 6.3619\n",
            "Epoch 185/1000\n",
            "1/1 [==============================] - 0s 14ms/step - loss: 6.3562 - mae: 6.3562\n",
            "Epoch 186/1000\n",
            "1/1 [==============================] - 0s 13ms/step - loss: 6.3506 - mae: 6.3506\n",
            "Epoch 187/1000\n",
            "1/1 [==============================] - 0s 20ms/step - loss: 6.3450 - mae: 6.3450\n",
            "Epoch 188/1000\n",
            "1/1 [==============================] - 0s 18ms/step - loss: 6.3394 - mae: 6.3394\n",
            "Epoch 189/1000\n",
            "1/1 [==============================] - 0s 14ms/step - loss: 6.3337 - mae: 6.3337\n",
            "Epoch 190/1000\n",
            "1/1 [==============================] - 0s 22ms/step - loss: 6.3281 - mae: 6.3281\n",
            "Epoch 191/1000\n",
            "1/1 [==============================] - 0s 16ms/step - loss: 6.3225 - mae: 6.3225\n",
            "Epoch 192/1000\n",
            "1/1 [==============================] - 0s 15ms/step - loss: 6.3169 - mae: 6.3169\n",
            "Epoch 193/1000\n",
            "1/1 [==============================] - 0s 16ms/step - loss: 6.3112 - mae: 6.3112\n",
            "Epoch 194/1000\n",
            "1/1 [==============================] - 0s 20ms/step - loss: 6.3056 - mae: 6.3056\n",
            "Epoch 195/1000\n",
            "1/1 [==============================] - 0s 16ms/step - loss: 6.3000 - mae: 6.3000\n",
            "Epoch 196/1000\n",
            "1/1 [==============================] - 0s 21ms/step - loss: 6.2944 - mae: 6.2944\n",
            "Epoch 197/1000\n",
            "1/1 [==============================] - 0s 17ms/step - loss: 6.2887 - mae: 6.2887\n",
            "Epoch 198/1000\n",
            "1/1 [==============================] - 0s 18ms/step - loss: 6.2831 - mae: 6.2831\n",
            "Epoch 199/1000\n",
            "1/1 [==============================] - 0s 17ms/step - loss: 6.2775 - mae: 6.2775\n",
            "Epoch 200/1000\n",
            "1/1 [==============================] - 0s 34ms/step - loss: 6.2719 - mae: 6.2719\n",
            "Epoch 201/1000\n",
            "1/1 [==============================] - 0s 42ms/step - loss: 6.2662 - mae: 6.2662\n",
            "Epoch 202/1000\n",
            "1/1 [==============================] - 0s 29ms/step - loss: 6.2606 - mae: 6.2606\n",
            "Epoch 203/1000\n",
            "1/1 [==============================] - 0s 37ms/step - loss: 6.2550 - mae: 6.2550\n",
            "Epoch 204/1000\n",
            "1/1 [==============================] - 0s 26ms/step - loss: 6.2494 - mae: 6.2494\n",
            "Epoch 205/1000\n",
            "1/1 [==============================] - 0s 21ms/step - loss: 6.2437 - mae: 6.2437\n",
            "Epoch 206/1000\n",
            "1/1 [==============================] - 0s 18ms/step - loss: 6.2381 - mae: 6.2381\n",
            "Epoch 207/1000\n",
            "1/1 [==============================] - 0s 18ms/step - loss: 6.2325 - mae: 6.2325\n",
            "Epoch 208/1000\n",
            "1/1 [==============================] - 0s 20ms/step - loss: 6.2269 - mae: 6.2269\n",
            "Epoch 209/1000\n",
            "1/1 [==============================] - 0s 33ms/step - loss: 6.2212 - mae: 6.2212\n",
            "Epoch 210/1000\n",
            "1/1 [==============================] - 0s 28ms/step - loss: 6.2156 - mae: 6.2156\n",
            "Epoch 211/1000\n",
            "1/1 [==============================] - 0s 38ms/step - loss: 6.2100 - mae: 6.2100\n",
            "Epoch 212/1000\n",
            "1/1 [==============================] - 0s 36ms/step - loss: 6.2044 - mae: 6.2044\n",
            "Epoch 213/1000\n",
            "1/1 [==============================] - 0s 42ms/step - loss: 6.1987 - mae: 6.1987\n",
            "Epoch 214/1000\n",
            "1/1 [==============================] - 0s 23ms/step - loss: 6.1931 - mae: 6.1931\n",
            "Epoch 215/1000\n",
            "1/1 [==============================] - 0s 31ms/step - loss: 6.1875 - mae: 6.1875\n",
            "Epoch 216/1000\n",
            "1/1 [==============================] - 0s 32ms/step - loss: 6.1819 - mae: 6.1819\n",
            "Epoch 217/1000\n",
            "1/1 [==============================] - 0s 23ms/step - loss: 6.1762 - mae: 6.1762\n",
            "Epoch 218/1000\n",
            "1/1 [==============================] - 0s 45ms/step - loss: 6.1706 - mae: 6.1706\n",
            "Epoch 219/1000\n",
            "1/1 [==============================] - 0s 50ms/step - loss: 6.1650 - mae: 6.1650\n",
            "Epoch 220/1000\n",
            "1/1 [==============================] - 0s 57ms/step - loss: 6.1594 - mae: 6.1594\n",
            "Epoch 221/1000\n",
            "1/1 [==============================] - 0s 49ms/step - loss: 6.1537 - mae: 6.1537\n",
            "Epoch 222/1000\n",
            "1/1 [==============================] - 0s 62ms/step - loss: 6.1481 - mae: 6.1481\n",
            "Epoch 223/1000\n",
            "1/1 [==============================] - 0s 26ms/step - loss: 6.1425 - mae: 6.1425\n",
            "Epoch 224/1000\n",
            "1/1 [==============================] - 0s 19ms/step - loss: 6.1369 - mae: 6.1369\n",
            "Epoch 225/1000\n",
            "1/1 [==============================] - 0s 32ms/step - loss: 6.1312 - mae: 6.1312\n",
            "Epoch 226/1000\n",
            "1/1 [==============================] - 0s 28ms/step - loss: 6.1256 - mae: 6.1256\n",
            "Epoch 227/1000\n",
            "1/1 [==============================] - 0s 66ms/step - loss: 6.1200 - mae: 6.1200\n",
            "Epoch 228/1000\n",
            "1/1 [==============================] - 0s 52ms/step - loss: 6.1144 - mae: 6.1144\n",
            "Epoch 229/1000\n",
            "1/1 [==============================] - 0s 29ms/step - loss: 6.1087 - mae: 6.1087\n",
            "Epoch 230/1000\n",
            "1/1 [==============================] - 0s 16ms/step - loss: 6.1031 - mae: 6.1031\n",
            "Epoch 231/1000\n",
            "1/1 [==============================] - 0s 14ms/step - loss: 6.0975 - mae: 6.0975\n",
            "Epoch 232/1000\n",
            "1/1 [==============================] - 0s 12ms/step - loss: 6.0919 - mae: 6.0919\n",
            "Epoch 233/1000\n",
            "1/1 [==============================] - 0s 13ms/step - loss: 6.0862 - mae: 6.0862\n",
            "Epoch 234/1000\n",
            "1/1 [==============================] - 0s 12ms/step - loss: 6.0806 - mae: 6.0806\n",
            "Epoch 235/1000\n",
            "1/1 [==============================] - 0s 12ms/step - loss: 6.0750 - mae: 6.0750\n",
            "Epoch 236/1000\n",
            "1/1 [==============================] - 0s 14ms/step - loss: 6.0694 - mae: 6.0694\n",
            "Epoch 237/1000\n",
            "1/1 [==============================] - 0s 12ms/step - loss: 6.0637 - mae: 6.0637\n",
            "Epoch 238/1000\n",
            "1/1 [==============================] - 0s 42ms/step - loss: 6.0581 - mae: 6.0581\n",
            "Epoch 239/1000\n",
            "1/1 [==============================] - 0s 23ms/step - loss: 6.0525 - mae: 6.0525\n",
            "Epoch 240/1000\n",
            "1/1 [==============================] - 0s 20ms/step - loss: 6.0469 - mae: 6.0469\n",
            "Epoch 241/1000\n",
            "1/1 [==============================] - 0s 40ms/step - loss: 6.0412 - mae: 6.0412\n",
            "Epoch 242/1000\n",
            "1/1 [==============================] - 0s 27ms/step - loss: 6.0356 - mae: 6.0356\n",
            "Epoch 243/1000\n",
            "1/1 [==============================] - 0s 32ms/step - loss: 6.0300 - mae: 6.0300\n",
            "Epoch 244/1000\n",
            "1/1 [==============================] - 0s 23ms/step - loss: 6.0244 - mae: 6.0244\n",
            "Epoch 245/1000\n",
            "1/1 [==============================] - 0s 22ms/step - loss: 6.0187 - mae: 6.0187\n",
            "Epoch 246/1000\n",
            "1/1 [==============================] - 0s 20ms/step - loss: 6.0131 - mae: 6.0131\n",
            "Epoch 247/1000\n",
            "1/1 [==============================] - 0s 19ms/step - loss: 6.0075 - mae: 6.0075\n",
            "Epoch 248/1000\n",
            "1/1 [==============================] - 0s 21ms/step - loss: 6.0019 - mae: 6.0019\n",
            "Epoch 249/1000\n",
            "1/1 [==============================] - 0s 12ms/step - loss: 5.9962 - mae: 5.9962\n",
            "Epoch 250/1000\n",
            "1/1 [==============================] - 0s 23ms/step - loss: 5.9906 - mae: 5.9906\n",
            "Epoch 251/1000\n",
            "1/1 [==============================] - 0s 12ms/step - loss: 5.9850 - mae: 5.9850\n",
            "Epoch 252/1000\n",
            "1/1 [==============================] - 0s 14ms/step - loss: 5.9794 - mae: 5.9794\n",
            "Epoch 253/1000\n",
            "1/1 [==============================] - 0s 13ms/step - loss: 5.9737 - mae: 5.9737\n",
            "Epoch 254/1000\n",
            "1/1 [==============================] - 0s 18ms/step - loss: 5.9681 - mae: 5.9681\n",
            "Epoch 255/1000\n",
            "1/1 [==============================] - 0s 19ms/step - loss: 5.9625 - mae: 5.9625\n",
            "Epoch 256/1000\n",
            "1/1 [==============================] - 0s 15ms/step - loss: 5.9569 - mae: 5.9569\n",
            "Epoch 257/1000\n",
            "1/1 [==============================] - 0s 13ms/step - loss: 5.9512 - mae: 5.9512\n",
            "Epoch 258/1000\n",
            "1/1 [==============================] - 0s 17ms/step - loss: 5.9456 - mae: 5.9456\n",
            "Epoch 259/1000\n",
            "1/1 [==============================] - 0s 39ms/step - loss: 5.9400 - mae: 5.9400\n",
            "Epoch 260/1000\n",
            "1/1 [==============================] - 0s 19ms/step - loss: 5.9344 - mae: 5.9344\n",
            "Epoch 261/1000\n",
            "1/1 [==============================] - 0s 24ms/step - loss: 5.9287 - mae: 5.9287\n",
            "Epoch 262/1000\n",
            "1/1 [==============================] - 0s 20ms/step - loss: 5.9231 - mae: 5.9231\n",
            "Epoch 263/1000\n",
            "1/1 [==============================] - 0s 26ms/step - loss: 5.9175 - mae: 5.9175\n",
            "Epoch 264/1000\n",
            "1/1 [==============================] - 0s 57ms/step - loss: 5.9119 - mae: 5.9119\n",
            "Epoch 265/1000\n",
            "1/1 [==============================] - 0s 40ms/step - loss: 5.9062 - mae: 5.9062\n",
            "Epoch 266/1000\n",
            "1/1 [==============================] - 0s 61ms/step - loss: 5.9006 - mae: 5.9006\n",
            "Epoch 267/1000\n",
            "1/1 [==============================] - 0s 36ms/step - loss: 5.8950 - mae: 5.8950\n",
            "Epoch 268/1000\n",
            "1/1 [==============================] - 0s 76ms/step - loss: 5.8894 - mae: 5.8894\n",
            "Epoch 269/1000\n",
            "1/1 [==============================] - 0s 70ms/step - loss: 5.8837 - mae: 5.8837\n",
            "Epoch 270/1000\n",
            "1/1 [==============================] - 0s 57ms/step - loss: 5.8781 - mae: 5.8781\n",
            "Epoch 271/1000\n",
            "1/1 [==============================] - 0s 53ms/step - loss: 5.8725 - mae: 5.8725\n",
            "Epoch 272/1000\n",
            "1/1 [==============================] - 0s 78ms/step - loss: 5.8669 - mae: 5.8669\n",
            "Epoch 273/1000\n",
            "1/1 [==============================] - 0s 77ms/step - loss: 5.8612 - mae: 5.8612\n",
            "Epoch 274/1000\n",
            "1/1 [==============================] - 0s 74ms/step - loss: 5.8556 - mae: 5.8556\n",
            "Epoch 275/1000\n",
            "1/1 [==============================] - 0s 54ms/step - loss: 5.8500 - mae: 5.8500\n",
            "Epoch 276/1000\n",
            "1/1 [==============================] - 0s 33ms/step - loss: 5.8444 - mae: 5.8444\n",
            "Epoch 277/1000\n",
            "1/1 [==============================] - 0s 43ms/step - loss: 5.8387 - mae: 5.8387\n",
            "Epoch 278/1000\n",
            "1/1 [==============================] - 0s 48ms/step - loss: 5.8331 - mae: 5.8331\n",
            "Epoch 279/1000\n",
            "1/1 [==============================] - 0s 38ms/step - loss: 5.8275 - mae: 5.8275\n",
            "Epoch 280/1000\n",
            "1/1 [==============================] - 0s 50ms/step - loss: 5.8219 - mae: 5.8219\n",
            "Epoch 281/1000\n",
            "1/1 [==============================] - 0s 53ms/step - loss: 5.8162 - mae: 5.8162\n",
            "Epoch 282/1000\n",
            "1/1 [==============================] - 0s 44ms/step - loss: 5.8106 - mae: 5.8106\n",
            "Epoch 283/1000\n",
            "1/1 [==============================] - 0s 52ms/step - loss: 5.8050 - mae: 5.8050\n",
            "Epoch 284/1000\n",
            "1/1 [==============================] - 0s 62ms/step - loss: 5.7994 - mae: 5.7994\n",
            "Epoch 285/1000\n",
            "1/1 [==============================] - 0s 30ms/step - loss: 5.7937 - mae: 5.7937\n",
            "Epoch 286/1000\n",
            "1/1 [==============================] - 0s 41ms/step - loss: 5.7881 - mae: 5.7881\n",
            "Epoch 287/1000\n",
            "1/1 [==============================] - 0s 44ms/step - loss: 5.7825 - mae: 5.7825\n",
            "Epoch 288/1000\n",
            "1/1 [==============================] - 0s 44ms/step - loss: 5.7769 - mae: 5.7769\n",
            "Epoch 289/1000\n",
            "1/1 [==============================] - 0s 18ms/step - loss: 5.7712 - mae: 5.7712\n",
            "Epoch 290/1000\n",
            "1/1 [==============================] - 0s 20ms/step - loss: 5.7656 - mae: 5.7656\n",
            "Epoch 291/1000\n",
            "1/1 [==============================] - 0s 18ms/step - loss: 5.7600 - mae: 5.7600\n",
            "Epoch 292/1000\n",
            "1/1 [==============================] - 0s 42ms/step - loss: 5.7544 - mae: 5.7544\n",
            "Epoch 293/1000\n",
            "1/1 [==============================] - 0s 27ms/step - loss: 5.7487 - mae: 5.7487\n",
            "Epoch 294/1000\n",
            "1/1 [==============================] - 0s 47ms/step - loss: 5.7431 - mae: 5.7431\n",
            "Epoch 295/1000\n",
            "1/1 [==============================] - 0s 24ms/step - loss: 5.7375 - mae: 5.7375\n",
            "Epoch 296/1000\n",
            "1/1 [==============================] - 0s 19ms/step - loss: 5.7319 - mae: 5.7319\n",
            "Epoch 297/1000\n",
            "1/1 [==============================] - 0s 19ms/step - loss: 5.7262 - mae: 5.7262\n",
            "Epoch 298/1000\n",
            "1/1 [==============================] - 0s 23ms/step - loss: 5.7206 - mae: 5.7206\n",
            "Epoch 299/1000\n",
            "1/1 [==============================] - 0s 16ms/step - loss: 5.7150 - mae: 5.7150\n",
            "Epoch 300/1000\n",
            "1/1 [==============================] - 0s 22ms/step - loss: 5.7094 - mae: 5.7094\n",
            "Epoch 301/1000\n",
            "1/1 [==============================] - 0s 25ms/step - loss: 5.7037 - mae: 5.7037\n",
            "Epoch 302/1000\n",
            "1/1 [==============================] - 0s 24ms/step - loss: 5.6981 - mae: 5.6981\n",
            "Epoch 303/1000\n",
            "1/1 [==============================] - 0s 25ms/step - loss: 5.6925 - mae: 5.6925\n",
            "Epoch 304/1000\n",
            "1/1 [==============================] - 0s 35ms/step - loss: 5.6869 - mae: 5.6869\n",
            "Epoch 305/1000\n",
            "1/1 [==============================] - 0s 28ms/step - loss: 5.6812 - mae: 5.6812\n",
            "Epoch 306/1000\n",
            "1/1 [==============================] - 0s 36ms/step - loss: 5.6756 - mae: 5.6756\n",
            "Epoch 307/1000\n",
            "1/1 [==============================] - 0s 33ms/step - loss: 5.6700 - mae: 5.6700\n",
            "Epoch 308/1000\n",
            "1/1 [==============================] - 0s 23ms/step - loss: 5.6644 - mae: 5.6644\n",
            "Epoch 309/1000\n",
            "1/1 [==============================] - 0s 18ms/step - loss: 5.6587 - mae: 5.6587\n",
            "Epoch 310/1000\n",
            "1/1 [==============================] - 0s 24ms/step - loss: 5.6531 - mae: 5.6531\n",
            "Epoch 311/1000\n",
            "1/1 [==============================] - 0s 20ms/step - loss: 5.6475 - mae: 5.6475\n",
            "Epoch 312/1000\n",
            "1/1 [==============================] - 0s 24ms/step - loss: 5.6419 - mae: 5.6419\n",
            "Epoch 313/1000\n",
            "1/1 [==============================] - 0s 18ms/step - loss: 5.6362 - mae: 5.6362\n",
            "Epoch 314/1000\n",
            "1/1 [==============================] - 0s 21ms/step - loss: 5.6306 - mae: 5.6306\n",
            "Epoch 315/1000\n",
            "1/1 [==============================] - 0s 28ms/step - loss: 5.6250 - mae: 5.6250\n",
            "Epoch 316/1000\n",
            "1/1 [==============================] - 0s 16ms/step - loss: 5.6194 - mae: 5.6194\n",
            "Epoch 317/1000\n",
            "1/1 [==============================] - 0s 34ms/step - loss: 5.6137 - mae: 5.6137\n",
            "Epoch 318/1000\n",
            "1/1 [==============================] - 0s 47ms/step - loss: 5.6081 - mae: 5.6081\n",
            "Epoch 319/1000\n",
            "1/1 [==============================] - 0s 41ms/step - loss: 5.6025 - mae: 5.6025\n",
            "Epoch 320/1000\n",
            "1/1 [==============================] - 0s 43ms/step - loss: 5.5969 - mae: 5.5969\n",
            "Epoch 321/1000\n",
            "1/1 [==============================] - 0s 35ms/step - loss: 5.5912 - mae: 5.5912\n",
            "Epoch 322/1000\n",
            "1/1 [==============================] - 0s 39ms/step - loss: 5.5856 - mae: 5.5856\n",
            "Epoch 323/1000\n",
            "1/1 [==============================] - 0s 24ms/step - loss: 5.5800 - mae: 5.5800\n",
            "Epoch 324/1000\n",
            "1/1 [==============================] - 0s 20ms/step - loss: 5.5744 - mae: 5.5744\n",
            "Epoch 325/1000\n",
            "1/1 [==============================] - 0s 18ms/step - loss: 5.5687 - mae: 5.5687\n",
            "Epoch 326/1000\n",
            "1/1 [==============================] - 0s 58ms/step - loss: 5.5631 - mae: 5.5631\n",
            "Epoch 327/1000\n",
            "1/1 [==============================] - 0s 50ms/step - loss: 5.5575 - mae: 5.5575\n",
            "Epoch 328/1000\n",
            "1/1 [==============================] - 0s 14ms/step - loss: 5.5519 - mae: 5.5519\n",
            "Epoch 329/1000\n",
            "1/1 [==============================] - 0s 12ms/step - loss: 5.5462 - mae: 5.5462\n",
            "Epoch 330/1000\n",
            "1/1 [==============================] - 0s 19ms/step - loss: 5.5406 - mae: 5.5406\n",
            "Epoch 331/1000\n",
            "1/1 [==============================] - 0s 47ms/step - loss: 5.5350 - mae: 5.5350\n",
            "Epoch 332/1000\n",
            "1/1 [==============================] - 0s 80ms/step - loss: 5.5294 - mae: 5.5294\n",
            "Epoch 333/1000\n",
            "1/1 [==============================] - 0s 19ms/step - loss: 5.5237 - mae: 5.5237\n",
            "Epoch 334/1000\n",
            "1/1 [==============================] - 0s 18ms/step - loss: 5.5181 - mae: 5.5181\n",
            "Epoch 335/1000\n",
            "1/1 [==============================] - 0s 17ms/step - loss: 5.5125 - mae: 5.5125\n",
            "Epoch 336/1000\n",
            "1/1 [==============================] - 0s 21ms/step - loss: 5.5069 - mae: 5.5069\n",
            "Epoch 337/1000\n",
            "1/1 [==============================] - 0s 22ms/step - loss: 5.5012 - mae: 5.5012\n",
            "Epoch 338/1000\n",
            "1/1 [==============================] - 0s 17ms/step - loss: 5.4956 - mae: 5.4956\n",
            "Epoch 339/1000\n",
            "1/1 [==============================] - 0s 15ms/step - loss: 5.4900 - mae: 5.4900\n",
            "Epoch 340/1000\n",
            "1/1 [==============================] - 0s 17ms/step - loss: 5.4844 - mae: 5.4844\n",
            "Epoch 341/1000\n",
            "1/1 [==============================] - 0s 25ms/step - loss: 5.4791 - mae: 5.4791\n",
            "Epoch 342/1000\n",
            "1/1 [==============================] - 0s 48ms/step - loss: 5.4750 - mae: 5.4750\n",
            "Epoch 343/1000\n",
            "1/1 [==============================] - 0s 35ms/step - loss: 5.4694 - mae: 5.4694\n",
            "Epoch 344/1000\n",
            "1/1 [==============================] - 0s 106ms/step - loss: 5.4637 - mae: 5.4637\n",
            "Epoch 345/1000\n",
            "1/1 [==============================] - 0s 40ms/step - loss: 5.4581 - mae: 5.4581\n",
            "Epoch 346/1000\n",
            "1/1 [==============================] - 0s 24ms/step - loss: 5.4525 - mae: 5.4525\n",
            "Epoch 347/1000\n",
            "1/1 [==============================] - 0s 26ms/step - loss: 5.4469 - mae: 5.4469\n",
            "Epoch 348/1000\n",
            "1/1 [==============================] - 0s 35ms/step - loss: 5.4413 - mae: 5.4413\n",
            "Epoch 349/1000\n",
            "1/1 [==============================] - 0s 16ms/step - loss: 5.4356 - mae: 5.4356\n",
            "Epoch 350/1000\n",
            "1/1 [==============================] - 0s 32ms/step - loss: 5.4300 - mae: 5.4300\n",
            "Epoch 351/1000\n",
            "1/1 [==============================] - 0s 23ms/step - loss: 5.4244 - mae: 5.4244\n",
            "Epoch 352/1000\n",
            "1/1 [==============================] - 0s 19ms/step - loss: 5.4188 - mae: 5.4188\n",
            "Epoch 353/1000\n",
            "1/1 [==============================] - 0s 37ms/step - loss: 5.4131 - mae: 5.4131\n",
            "Epoch 354/1000\n",
            "1/1 [==============================] - 0s 34ms/step - loss: 5.4075 - mae: 5.4075\n",
            "Epoch 355/1000\n",
            "1/1 [==============================] - 0s 22ms/step - loss: 5.4019 - mae: 5.4019\n",
            "Epoch 356/1000\n",
            "1/1 [==============================] - 0s 27ms/step - loss: 5.3963 - mae: 5.3963\n",
            "Epoch 357/1000\n",
            "1/1 [==============================] - 0s 11ms/step - loss: 5.3906 - mae: 5.3906\n",
            "Epoch 358/1000\n",
            "1/1 [==============================] - 0s 13ms/step - loss: 5.3850 - mae: 5.3850\n",
            "Epoch 359/1000\n",
            "1/1 [==============================] - 0s 20ms/step - loss: 5.3794 - mae: 5.3794\n",
            "Epoch 360/1000\n",
            "1/1 [==============================] - 0s 23ms/step - loss: 5.3738 - mae: 5.3738\n",
            "Epoch 361/1000\n",
            "1/1 [==============================] - 0s 12ms/step - loss: 5.3681 - mae: 5.3681\n",
            "Epoch 362/1000\n",
            "1/1 [==============================] - 0s 25ms/step - loss: 5.3625 - mae: 5.3625\n",
            "Epoch 363/1000\n",
            "1/1 [==============================] - 0s 22ms/step - loss: 5.3569 - mae: 5.3569\n",
            "Epoch 364/1000\n",
            "1/1 [==============================] - 0s 23ms/step - loss: 5.3513 - mae: 5.3513\n",
            "Epoch 365/1000\n",
            "1/1 [==============================] - 0s 30ms/step - loss: 5.3456 - mae: 5.3456\n",
            "Epoch 366/1000\n",
            "1/1 [==============================] - 0s 25ms/step - loss: 5.3400 - mae: 5.3400\n",
            "Epoch 367/1000\n",
            "1/1 [==============================] - 0s 26ms/step - loss: 5.3344 - mae: 5.3344\n",
            "Epoch 368/1000\n",
            "1/1 [==============================] - 0s 21ms/step - loss: 5.3288 - mae: 5.3288\n",
            "Epoch 369/1000\n",
            "1/1 [==============================] - 0s 18ms/step - loss: 5.3231 - mae: 5.3231\n",
            "Epoch 370/1000\n",
            "1/1 [==============================] - 0s 36ms/step - loss: 5.3175 - mae: 5.3175\n",
            "Epoch 371/1000\n",
            "1/1 [==============================] - 0s 53ms/step - loss: 5.3119 - mae: 5.3119\n",
            "Epoch 372/1000\n",
            "1/1 [==============================] - 0s 35ms/step - loss: 5.3063 - mae: 5.3063\n",
            "Epoch 373/1000\n",
            "1/1 [==============================] - 0s 54ms/step - loss: 5.3006 - mae: 5.3006\n",
            "Epoch 374/1000\n",
            "1/1 [==============================] - 0s 42ms/step - loss: 5.2950 - mae: 5.2950\n",
            "Epoch 375/1000\n",
            "1/1 [==============================] - 0s 22ms/step - loss: 5.2894 - mae: 5.2894\n",
            "Epoch 376/1000\n",
            "1/1 [==============================] - 0s 22ms/step - loss: 5.2838 - mae: 5.2838\n",
            "Epoch 377/1000\n",
            "1/1 [==============================] - 0s 19ms/step - loss: 5.2781 - mae: 5.2781\n",
            "Epoch 378/1000\n",
            "1/1 [==============================] - 0s 41ms/step - loss: 5.2725 - mae: 5.2725\n",
            "Epoch 379/1000\n",
            "1/1 [==============================] - 0s 47ms/step - loss: 5.2669 - mae: 5.2669\n",
            "Epoch 380/1000\n",
            "1/1 [==============================] - 0s 39ms/step - loss: 5.2613 - mae: 5.2613\n",
            "Epoch 381/1000\n",
            "1/1 [==============================] - 0s 16ms/step - loss: 5.2556 - mae: 5.2556\n",
            "Epoch 382/1000\n",
            "1/1 [==============================] - 0s 15ms/step - loss: 5.2510 - mae: 5.2510\n",
            "Epoch 383/1000\n",
            "1/1 [==============================] - 0s 14ms/step - loss: 5.2463 - mae: 5.2463\n",
            "Epoch 384/1000\n",
            "1/1 [==============================] - 0s 18ms/step - loss: 5.2406 - mae: 5.2406\n",
            "Epoch 385/1000\n",
            "1/1 [==============================] - 0s 16ms/step - loss: 5.2350 - mae: 5.2350\n",
            "Epoch 386/1000\n",
            "1/1 [==============================] - 0s 16ms/step - loss: 5.2294 - mae: 5.2294\n",
            "Epoch 387/1000\n",
            "1/1 [==============================] - 0s 42ms/step - loss: 5.2238 - mae: 5.2238\n",
            "Epoch 388/1000\n",
            "1/1 [==============================] - 0s 24ms/step - loss: 5.2181 - mae: 5.2181\n",
            "Epoch 389/1000\n",
            "1/1 [==============================] - 0s 23ms/step - loss: 5.2125 - mae: 5.2125\n",
            "Epoch 390/1000\n",
            "1/1 [==============================] - 0s 34ms/step - loss: 5.2069 - mae: 5.2069\n",
            "Epoch 391/1000\n",
            "1/1 [==============================] - 0s 31ms/step - loss: 5.2013 - mae: 5.2013\n",
            "Epoch 392/1000\n",
            "1/1 [==============================] - 0s 30ms/step - loss: 5.1956 - mae: 5.1956\n",
            "Epoch 393/1000\n",
            "1/1 [==============================] - 0s 38ms/step - loss: 5.1900 - mae: 5.1900\n",
            "Epoch 394/1000\n",
            "1/1 [==============================] - 0s 22ms/step - loss: 5.1844 - mae: 5.1844\n",
            "Epoch 395/1000\n",
            "1/1 [==============================] - 0s 76ms/step - loss: 5.1788 - mae: 5.1788\n",
            "Epoch 396/1000\n",
            "1/1 [==============================] - 0s 25ms/step - loss: 5.1731 - mae: 5.1731\n",
            "Epoch 397/1000\n",
            "1/1 [==============================] - 0s 19ms/step - loss: 5.1675 - mae: 5.1675\n",
            "Epoch 398/1000\n",
            "1/1 [==============================] - 0s 34ms/step - loss: 5.1619 - mae: 5.1619\n",
            "Epoch 399/1000\n",
            "1/1 [==============================] - 0s 39ms/step - loss: 5.1563 - mae: 5.1563\n",
            "Epoch 400/1000\n",
            "1/1 [==============================] - 0s 56ms/step - loss: 5.1506 - mae: 5.1506\n",
            "Epoch 401/1000\n",
            "1/1 [==============================] - 0s 31ms/step - loss: 5.1450 - mae: 5.1450\n",
            "Epoch 402/1000\n",
            "1/1 [==============================] - 0s 40ms/step - loss: 5.1394 - mae: 5.1394\n",
            "Epoch 403/1000\n",
            "1/1 [==============================] - 0s 34ms/step - loss: 5.1338 - mae: 5.1338\n",
            "Epoch 404/1000\n",
            "1/1 [==============================] - 0s 24ms/step - loss: 5.1281 - mae: 5.1281\n",
            "Epoch 405/1000\n",
            "1/1 [==============================] - 0s 35ms/step - loss: 5.1225 - mae: 5.1225\n",
            "Epoch 406/1000\n",
            "1/1 [==============================] - 0s 44ms/step - loss: 5.1169 - mae: 5.1169\n",
            "Epoch 407/1000\n",
            "1/1 [==============================] - 0s 38ms/step - loss: 5.1113 - mae: 5.1113\n",
            "Epoch 408/1000\n",
            "1/1 [==============================] - 0s 23ms/step - loss: 5.1056 - mae: 5.1056\n",
            "Epoch 409/1000\n",
            "1/1 [==============================] - 0s 33ms/step - loss: 5.1000 - mae: 5.1000\n",
            "Epoch 410/1000\n",
            "1/1 [==============================] - 0s 88ms/step - loss: 5.0944 - mae: 5.0944\n",
            "Epoch 411/1000\n",
            "1/1 [==============================] - 0s 66ms/step - loss: 5.0888 - mae: 5.0888\n",
            "Epoch 412/1000\n",
            "1/1 [==============================] - 0s 61ms/step - loss: 5.0831 - mae: 5.0831\n",
            "Epoch 413/1000\n",
            "1/1 [==============================] - 0s 51ms/step - loss: 5.0775 - mae: 5.0775\n",
            "Epoch 414/1000\n",
            "1/1 [==============================] - 0s 41ms/step - loss: 5.0719 - mae: 5.0719\n",
            "Epoch 415/1000\n",
            "1/1 [==============================] - 0s 25ms/step - loss: 5.0663 - mae: 5.0663\n",
            "Epoch 416/1000\n",
            "1/1 [==============================] - 0s 29ms/step - loss: 5.0606 - mae: 5.0606\n",
            "Epoch 417/1000\n",
            "1/1 [==============================] - 0s 15ms/step - loss: 5.0550 - mae: 5.0550\n",
            "Epoch 418/1000\n",
            "1/1 [==============================] - 0s 13ms/step - loss: 5.0494 - mae: 5.0494\n",
            "Epoch 419/1000\n",
            "1/1 [==============================] - 0s 12ms/step - loss: 5.0438 - mae: 5.0438\n",
            "Epoch 420/1000\n",
            "1/1 [==============================] - 0s 20ms/step - loss: 5.0381 - mae: 5.0381\n",
            "Epoch 421/1000\n",
            "1/1 [==============================] - 0s 23ms/step - loss: 5.0325 - mae: 5.0325\n",
            "Epoch 422/1000\n",
            "1/1 [==============================] - 0s 12ms/step - loss: 5.0269 - mae: 5.0269\n",
            "Epoch 423/1000\n",
            "1/1 [==============================] - 0s 32ms/step - loss: 5.0229 - mae: 5.0229\n",
            "Epoch 424/1000\n",
            "1/1 [==============================] - 0s 43ms/step - loss: 5.0175 - mae: 5.0175\n",
            "Epoch 425/1000\n",
            "1/1 [==============================] - 0s 33ms/step - loss: 5.0119 - mae: 5.0119\n",
            "Epoch 426/1000\n",
            "1/1 [==============================] - 0s 36ms/step - loss: 5.0063 - mae: 5.0063\n",
            "Epoch 427/1000\n",
            "1/1 [==============================] - 0s 33ms/step - loss: 5.0006 - mae: 5.0006\n",
            "Epoch 428/1000\n",
            "1/1 [==============================] - 0s 31ms/step - loss: 4.9950 - mae: 4.9950\n",
            "Epoch 429/1000\n",
            "1/1 [==============================] - 0s 25ms/step - loss: 4.9894 - mae: 4.9894\n",
            "Epoch 430/1000\n",
            "1/1 [==============================] - 0s 22ms/step - loss: 4.9838 - mae: 4.9838\n",
            "Epoch 431/1000\n",
            "1/1 [==============================] - 0s 26ms/step - loss: 4.9781 - mae: 4.9781\n",
            "Epoch 432/1000\n",
            "1/1 [==============================] - 0s 28ms/step - loss: 4.9725 - mae: 4.9725\n",
            "Epoch 433/1000\n",
            "1/1 [==============================] - 0s 35ms/step - loss: 4.9669 - mae: 4.9669\n",
            "Epoch 434/1000\n",
            "1/1 [==============================] - 0s 73ms/step - loss: 4.9613 - mae: 4.9613\n",
            "Epoch 435/1000\n",
            "1/1 [==============================] - 0s 51ms/step - loss: 4.9556 - mae: 4.9556\n",
            "Epoch 436/1000\n",
            "1/1 [==============================] - 0s 67ms/step - loss: 4.9500 - mae: 4.9500\n",
            "Epoch 437/1000\n",
            "1/1 [==============================] - 0s 59ms/step - loss: 4.9444 - mae: 4.9444\n",
            "Epoch 438/1000\n",
            "1/1 [==============================] - 0s 75ms/step - loss: 4.9388 - mae: 4.9388\n",
            "Epoch 439/1000\n",
            "1/1 [==============================] - 0s 16ms/step - loss: 4.9331 - mae: 4.9331\n",
            "Epoch 440/1000\n",
            "1/1 [==============================] - 0s 18ms/step - loss: 4.9275 - mae: 4.9275\n",
            "Epoch 441/1000\n",
            "1/1 [==============================] - 0s 17ms/step - loss: 4.9219 - mae: 4.9219\n",
            "Epoch 442/1000\n",
            "1/1 [==============================] - 0s 19ms/step - loss: 4.9163 - mae: 4.9163\n",
            "Epoch 443/1000\n",
            "1/1 [==============================] - 0s 13ms/step - loss: 4.9106 - mae: 4.9106\n",
            "Epoch 444/1000\n",
            "1/1 [==============================] - 0s 21ms/step - loss: 4.9050 - mae: 4.9050\n",
            "Epoch 445/1000\n",
            "1/1 [==============================] - 0s 25ms/step - loss: 4.8994 - mae: 4.8994\n",
            "Epoch 446/1000\n",
            "1/1 [==============================] - 0s 28ms/step - loss: 4.8938 - mae: 4.8938\n",
            "Epoch 447/1000\n",
            "1/1 [==============================] - 0s 40ms/step - loss: 4.8881 - mae: 4.8881\n",
            "Epoch 448/1000\n",
            "1/1 [==============================] - 0s 19ms/step - loss: 4.8825 - mae: 4.8825\n",
            "Epoch 449/1000\n",
            "1/1 [==============================] - 0s 24ms/step - loss: 4.8769 - mae: 4.8769\n",
            "Epoch 450/1000\n",
            "1/1 [==============================] - 0s 24ms/step - loss: 4.8713 - mae: 4.8713\n",
            "Epoch 451/1000\n",
            "1/1 [==============================] - 0s 27ms/step - loss: 4.8656 - mae: 4.8656\n",
            "Epoch 452/1000\n",
            "1/1 [==============================] - 0s 30ms/step - loss: 4.8600 - mae: 4.8600\n",
            "Epoch 453/1000\n",
            "1/1 [==============================] - 0s 21ms/step - loss: 4.8544 - mae: 4.8544\n",
            "Epoch 454/1000\n",
            "1/1 [==============================] - 0s 20ms/step - loss: 4.8488 - mae: 4.8488\n",
            "Epoch 455/1000\n",
            "1/1 [==============================] - 0s 20ms/step - loss: 4.8431 - mae: 4.8431\n",
            "Epoch 456/1000\n",
            "1/1 [==============================] - 0s 20ms/step - loss: 4.8375 - mae: 4.8375\n",
            "Epoch 457/1000\n",
            "1/1 [==============================] - 0s 25ms/step - loss: 4.8319 - mae: 4.8319\n",
            "Epoch 458/1000\n",
            "1/1 [==============================] - 0s 17ms/step - loss: 4.8263 - mae: 4.8263\n",
            "Epoch 459/1000\n",
            "1/1 [==============================] - 0s 18ms/step - loss: 4.8206 - mae: 4.8206\n",
            "Epoch 460/1000\n",
            "1/1 [==============================] - 0s 17ms/step - loss: 4.8150 - mae: 4.8150\n",
            "Epoch 461/1000\n",
            "1/1 [==============================] - 0s 19ms/step - loss: 4.8094 - mae: 4.8094\n",
            "Epoch 462/1000\n",
            "1/1 [==============================] - 0s 23ms/step - loss: 4.8038 - mae: 4.8038\n",
            "Epoch 463/1000\n",
            "1/1 [==============================] - 0s 22ms/step - loss: 4.7985 - mae: 4.7985\n",
            "Epoch 464/1000\n",
            "1/1 [==============================] - 0s 15ms/step - loss: 4.7944 - mae: 4.7944\n",
            "Epoch 465/1000\n",
            "1/1 [==============================] - 0s 15ms/step - loss: 4.7888 - mae: 4.7888\n",
            "Epoch 466/1000\n",
            "1/1 [==============================] - 0s 23ms/step - loss: 4.7831 - mae: 4.7831\n",
            "Epoch 467/1000\n",
            "1/1 [==============================] - 0s 26ms/step - loss: 4.7775 - mae: 4.7775\n",
            "Epoch 468/1000\n",
            "1/1 [==============================] - 0s 19ms/step - loss: 4.7719 - mae: 4.7719\n",
            "Epoch 469/1000\n",
            "1/1 [==============================] - 0s 23ms/step - loss: 4.7663 - mae: 4.7663\n",
            "Epoch 470/1000\n",
            "1/1 [==============================] - 0s 21ms/step - loss: 4.7606 - mae: 4.7606\n",
            "Epoch 471/1000\n",
            "1/1 [==============================] - 0s 20ms/step - loss: 4.7550 - mae: 4.7550\n",
            "Epoch 472/1000\n",
            "1/1 [==============================] - 0s 16ms/step - loss: 4.7494 - mae: 4.7494\n",
            "Epoch 473/1000\n",
            "1/1 [==============================] - 0s 24ms/step - loss: 4.7438 - mae: 4.7438\n",
            "Epoch 474/1000\n",
            "1/1 [==============================] - 0s 12ms/step - loss: 4.7381 - mae: 4.7381\n",
            "Epoch 475/1000\n",
            "1/1 [==============================] - 0s 13ms/step - loss: 4.7325 - mae: 4.7325\n",
            "Epoch 476/1000\n",
            "1/1 [==============================] - 0s 31ms/step - loss: 4.7269 - mae: 4.7269\n",
            "Epoch 477/1000\n",
            "1/1 [==============================] - 0s 21ms/step - loss: 4.7213 - mae: 4.7213\n",
            "Epoch 478/1000\n",
            "1/1 [==============================] - 0s 16ms/step - loss: 4.7156 - mae: 4.7156\n",
            "Epoch 479/1000\n",
            "1/1 [==============================] - 0s 23ms/step - loss: 4.7100 - mae: 4.7100\n",
            "Epoch 480/1000\n",
            "1/1 [==============================] - 0s 21ms/step - loss: 4.7044 - mae: 4.7044\n",
            "Epoch 481/1000\n",
            "1/1 [==============================] - 0s 49ms/step - loss: 4.6988 - mae: 4.6988\n",
            "Epoch 482/1000\n",
            "1/1 [==============================] - 0s 35ms/step - loss: 4.6931 - mae: 4.6931\n",
            "Epoch 483/1000\n",
            "1/1 [==============================] - 0s 25ms/step - loss: 4.6875 - mae: 4.6875\n",
            "Epoch 484/1000\n",
            "1/1 [==============================] - 0s 14ms/step - loss: 4.6819 - mae: 4.6819\n",
            "Epoch 485/1000\n",
            "1/1 [==============================] - 0s 21ms/step - loss: 4.6763 - mae: 4.6763\n",
            "Epoch 486/1000\n",
            "1/1 [==============================] - 0s 44ms/step - loss: 4.6706 - mae: 4.6706\n",
            "Epoch 487/1000\n",
            "1/1 [==============================] - 0s 45ms/step - loss: 4.6650 - mae: 4.6650\n",
            "Epoch 488/1000\n",
            "1/1 [==============================] - 0s 40ms/step - loss: 4.6594 - mae: 4.6594\n",
            "Epoch 489/1000\n",
            "1/1 [==============================] - 0s 19ms/step - loss: 4.6538 - mae: 4.6538\n",
            "Epoch 490/1000\n",
            "1/1 [==============================] - 0s 24ms/step - loss: 4.6481 - mae: 4.6481\n",
            "Epoch 491/1000\n",
            "1/1 [==============================] - 0s 26ms/step - loss: 4.6425 - mae: 4.6425\n",
            "Epoch 492/1000\n",
            "1/1 [==============================] - 0s 28ms/step - loss: 4.6369 - mae: 4.6369\n",
            "Epoch 493/1000\n",
            "1/1 [==============================] - 0s 33ms/step - loss: 4.6313 - mae: 4.6313\n",
            "Epoch 494/1000\n",
            "1/1 [==============================] - 0s 26ms/step - loss: 4.6256 - mae: 4.6256\n",
            "Epoch 495/1000\n",
            "1/1 [==============================] - 0s 66ms/step - loss: 4.6200 - mae: 4.6200\n",
            "Epoch 496/1000\n",
            "1/1 [==============================] - 0s 51ms/step - loss: 4.6144 - mae: 4.6144\n",
            "Epoch 497/1000\n",
            "1/1 [==============================] - 0s 35ms/step - loss: 4.6088 - mae: 4.6088\n",
            "Epoch 498/1000\n",
            "1/1 [==============================] - 0s 37ms/step - loss: 4.6031 - mae: 4.6031\n",
            "Epoch 499/1000\n",
            "1/1 [==============================] - 0s 35ms/step - loss: 4.5975 - mae: 4.5975\n",
            "Epoch 500/1000\n",
            "1/1 [==============================] - 0s 24ms/step - loss: 4.5919 - mae: 4.5919\n",
            "Epoch 501/1000\n",
            "1/1 [==============================] - 0s 40ms/step - loss: 4.5863 - mae: 4.5863\n",
            "Epoch 502/1000\n",
            "1/1 [==============================] - 0s 26ms/step - loss: 4.5806 - mae: 4.5806\n",
            "Epoch 503/1000\n",
            "1/1 [==============================] - 0s 16ms/step - loss: 4.5750 - mae: 4.5750\n",
            "Epoch 504/1000\n",
            "1/1 [==============================] - 0s 21ms/step - loss: 4.5704 - mae: 4.5704\n",
            "Epoch 505/1000\n",
            "1/1 [==============================] - 0s 20ms/step - loss: 4.5656 - mae: 4.5656\n",
            "Epoch 506/1000\n",
            "1/1 [==============================] - 0s 74ms/step - loss: 4.5600 - mae: 4.5600\n",
            "Epoch 507/1000\n",
            "1/1 [==============================] - 0s 112ms/step - loss: 4.5544 - mae: 4.5544\n",
            "Epoch 508/1000\n",
            "1/1 [==============================] - 0s 65ms/step - loss: 4.5488 - mae: 4.5488\n",
            "Epoch 509/1000\n",
            "1/1 [==============================] - 0s 37ms/step - loss: 4.5431 - mae: 4.5431\n",
            "Epoch 510/1000\n",
            "1/1 [==============================] - 0s 32ms/step - loss: 4.5375 - mae: 4.5375\n",
            "Epoch 511/1000\n",
            "1/1 [==============================] - 0s 19ms/step - loss: 4.5319 - mae: 4.5319\n",
            "Epoch 512/1000\n",
            "1/1 [==============================] - 0s 12ms/step - loss: 4.5263 - mae: 4.5263\n",
            "Epoch 513/1000\n",
            "1/1 [==============================] - 0s 11ms/step - loss: 4.5206 - mae: 4.5206\n",
            "Epoch 514/1000\n",
            "1/1 [==============================] - 0s 14ms/step - loss: 4.5150 - mae: 4.5150\n",
            "Epoch 515/1000\n",
            "1/1 [==============================] - 0s 11ms/step - loss: 4.5094 - mae: 4.5094\n",
            "Epoch 516/1000\n",
            "1/1 [==============================] - 0s 15ms/step - loss: 4.5038 - mae: 4.5038\n",
            "Epoch 517/1000\n",
            "1/1 [==============================] - 0s 11ms/step - loss: 4.4981 - mae: 4.4981\n",
            "Epoch 518/1000\n",
            "1/1 [==============================] - 0s 14ms/step - loss: 4.4925 - mae: 4.4925\n",
            "Epoch 519/1000\n",
            "1/1 [==============================] - 0s 16ms/step - loss: 4.4869 - mae: 4.4869\n",
            "Epoch 520/1000\n",
            "1/1 [==============================] - 0s 20ms/step - loss: 4.4813 - mae: 4.4813\n",
            "Epoch 521/1000\n",
            "1/1 [==============================] - 0s 15ms/step - loss: 4.4756 - mae: 4.4756\n",
            "Epoch 522/1000\n",
            "1/1 [==============================] - 0s 16ms/step - loss: 4.4700 - mae: 4.4700\n",
            "Epoch 523/1000\n",
            "1/1 [==============================] - 0s 15ms/step - loss: 4.4644 - mae: 4.4644\n",
            "Epoch 524/1000\n",
            "1/1 [==============================] - 0s 13ms/step - loss: 4.4588 - mae: 4.4588\n",
            "Epoch 525/1000\n",
            "1/1 [==============================] - 0s 12ms/step - loss: 4.4531 - mae: 4.4531\n",
            "Epoch 526/1000\n",
            "1/1 [==============================] - 0s 13ms/step - loss: 4.4475 - mae: 4.4475\n",
            "Epoch 527/1000\n",
            "1/1 [==============================] - 0s 12ms/step - loss: 4.4419 - mae: 4.4419\n",
            "Epoch 528/1000\n",
            "1/1 [==============================] - 0s 11ms/step - loss: 4.4363 - mae: 4.4363\n",
            "Epoch 529/1000\n",
            "1/1 [==============================] - 0s 11ms/step - loss: 4.4306 - mae: 4.4306\n",
            "Epoch 530/1000\n",
            "1/1 [==============================] - 0s 12ms/step - loss: 4.4250 - mae: 4.4250\n",
            "Epoch 531/1000\n",
            "1/1 [==============================] - 0s 23ms/step - loss: 4.4194 - mae: 4.4194\n",
            "Epoch 532/1000\n",
            "1/1 [==============================] - 0s 37ms/step - loss: 4.4138 - mae: 4.4138\n",
            "Epoch 533/1000\n",
            "1/1 [==============================] - 0s 14ms/step - loss: 4.4081 - mae: 4.4081\n",
            "Epoch 534/1000\n",
            "1/1 [==============================] - 0s 17ms/step - loss: 4.4025 - mae: 4.4025\n",
            "Epoch 535/1000\n",
            "1/1 [==============================] - 0s 13ms/step - loss: 4.3969 - mae: 4.3969\n",
            "Epoch 536/1000\n",
            "1/1 [==============================] - 0s 13ms/step - loss: 4.3913 - mae: 4.3913\n",
            "Epoch 537/1000\n",
            "1/1 [==============================] - 0s 14ms/step - loss: 4.3856 - mae: 4.3856\n",
            "Epoch 538/1000\n",
            "1/1 [==============================] - 0s 14ms/step - loss: 4.3800 - mae: 4.3800\n",
            "Epoch 539/1000\n",
            "1/1 [==============================] - 0s 12ms/step - loss: 4.3744 - mae: 4.3744\n",
            "Epoch 540/1000\n",
            "1/1 [==============================] - 0s 12ms/step - loss: 4.3688 - mae: 4.3688\n",
            "Epoch 541/1000\n",
            "1/1 [==============================] - 0s 12ms/step - loss: 4.3631 - mae: 4.3631\n",
            "Epoch 542/1000\n",
            "1/1 [==============================] - 0s 13ms/step - loss: 4.3575 - mae: 4.3575\n",
            "Epoch 543/1000\n",
            "1/1 [==============================] - 0s 16ms/step - loss: 4.3519 - mae: 4.3519\n",
            "Epoch 544/1000\n",
            "1/1 [==============================] - 0s 12ms/step - loss: 4.3463 - mae: 4.3463\n",
            "Epoch 545/1000\n",
            "1/1 [==============================] - 0s 31ms/step - loss: 4.3423 - mae: 4.3423\n",
            "Epoch 546/1000\n",
            "1/1 [==============================] - 0s 21ms/step - loss: 4.3369 - mae: 4.3369\n",
            "Epoch 547/1000\n",
            "1/1 [==============================] - 0s 26ms/step - loss: 4.3313 - mae: 4.3313\n",
            "Epoch 548/1000\n",
            "1/1 [==============================] - 0s 19ms/step - loss: 4.3256 - mae: 4.3256\n",
            "Epoch 549/1000\n",
            "1/1 [==============================] - 0s 17ms/step - loss: 4.3200 - mae: 4.3200\n",
            "Epoch 550/1000\n",
            "1/1 [==============================] - 0s 15ms/step - loss: 4.3144 - mae: 4.3144\n",
            "Epoch 551/1000\n",
            "1/1 [==============================] - 0s 13ms/step - loss: 4.3088 - mae: 4.3088\n",
            "Epoch 552/1000\n",
            "1/1 [==============================] - 0s 15ms/step - loss: 4.3031 - mae: 4.3031\n",
            "Epoch 553/1000\n",
            "1/1 [==============================] - 0s 15ms/step - loss: 4.2975 - mae: 4.2975\n",
            "Epoch 554/1000\n",
            "1/1 [==============================] - 0s 14ms/step - loss: 4.2919 - mae: 4.2919\n",
            "Epoch 555/1000\n",
            "1/1 [==============================] - 0s 13ms/step - loss: 4.2863 - mae: 4.2863\n",
            "Epoch 556/1000\n",
            "1/1 [==============================] - 0s 11ms/step - loss: 4.2806 - mae: 4.2806\n",
            "Epoch 557/1000\n",
            "1/1 [==============================] - 0s 14ms/step - loss: 4.2750 - mae: 4.2750\n",
            "Epoch 558/1000\n",
            "1/1 [==============================] - 0s 18ms/step - loss: 4.2694 - mae: 4.2694\n",
            "Epoch 559/1000\n",
            "1/1 [==============================] - 0s 11ms/step - loss: 4.2638 - mae: 4.2638\n",
            "Epoch 560/1000\n",
            "1/1 [==============================] - 0s 15ms/step - loss: 4.2581 - mae: 4.2581\n",
            "Epoch 561/1000\n",
            "1/1 [==============================] - 0s 14ms/step - loss: 4.2525 - mae: 4.2525\n",
            "Epoch 562/1000\n",
            "1/1 [==============================] - 0s 12ms/step - loss: 4.2469 - mae: 4.2469\n",
            "Epoch 563/1000\n",
            "1/1 [==============================] - 0s 12ms/step - loss: 4.2413 - mae: 4.2413\n",
            "Epoch 564/1000\n",
            "1/1 [==============================] - 0s 12ms/step - loss: 4.2356 - mae: 4.2356\n",
            "Epoch 565/1000\n",
            "1/1 [==============================] - 0s 16ms/step - loss: 4.2300 - mae: 4.2300\n",
            "Epoch 566/1000\n",
            "1/1 [==============================] - 0s 16ms/step - loss: 4.2244 - mae: 4.2244\n",
            "Epoch 567/1000\n",
            "1/1 [==============================] - 0s 15ms/step - loss: 4.2188 - mae: 4.2188\n",
            "Epoch 568/1000\n",
            "1/1 [==============================] - 0s 13ms/step - loss: 4.2131 - mae: 4.2131\n",
            "Epoch 569/1000\n",
            "1/1 [==============================] - 0s 14ms/step - loss: 4.2075 - mae: 4.2075\n",
            "Epoch 570/1000\n",
            "1/1 [==============================] - 0s 13ms/step - loss: 4.2019 - mae: 4.2019\n",
            "Epoch 571/1000\n",
            "1/1 [==============================] - 0s 17ms/step - loss: 4.1963 - mae: 4.1963\n",
            "Epoch 572/1000\n",
            "1/1 [==============================] - 0s 16ms/step - loss: 4.1906 - mae: 4.1906\n",
            "Epoch 573/1000\n",
            "1/1 [==============================] - 0s 14ms/step - loss: 4.1850 - mae: 4.1850\n",
            "Epoch 574/1000\n",
            "1/1 [==============================] - 0s 13ms/step - loss: 4.1794 - mae: 4.1794\n",
            "Epoch 575/1000\n",
            "1/1 [==============================] - 0s 15ms/step - loss: 4.1738 - mae: 4.1738\n",
            "Epoch 576/1000\n",
            "1/1 [==============================] - 0s 12ms/step - loss: 4.1681 - mae: 4.1681\n",
            "Epoch 577/1000\n",
            "1/1 [==============================] - 0s 13ms/step - loss: 4.1625 - mae: 4.1625\n",
            "Epoch 578/1000\n",
            "1/1 [==============================] - 0s 13ms/step - loss: 4.1569 - mae: 4.1569\n",
            "Epoch 579/1000\n",
            "1/1 [==============================] - 0s 11ms/step - loss: 4.1512 - mae: 4.1512\n",
            "Epoch 580/1000\n",
            "1/1 [==============================] - 0s 12ms/step - loss: 4.1456 - mae: 4.1456\n",
            "Epoch 581/1000\n",
            "1/1 [==============================] - 0s 11ms/step - loss: 4.1400 - mae: 4.1400\n",
            "Epoch 582/1000\n",
            "1/1 [==============================] - 0s 11ms/step - loss: 4.1344 - mae: 4.1344\n",
            "Epoch 583/1000\n",
            "1/1 [==============================] - 0s 9ms/step - loss: 4.1287 - mae: 4.1287\n",
            "Epoch 584/1000\n",
            "1/1 [==============================] - 0s 9ms/step - loss: 4.1231 - mae: 4.1231\n",
            "Epoch 585/1000\n",
            "1/1 [==============================] - 0s 12ms/step - loss: 4.1179 - mae: 4.1179\n",
            "Epoch 586/1000\n",
            "1/1 [==============================] - 0s 13ms/step - loss: 4.1137 - mae: 4.1137\n",
            "Epoch 587/1000\n",
            "1/1 [==============================] - 0s 14ms/step - loss: 4.1081 - mae: 4.1081\n",
            "Epoch 588/1000\n",
            "1/1 [==============================] - 0s 15ms/step - loss: 4.1025 - mae: 4.1025\n",
            "Epoch 589/1000\n",
            "1/1 [==============================] - 0s 16ms/step - loss: 4.0969 - mae: 4.0969\n",
            "Epoch 590/1000\n",
            "1/1 [==============================] - 0s 20ms/step - loss: 4.0912 - mae: 4.0912\n",
            "Epoch 591/1000\n",
            "1/1 [==============================] - 0s 17ms/step - loss: 4.0856 - mae: 4.0856\n",
            "Epoch 592/1000\n",
            "1/1 [==============================] - 0s 20ms/step - loss: 4.0800 - mae: 4.0800\n",
            "Epoch 593/1000\n",
            "1/1 [==============================] - 0s 18ms/step - loss: 4.0744 - mae: 4.0744\n",
            "Epoch 594/1000\n",
            "1/1 [==============================] - 0s 16ms/step - loss: 4.0687 - mae: 4.0687\n",
            "Epoch 595/1000\n",
            "1/1 [==============================] - 0s 15ms/step - loss: 4.0631 - mae: 4.0631\n",
            "Epoch 596/1000\n",
            "1/1 [==============================] - 0s 15ms/step - loss: 4.0575 - mae: 4.0575\n",
            "Epoch 597/1000\n",
            "1/1 [==============================] - 0s 18ms/step - loss: 4.0519 - mae: 4.0519\n",
            "Epoch 598/1000\n",
            "1/1 [==============================] - 0s 12ms/step - loss: 4.0462 - mae: 4.0462\n",
            "Epoch 599/1000\n",
            "1/1 [==============================] - 0s 12ms/step - loss: 4.0406 - mae: 4.0406\n",
            "Epoch 600/1000\n",
            "1/1 [==============================] - 0s 12ms/step - loss: 4.0350 - mae: 4.0350\n",
            "Epoch 601/1000\n",
            "1/1 [==============================] - 0s 10ms/step - loss: 4.0294 - mae: 4.0294\n",
            "Epoch 602/1000\n",
            "1/1 [==============================] - 0s 12ms/step - loss: 4.0237 - mae: 4.0237\n",
            "Epoch 603/1000\n",
            "1/1 [==============================] - 0s 13ms/step - loss: 4.0181 - mae: 4.0181\n",
            "Epoch 604/1000\n",
            "1/1 [==============================] - 0s 19ms/step - loss: 4.0125 - mae: 4.0125\n",
            "Epoch 605/1000\n",
            "1/1 [==============================] - 0s 16ms/step - loss: 4.0069 - mae: 4.0069\n",
            "Epoch 606/1000\n",
            "1/1 [==============================] - 0s 14ms/step - loss: 4.0012 - mae: 4.0012\n",
            "Epoch 607/1000\n",
            "1/1 [==============================] - 0s 14ms/step - loss: 3.9956 - mae: 3.9956\n",
            "Epoch 608/1000\n",
            "1/1 [==============================] - 0s 10ms/step - loss: 3.9900 - mae: 3.9900\n",
            "Epoch 609/1000\n",
            "1/1 [==============================] - 0s 12ms/step - loss: 3.9844 - mae: 3.9844\n",
            "Epoch 610/1000\n",
            "1/1 [==============================] - 0s 13ms/step - loss: 3.9787 - mae: 3.9787\n",
            "Epoch 611/1000\n",
            "1/1 [==============================] - 0s 13ms/step - loss: 3.9731 - mae: 3.9731\n",
            "Epoch 612/1000\n",
            "1/1 [==============================] - 0s 13ms/step - loss: 3.9675 - mae: 3.9675\n",
            "Epoch 613/1000\n",
            "1/1 [==============================] - 0s 13ms/step - loss: 3.9619 - mae: 3.9619\n",
            "Epoch 614/1000\n",
            "1/1 [==============================] - 0s 13ms/step - loss: 3.9562 - mae: 3.9562\n",
            "Epoch 615/1000\n",
            "1/1 [==============================] - 0s 15ms/step - loss: 3.9506 - mae: 3.9506\n",
            "Epoch 616/1000\n",
            "1/1 [==============================] - 0s 14ms/step - loss: 3.9450 - mae: 3.9450\n",
            "Epoch 617/1000\n",
            "1/1 [==============================] - 0s 11ms/step - loss: 3.9394 - mae: 3.9394\n",
            "Epoch 618/1000\n",
            "1/1 [==============================] - 0s 10ms/step - loss: 3.9337 - mae: 3.9337\n",
            "Epoch 619/1000\n",
            "1/1 [==============================] - 0s 11ms/step - loss: 3.9281 - mae: 3.9281\n",
            "Epoch 620/1000\n",
            "1/1 [==============================] - 0s 11ms/step - loss: 3.9225 - mae: 3.9225\n",
            "Epoch 621/1000\n",
            "1/1 [==============================] - 0s 20ms/step - loss: 3.9169 - mae: 3.9169\n",
            "Epoch 622/1000\n",
            "1/1 [==============================] - 0s 13ms/step - loss: 3.9112 - mae: 3.9112\n",
            "Epoch 623/1000\n",
            "1/1 [==============================] - 0s 12ms/step - loss: 3.9056 - mae: 3.9056\n",
            "Epoch 624/1000\n",
            "1/1 [==============================] - 0s 14ms/step - loss: 3.9000 - mae: 3.9000\n",
            "Epoch 625/1000\n",
            "1/1 [==============================] - 0s 13ms/step - loss: 3.8944 - mae: 3.8944\n",
            "Epoch 626/1000\n",
            "1/1 [==============================] - 0s 12ms/step - loss: 3.8898 - mae: 3.8898\n",
            "Epoch 627/1000\n",
            "1/1 [==============================] - 0s 12ms/step - loss: 3.8850 - mae: 3.8850\n",
            "Epoch 628/1000\n",
            "1/1 [==============================] - 0s 12ms/step - loss: 3.8794 - mae: 3.8794\n",
            "Epoch 629/1000\n",
            "1/1 [==============================] - 0s 11ms/step - loss: 3.8737 - mae: 3.8737\n",
            "Epoch 630/1000\n",
            "1/1 [==============================] - 0s 17ms/step - loss: 3.8681 - mae: 3.8681\n",
            "Epoch 631/1000\n",
            "1/1 [==============================] - 0s 14ms/step - loss: 3.8625 - mae: 3.8625\n",
            "Epoch 632/1000\n",
            "1/1 [==============================] - 0s 11ms/step - loss: 3.8569 - mae: 3.8569\n",
            "Epoch 633/1000\n",
            "1/1 [==============================] - 0s 10ms/step - loss: 3.8512 - mae: 3.8512\n",
            "Epoch 634/1000\n",
            "1/1 [==============================] - 0s 11ms/step - loss: 3.8456 - mae: 3.8456\n",
            "Epoch 635/1000\n",
            "1/1 [==============================] - 0s 33ms/step - loss: 3.8400 - mae: 3.8400\n",
            "Epoch 636/1000\n",
            "1/1 [==============================] - 0s 20ms/step - loss: 3.8344 - mae: 3.8344\n",
            "Epoch 637/1000\n",
            "1/1 [==============================] - 0s 12ms/step - loss: 3.8287 - mae: 3.8287\n",
            "Epoch 638/1000\n",
            "1/1 [==============================] - 0s 11ms/step - loss: 3.8231 - mae: 3.8231\n",
            "Epoch 639/1000\n",
            "1/1 [==============================] - 0s 16ms/step - loss: 3.8175 - mae: 3.8175\n",
            "Epoch 640/1000\n",
            "1/1 [==============================] - 0s 19ms/step - loss: 3.8119 - mae: 3.8119\n",
            "Epoch 641/1000\n",
            "1/1 [==============================] - 0s 27ms/step - loss: 3.8062 - mae: 3.8062\n",
            "Epoch 642/1000\n",
            "1/1 [==============================] - 0s 18ms/step - loss: 3.8006 - mae: 3.8006\n",
            "Epoch 643/1000\n",
            "1/1 [==============================] - 0s 19ms/step - loss: 3.7950 - mae: 3.7950\n",
            "Epoch 644/1000\n",
            "1/1 [==============================] - 0s 15ms/step - loss: 3.7894 - mae: 3.7894\n",
            "Epoch 645/1000\n",
            "1/1 [==============================] - 0s 17ms/step - loss: 3.7837 - mae: 3.7837\n",
            "Epoch 646/1000\n",
            "1/1 [==============================] - 0s 18ms/step - loss: 3.7781 - mae: 3.7781\n",
            "Epoch 647/1000\n",
            "1/1 [==============================] - 0s 17ms/step - loss: 3.7725 - mae: 3.7725\n",
            "Epoch 648/1000\n",
            "1/1 [==============================] - 0s 17ms/step - loss: 3.7669 - mae: 3.7669\n",
            "Epoch 649/1000\n",
            "1/1 [==============================] - 0s 16ms/step - loss: 3.7612 - mae: 3.7612\n",
            "Epoch 650/1000\n",
            "1/1 [==============================] - 0s 15ms/step - loss: 3.7556 - mae: 3.7556\n",
            "Epoch 651/1000\n",
            "1/1 [==============================] - 0s 13ms/step - loss: 3.7500 - mae: 3.7500\n",
            "Epoch 652/1000\n",
            "1/1 [==============================] - 0s 10ms/step - loss: 3.7444 - mae: 3.7444\n",
            "Epoch 653/1000\n",
            "1/1 [==============================] - 0s 10ms/step - loss: 3.7387 - mae: 3.7387\n",
            "Epoch 654/1000\n",
            "1/1 [==============================] - 0s 10ms/step - loss: 3.7331 - mae: 3.7331\n",
            "Epoch 655/1000\n",
            "1/1 [==============================] - 0s 10ms/step - loss: 3.7275 - mae: 3.7275\n",
            "Epoch 656/1000\n",
            "1/1 [==============================] - 0s 9ms/step - loss: 3.7219 - mae: 3.7219\n",
            "Epoch 657/1000\n",
            "1/1 [==============================] - 0s 10ms/step - loss: 3.7162 - mae: 3.7162\n",
            "Epoch 658/1000\n",
            "1/1 [==============================] - 0s 13ms/step - loss: 3.7106 - mae: 3.7106\n",
            "Epoch 659/1000\n",
            "1/1 [==============================] - 0s 10ms/step - loss: 3.7050 - mae: 3.7050\n",
            "Epoch 660/1000\n",
            "1/1 [==============================] - 0s 9ms/step - loss: 3.6994 - mae: 3.6994\n",
            "Epoch 661/1000\n",
            "1/1 [==============================] - 0s 19ms/step - loss: 3.6937 - mae: 3.6937\n",
            "Epoch 662/1000\n",
            "1/1 [==============================] - 0s 20ms/step - loss: 3.6881 - mae: 3.6881\n",
            "Epoch 663/1000\n",
            "1/1 [==============================] - 0s 20ms/step - loss: 3.6825 - mae: 3.6825\n",
            "Epoch 664/1000\n",
            "1/1 [==============================] - 0s 18ms/step - loss: 3.6769 - mae: 3.6769\n",
            "Epoch 665/1000\n",
            "1/1 [==============================] - 0s 15ms/step - loss: 3.6712 - mae: 3.6712\n",
            "Epoch 666/1000\n",
            "1/1 [==============================] - 0s 13ms/step - loss: 3.6656 - mae: 3.6656\n",
            "Epoch 667/1000\n",
            "1/1 [==============================] - 0s 15ms/step - loss: 3.6616 - mae: 3.6616\n",
            "Epoch 668/1000\n",
            "1/1 [==============================] - 0s 28ms/step - loss: 3.6562 - mae: 3.6562\n",
            "Epoch 669/1000\n",
            "1/1 [==============================] - 0s 14ms/step - loss: 3.6506 - mae: 3.6506\n",
            "Epoch 670/1000\n",
            "1/1 [==============================] - 0s 9ms/step - loss: 3.6450 - mae: 3.6450\n",
            "Epoch 671/1000\n",
            "1/1 [==============================] - 0s 10ms/step - loss: 3.6394 - mae: 3.6394\n",
            "Epoch 672/1000\n",
            "1/1 [==============================] - 0s 10ms/step - loss: 3.6337 - mae: 3.6337\n",
            "Epoch 673/1000\n",
            "1/1 [==============================] - 0s 12ms/step - loss: 3.6281 - mae: 3.6281\n",
            "Epoch 674/1000\n",
            "1/1 [==============================] - 0s 9ms/step - loss: 3.6225 - mae: 3.6225\n",
            "Epoch 675/1000\n",
            "1/1 [==============================] - 0s 9ms/step - loss: 3.6169 - mae: 3.6169\n",
            "Epoch 676/1000\n",
            "1/1 [==============================] - 0s 9ms/step - loss: 3.6112 - mae: 3.6112\n",
            "Epoch 677/1000\n",
            "1/1 [==============================] - 0s 11ms/step - loss: 3.6056 - mae: 3.6056\n",
            "Epoch 678/1000\n",
            "1/1 [==============================] - 0s 9ms/step - loss: 3.6000 - mae: 3.6000\n",
            "Epoch 679/1000\n",
            "1/1 [==============================] - 0s 13ms/step - loss: 3.5944 - mae: 3.5944\n",
            "Epoch 680/1000\n",
            "1/1 [==============================] - 0s 12ms/step - loss: 3.5887 - mae: 3.5887\n",
            "Epoch 681/1000\n",
            "1/1 [==============================] - 0s 17ms/step - loss: 3.5831 - mae: 3.5831\n",
            "Epoch 682/1000\n",
            "1/1 [==============================] - 0s 16ms/step - loss: 3.5775 - mae: 3.5775\n",
            "Epoch 683/1000\n",
            "1/1 [==============================] - 0s 13ms/step - loss: 3.5719 - mae: 3.5719\n",
            "Epoch 684/1000\n",
            "1/1 [==============================] - 0s 11ms/step - loss: 3.5662 - mae: 3.5662\n",
            "Epoch 685/1000\n",
            "1/1 [==============================] - 0s 12ms/step - loss: 3.5606 - mae: 3.5606\n",
            "Epoch 686/1000\n",
            "1/1 [==============================] - 0s 12ms/step - loss: 3.5550 - mae: 3.5550\n",
            "Epoch 687/1000\n",
            "1/1 [==============================] - 0s 12ms/step - loss: 3.5494 - mae: 3.5494\n",
            "Epoch 688/1000\n",
            "1/1 [==============================] - 0s 9ms/step - loss: 3.5437 - mae: 3.5437\n",
            "Epoch 689/1000\n",
            "1/1 [==============================] - 0s 12ms/step - loss: 3.5381 - mae: 3.5381\n",
            "Epoch 690/1000\n",
            "1/1 [==============================] - 0s 12ms/step - loss: 3.5325 - mae: 3.5325\n",
            "Epoch 691/1000\n",
            "1/1 [==============================] - 0s 15ms/step - loss: 3.5269 - mae: 3.5269\n",
            "Epoch 692/1000\n",
            "1/1 [==============================] - 0s 16ms/step - loss: 3.5212 - mae: 3.5212\n",
            "Epoch 693/1000\n",
            "1/1 [==============================] - 0s 17ms/step - loss: 3.5156 - mae: 3.5156\n",
            "Epoch 694/1000\n",
            "1/1 [==============================] - 0s 19ms/step - loss: 3.5100 - mae: 3.5100\n",
            "Epoch 695/1000\n",
            "1/1 [==============================] - 0s 20ms/step - loss: 3.5044 - mae: 3.5044\n",
            "Epoch 696/1000\n",
            "1/1 [==============================] - 0s 34ms/step - loss: 3.4987 - mae: 3.4987\n",
            "Epoch 697/1000\n",
            "1/1 [==============================] - 0s 24ms/step - loss: 3.4931 - mae: 3.4931\n",
            "Epoch 698/1000\n",
            "1/1 [==============================] - 0s 27ms/step - loss: 3.4875 - mae: 3.4875\n",
            "Epoch 699/1000\n",
            "1/1 [==============================] - 0s 27ms/step - loss: 3.4819 - mae: 3.4819\n",
            "Epoch 700/1000\n",
            "1/1 [==============================] - 0s 16ms/step - loss: 3.4762 - mae: 3.4762\n",
            "Epoch 701/1000\n",
            "1/1 [==============================] - 0s 15ms/step - loss: 3.4706 - mae: 3.4706\n",
            "Epoch 702/1000\n",
            "1/1 [==============================] - 0s 13ms/step - loss: 3.4650 - mae: 3.4650\n",
            "Epoch 703/1000\n",
            "1/1 [==============================] - 0s 11ms/step - loss: 3.4594 - mae: 3.4594\n",
            "Epoch 704/1000\n",
            "1/1 [==============================] - 0s 11ms/step - loss: 3.4537 - mae: 3.4537\n",
            "Epoch 705/1000\n",
            "1/1 [==============================] - 0s 10ms/step - loss: 3.4481 - mae: 3.4481\n",
            "Epoch 706/1000\n",
            "1/1 [==============================] - 0s 10ms/step - loss: 3.4425 - mae: 3.4425\n",
            "Epoch 707/1000\n",
            "1/1 [==============================] - 0s 11ms/step - loss: 3.4373 - mae: 3.4373\n",
            "Epoch 708/1000\n",
            "1/1 [==============================] - 0s 16ms/step - loss: 3.4331 - mae: 3.4331\n",
            "Epoch 709/1000\n",
            "1/1 [==============================] - 0s 12ms/step - loss: 3.4275 - mae: 3.4275\n",
            "Epoch 710/1000\n",
            "1/1 [==============================] - 0s 11ms/step - loss: 3.4219 - mae: 3.4219\n",
            "Epoch 711/1000\n",
            "1/1 [==============================] - 0s 16ms/step - loss: 3.4162 - mae: 3.4162\n",
            "Epoch 712/1000\n",
            "1/1 [==============================] - 0s 11ms/step - loss: 3.4106 - mae: 3.4106\n",
            "Epoch 713/1000\n",
            "1/1 [==============================] - 0s 19ms/step - loss: 3.4050 - mae: 3.4050\n",
            "Epoch 714/1000\n",
            "1/1 [==============================] - 0s 16ms/step - loss: 3.3994 - mae: 3.3994\n",
            "Epoch 715/1000\n",
            "1/1 [==============================] - 0s 13ms/step - loss: 3.3937 - mae: 3.3937\n",
            "Epoch 716/1000\n",
            "1/1 [==============================] - 0s 12ms/step - loss: 3.3881 - mae: 3.3881\n",
            "Epoch 717/1000\n",
            "1/1 [==============================] - 0s 13ms/step - loss: 3.3825 - mae: 3.3825\n",
            "Epoch 718/1000\n",
            "1/1 [==============================] - 0s 15ms/step - loss: 3.3769 - mae: 3.3769\n",
            "Epoch 719/1000\n",
            "1/1 [==============================] - 0s 18ms/step - loss: 3.3712 - mae: 3.3712\n",
            "Epoch 720/1000\n",
            "1/1 [==============================] - 0s 13ms/step - loss: 3.3656 - mae: 3.3656\n",
            "Epoch 721/1000\n",
            "1/1 [==============================] - 0s 14ms/step - loss: 3.3600 - mae: 3.3600\n",
            "Epoch 722/1000\n",
            "1/1 [==============================] - 0s 18ms/step - loss: 3.3544 - mae: 3.3544\n",
            "Epoch 723/1000\n",
            "1/1 [==============================] - 0s 14ms/step - loss: 3.3487 - mae: 3.3487\n",
            "Epoch 724/1000\n",
            "1/1 [==============================] - 0s 15ms/step - loss: 3.3431 - mae: 3.3431\n",
            "Epoch 725/1000\n",
            "1/1 [==============================] - 0s 26ms/step - loss: 3.3375 - mae: 3.3375\n",
            "Epoch 726/1000\n",
            "1/1 [==============================] - 0s 27ms/step - loss: 3.3319 - mae: 3.3319\n",
            "Epoch 727/1000\n",
            "1/1 [==============================] - 0s 25ms/step - loss: 3.3262 - mae: 3.3262\n",
            "Epoch 728/1000\n",
            "1/1 [==============================] - 0s 23ms/step - loss: 3.3206 - mae: 3.3206\n",
            "Epoch 729/1000\n",
            "1/1 [==============================] - 0s 17ms/step - loss: 3.3150 - mae: 3.3150\n",
            "Epoch 730/1000\n",
            "1/1 [==============================] - 0s 21ms/step - loss: 3.3094 - mae: 3.3094\n",
            "Epoch 731/1000\n",
            "1/1 [==============================] - 0s 20ms/step - loss: 3.3037 - mae: 3.3037\n",
            "Epoch 732/1000\n",
            "1/1 [==============================] - 0s 13ms/step - loss: 3.2981 - mae: 3.2981\n",
            "Epoch 733/1000\n",
            "1/1 [==============================] - 0s 13ms/step - loss: 3.2925 - mae: 3.2925\n",
            "Epoch 734/1000\n",
            "1/1 [==============================] - 0s 20ms/step - loss: 3.2869 - mae: 3.2869\n",
            "Epoch 735/1000\n",
            "1/1 [==============================] - 0s 25ms/step - loss: 3.2812 - mae: 3.2812\n",
            "Epoch 736/1000\n",
            "1/1 [==============================] - 0s 20ms/step - loss: 3.2756 - mae: 3.2756\n",
            "Epoch 737/1000\n",
            "1/1 [==============================] - 0s 26ms/step - loss: 3.2700 - mae: 3.2700\n",
            "Epoch 738/1000\n",
            "1/1 [==============================] - 0s 23ms/step - loss: 3.2644 - mae: 3.2644\n",
            "Epoch 739/1000\n",
            "1/1 [==============================] - 0s 22ms/step - loss: 3.2587 - mae: 3.2587\n",
            "Epoch 740/1000\n",
            "1/1 [==============================] - 0s 25ms/step - loss: 3.2531 - mae: 3.2531\n",
            "Epoch 741/1000\n",
            "1/1 [==============================] - 0s 22ms/step - loss: 3.2475 - mae: 3.2475\n",
            "Epoch 742/1000\n",
            "1/1 [==============================] - 0s 20ms/step - loss: 3.2419 - mae: 3.2419\n",
            "Epoch 743/1000\n",
            "1/1 [==============================] - 0s 22ms/step - loss: 3.2362 - mae: 3.2362\n",
            "Epoch 744/1000\n",
            "1/1 [==============================] - 0s 23ms/step - loss: 3.2306 - mae: 3.2306\n",
            "Epoch 745/1000\n",
            "1/1 [==============================] - 0s 22ms/step - loss: 3.2250 - mae: 3.2250\n",
            "Epoch 746/1000\n",
            "1/1 [==============================] - 0s 25ms/step - loss: 3.2194 - mae: 3.2194\n",
            "Epoch 747/1000\n",
            "1/1 [==============================] - 0s 29ms/step - loss: 3.2137 - mae: 3.2137\n",
            "Epoch 748/1000\n",
            "1/1 [==============================] - 0s 23ms/step - loss: 3.2091 - mae: 3.2091\n",
            "Epoch 749/1000\n",
            "1/1 [==============================] - 0s 15ms/step - loss: 3.2044 - mae: 3.2044\n",
            "Epoch 750/1000\n",
            "1/1 [==============================] - 0s 20ms/step - loss: 3.1987 - mae: 3.1987\n",
            "Epoch 751/1000\n",
            "1/1 [==============================] - 0s 13ms/step - loss: 3.1931 - mae: 3.1931\n",
            "Epoch 752/1000\n",
            "1/1 [==============================] - 0s 11ms/step - loss: 3.1875 - mae: 3.1875\n",
            "Epoch 753/1000\n",
            "1/1 [==============================] - 0s 10ms/step - loss: 3.1819 - mae: 3.1819\n",
            "Epoch 754/1000\n",
            "1/1 [==============================] - 0s 10ms/step - loss: 3.1762 - mae: 3.1762\n",
            "Epoch 755/1000\n",
            "1/1 [==============================] - 0s 11ms/step - loss: 3.1706 - mae: 3.1706\n",
            "Epoch 756/1000\n",
            "1/1 [==============================] - 0s 11ms/step - loss: 3.1650 - mae: 3.1650\n",
            "Epoch 757/1000\n",
            "1/1 [==============================] - 0s 10ms/step - loss: 3.1594 - mae: 3.1594\n",
            "Epoch 758/1000\n",
            "1/1 [==============================] - 0s 11ms/step - loss: 3.1537 - mae: 3.1537\n",
            "Epoch 759/1000\n",
            "1/1 [==============================] - 0s 10ms/step - loss: 3.1481 - mae: 3.1481\n",
            "Epoch 760/1000\n",
            "1/1 [==============================] - 0s 23ms/step - loss: 3.1425 - mae: 3.1425\n",
            "Epoch 761/1000\n",
            "1/1 [==============================] - 0s 21ms/step - loss: 3.1369 - mae: 3.1369\n",
            "Epoch 762/1000\n",
            "1/1 [==============================] - 0s 22ms/step - loss: 3.1312 - mae: 3.1312\n",
            "Epoch 763/1000\n",
            "1/1 [==============================] - 0s 18ms/step - loss: 3.1256 - mae: 3.1256\n",
            "Epoch 764/1000\n",
            "1/1 [==============================] - 0s 20ms/step - loss: 3.1200 - mae: 3.1200\n",
            "Epoch 765/1000\n",
            "1/1 [==============================] - 0s 29ms/step - loss: 3.1144 - mae: 3.1144\n",
            "Epoch 766/1000\n",
            "1/1 [==============================] - 0s 18ms/step - loss: 3.1087 - mae: 3.1087\n",
            "Epoch 767/1000\n",
            "1/1 [==============================] - 0s 11ms/step - loss: 3.1031 - mae: 3.1031\n",
            "Epoch 768/1000\n",
            "1/1 [==============================] - 0s 22ms/step - loss: 3.0975 - mae: 3.0975\n",
            "Epoch 769/1000\n",
            "1/1 [==============================] - 0s 50ms/step - loss: 3.0919 - mae: 3.0919\n",
            "Epoch 770/1000\n",
            "1/1 [==============================] - 0s 35ms/step - loss: 3.0862 - mae: 3.0862\n",
            "Epoch 771/1000\n",
            "1/1 [==============================] - 0s 35ms/step - loss: 3.0806 - mae: 3.0806\n",
            "Epoch 772/1000\n",
            "1/1 [==============================] - 0s 28ms/step - loss: 3.0750 - mae: 3.0750\n",
            "Epoch 773/1000\n",
            "1/1 [==============================] - 0s 25ms/step - loss: 3.0694 - mae: 3.0694\n",
            "Epoch 774/1000\n",
            "1/1 [==============================] - 0s 25ms/step - loss: 3.0637 - mae: 3.0637\n",
            "Epoch 775/1000\n",
            "1/1 [==============================] - 0s 24ms/step - loss: 3.0581 - mae: 3.0581\n",
            "Epoch 776/1000\n",
            "1/1 [==============================] - 0s 28ms/step - loss: 3.0525 - mae: 3.0525\n",
            "Epoch 777/1000\n",
            "1/1 [==============================] - 0s 20ms/step - loss: 3.0468 - mae: 3.0468\n",
            "Epoch 778/1000\n",
            "1/1 [==============================] - 0s 24ms/step - loss: 3.0412 - mae: 3.0412\n",
            "Epoch 779/1000\n",
            "1/1 [==============================] - 0s 26ms/step - loss: 3.0356 - mae: 3.0356\n",
            "Epoch 780/1000\n",
            "1/1 [==============================] - 0s 21ms/step - loss: 3.0300 - mae: 3.0300\n",
            "Epoch 781/1000\n",
            "1/1 [==============================] - 0s 26ms/step - loss: 3.0243 - mae: 3.0243\n",
            "Epoch 782/1000\n",
            "1/1 [==============================] - 0s 21ms/step - loss: 3.0187 - mae: 3.0187\n",
            "Epoch 783/1000\n",
            "1/1 [==============================] - 0s 23ms/step - loss: 3.0131 - mae: 3.0131\n",
            "Epoch 784/1000\n",
            "1/1 [==============================] - 0s 23ms/step - loss: 3.0075 - mae: 3.0075\n",
            "Epoch 785/1000\n",
            "1/1 [==============================] - 0s 26ms/step - loss: 3.0018 - mae: 3.0018\n",
            "Epoch 786/1000\n",
            "1/1 [==============================] - 0s 25ms/step - loss: 2.9962 - mae: 2.9962\n",
            "Epoch 787/1000\n",
            "1/1 [==============================] - 0s 18ms/step - loss: 2.9906 - mae: 2.9906\n",
            "Epoch 788/1000\n",
            "1/1 [==============================] - 0s 25ms/step - loss: 2.9850 - mae: 2.9850\n",
            "Epoch 789/1000\n",
            "1/1 [==============================] - 0s 20ms/step - loss: 2.9810 - mae: 2.9810\n",
            "Epoch 790/1000\n",
            "1/1 [==============================] - 0s 26ms/step - loss: 2.9756 - mae: 2.9756\n",
            "Epoch 791/1000\n",
            "1/1 [==============================] - 0s 17ms/step - loss: 2.9700 - mae: 2.9700\n",
            "Epoch 792/1000\n",
            "1/1 [==============================] - 0s 17ms/step - loss: 2.9643 - mae: 2.9643\n",
            "Epoch 793/1000\n",
            "1/1 [==============================] - 0s 14ms/step - loss: 2.9587 - mae: 2.9587\n",
            "Epoch 794/1000\n",
            "1/1 [==============================] - 0s 16ms/step - loss: 2.9531 - mae: 2.9531\n",
            "Epoch 795/1000\n",
            "1/1 [==============================] - 0s 15ms/step - loss: 2.9475 - mae: 2.9475\n",
            "Epoch 796/1000\n",
            "1/1 [==============================] - 0s 14ms/step - loss: 2.9418 - mae: 2.9418\n",
            "Epoch 797/1000\n",
            "1/1 [==============================] - 0s 14ms/step - loss: 2.9362 - mae: 2.9362\n",
            "Epoch 798/1000\n",
            "1/1 [==============================] - 0s 11ms/step - loss: 2.9306 - mae: 2.9306\n",
            "Epoch 799/1000\n",
            "1/1 [==============================] - 0s 15ms/step - loss: 2.9250 - mae: 2.9250\n",
            "Epoch 800/1000\n",
            "1/1 [==============================] - 0s 14ms/step - loss: 2.9193 - mae: 2.9193\n",
            "Epoch 801/1000\n",
            "1/1 [==============================] - 0s 14ms/step - loss: 2.9137 - mae: 2.9137\n",
            "Epoch 802/1000\n",
            "1/1 [==============================] - 0s 21ms/step - loss: 2.9081 - mae: 2.9081\n",
            "Epoch 803/1000\n",
            "1/1 [==============================] - 0s 18ms/step - loss: 2.9025 - mae: 2.9025\n",
            "Epoch 804/1000\n",
            "1/1 [==============================] - 0s 14ms/step - loss: 2.8968 - mae: 2.8968\n",
            "Epoch 805/1000\n",
            "1/1 [==============================] - 0s 21ms/step - loss: 2.8912 - mae: 2.8912\n",
            "Epoch 806/1000\n",
            "1/1 [==============================] - 0s 19ms/step - loss: 2.8856 - mae: 2.8856\n",
            "Epoch 807/1000\n",
            "1/1 [==============================] - 0s 17ms/step - loss: 2.8800 - mae: 2.8800\n",
            "Epoch 808/1000\n",
            "1/1 [==============================] - 0s 24ms/step - loss: 2.8743 - mae: 2.8743\n",
            "Epoch 809/1000\n",
            "1/1 [==============================] - 0s 30ms/step - loss: 2.8687 - mae: 2.8687\n",
            "Epoch 810/1000\n",
            "1/1 [==============================] - 0s 30ms/step - loss: 2.8631 - mae: 2.8631\n",
            "Epoch 811/1000\n",
            "1/1 [==============================] - 0s 28ms/step - loss: 2.8575 - mae: 2.8575\n",
            "Epoch 812/1000\n",
            "1/1 [==============================] - 0s 22ms/step - loss: 2.8518 - mae: 2.8518\n",
            "Epoch 813/1000\n",
            "1/1 [==============================] - 0s 38ms/step - loss: 2.8462 - mae: 2.8462\n",
            "Epoch 814/1000\n",
            "1/1 [==============================] - 0s 28ms/step - loss: 2.8406 - mae: 2.8406\n",
            "Epoch 815/1000\n",
            "1/1 [==============================] - 0s 33ms/step - loss: 2.8350 - mae: 2.8350\n",
            "Epoch 816/1000\n",
            "1/1 [==============================] - 0s 25ms/step - loss: 2.8293 - mae: 2.8293\n",
            "Epoch 817/1000\n",
            "1/1 [==============================] - 0s 20ms/step - loss: 2.8237 - mae: 2.8237\n",
            "Epoch 818/1000\n",
            "1/1 [==============================] - 0s 23ms/step - loss: 2.8181 - mae: 2.8181\n",
            "Epoch 819/1000\n",
            "1/1 [==============================] - 0s 31ms/step - loss: 2.8125 - mae: 2.8125\n",
            "Epoch 820/1000\n",
            "1/1 [==============================] - 0s 18ms/step - loss: 2.8068 - mae: 2.8068\n",
            "Epoch 821/1000\n",
            "1/1 [==============================] - 0s 26ms/step - loss: 2.8012 - mae: 2.8012\n",
            "Epoch 822/1000\n",
            "1/1 [==============================] - 0s 30ms/step - loss: 2.7956 - mae: 2.7956\n",
            "Epoch 823/1000\n",
            "1/1 [==============================] - 0s 25ms/step - loss: 2.7900 - mae: 2.7900\n",
            "Epoch 824/1000\n",
            "1/1 [==============================] - 0s 31ms/step - loss: 2.7843 - mae: 2.7843\n",
            "Epoch 825/1000\n",
            "1/1 [==============================] - 0s 35ms/step - loss: 2.7787 - mae: 2.7787\n",
            "Epoch 826/1000\n",
            "1/1 [==============================] - 0s 17ms/step - loss: 2.7731 - mae: 2.7731\n",
            "Epoch 827/1000\n",
            "1/1 [==============================] - 0s 13ms/step - loss: 2.7675 - mae: 2.7675\n",
            "Epoch 828/1000\n",
            "1/1 [==============================] - 0s 17ms/step - loss: 2.7618 - mae: 2.7618\n",
            "Epoch 829/1000\n",
            "1/1 [==============================] - 0s 18ms/step - loss: 2.7566 - mae: 2.7566\n",
            "Epoch 830/1000\n",
            "1/1 [==============================] - 0s 16ms/step - loss: 2.7525 - mae: 2.7525\n",
            "Epoch 831/1000\n",
            "1/1 [==============================] - 0s 12ms/step - loss: 2.7468 - mae: 2.7468\n",
            "Epoch 832/1000\n",
            "1/1 [==============================] - 0s 14ms/step - loss: 2.7412 - mae: 2.7412\n",
            "Epoch 833/1000\n",
            "1/1 [==============================] - 0s 11ms/step - loss: 2.7356 - mae: 2.7356\n",
            "Epoch 834/1000\n",
            "1/1 [==============================] - 0s 14ms/step - loss: 2.7300 - mae: 2.7300\n",
            "Epoch 835/1000\n",
            "1/1 [==============================] - 0s 14ms/step - loss: 2.7243 - mae: 2.7243\n",
            "Epoch 836/1000\n",
            "1/1 [==============================] - 0s 13ms/step - loss: 2.7187 - mae: 2.7187\n",
            "Epoch 837/1000\n",
            "1/1 [==============================] - 0s 21ms/step - loss: 2.7131 - mae: 2.7131\n",
            "Epoch 838/1000\n",
            "1/1 [==============================] - 0s 33ms/step - loss: 2.7075 - mae: 2.7075\n",
            "Epoch 839/1000\n",
            "1/1 [==============================] - 0s 39ms/step - loss: 2.7018 - mae: 2.7018\n",
            "Epoch 840/1000\n",
            "1/1 [==============================] - 0s 25ms/step - loss: 2.6962 - mae: 2.6962\n",
            "Epoch 841/1000\n",
            "1/1 [==============================] - 0s 36ms/step - loss: 2.6906 - mae: 2.6906\n",
            "Epoch 842/1000\n",
            "1/1 [==============================] - 0s 28ms/step - loss: 2.6850 - mae: 2.6850\n",
            "Epoch 843/1000\n",
            "1/1 [==============================] - 0s 18ms/step - loss: 2.6793 - mae: 2.6793\n",
            "Epoch 844/1000\n",
            "1/1 [==============================] - 0s 17ms/step - loss: 2.6737 - mae: 2.6737\n",
            "Epoch 845/1000\n",
            "1/1 [==============================] - 0s 18ms/step - loss: 2.6681 - mae: 2.6681\n",
            "Epoch 846/1000\n",
            "1/1 [==============================] - 0s 22ms/step - loss: 2.6625 - mae: 2.6625\n",
            "Epoch 847/1000\n",
            "1/1 [==============================] - 0s 17ms/step - loss: 2.6568 - mae: 2.6568\n",
            "Epoch 848/1000\n",
            "1/1 [==============================] - 0s 18ms/step - loss: 2.6512 - mae: 2.6512\n",
            "Epoch 849/1000\n",
            "1/1 [==============================] - 0s 21ms/step - loss: 2.6456 - mae: 2.6456\n",
            "Epoch 850/1000\n",
            "1/1 [==============================] - 0s 20ms/step - loss: 2.6400 - mae: 2.6400\n",
            "Epoch 851/1000\n",
            "1/1 [==============================] - 0s 21ms/step - loss: 2.6343 - mae: 2.6343\n",
            "Epoch 852/1000\n",
            "1/1 [==============================] - 0s 24ms/step - loss: 2.6287 - mae: 2.6287\n",
            "Epoch 853/1000\n",
            "1/1 [==============================] - 0s 22ms/step - loss: 2.6231 - mae: 2.6231\n",
            "Epoch 854/1000\n",
            "1/1 [==============================] - 0s 19ms/step - loss: 2.6175 - mae: 2.6175\n",
            "Epoch 855/1000\n",
            "1/1 [==============================] - 0s 22ms/step - loss: 2.6118 - mae: 2.6118\n",
            "Epoch 856/1000\n",
            "1/1 [==============================] - 0s 15ms/step - loss: 2.6062 - mae: 2.6062\n",
            "Epoch 857/1000\n",
            "1/1 [==============================] - 0s 21ms/step - loss: 2.6006 - mae: 2.6006\n",
            "Epoch 858/1000\n",
            "1/1 [==============================] - 0s 20ms/step - loss: 2.5950 - mae: 2.5950\n",
            "Epoch 859/1000\n",
            "1/1 [==============================] - 0s 23ms/step - loss: 2.5893 - mae: 2.5893\n",
            "Epoch 860/1000\n",
            "1/1 [==============================] - 0s 41ms/step - loss: 2.5837 - mae: 2.5837\n",
            "Epoch 861/1000\n",
            "1/1 [==============================] - 0s 63ms/step - loss: 2.5781 - mae: 2.5781\n",
            "Epoch 862/1000\n",
            "1/1 [==============================] - 0s 39ms/step - loss: 2.5725 - mae: 2.5725\n",
            "Epoch 863/1000\n",
            "1/1 [==============================] - 0s 30ms/step - loss: 2.5668 - mae: 2.5668\n",
            "Epoch 864/1000\n",
            "1/1 [==============================] - 0s 24ms/step - loss: 2.5612 - mae: 2.5612\n",
            "Epoch 865/1000\n",
            "1/1 [==============================] - 0s 13ms/step - loss: 2.5556 - mae: 2.5556\n",
            "Epoch 866/1000\n",
            "1/1 [==============================] - 0s 14ms/step - loss: 2.5500 - mae: 2.5500\n",
            "Epoch 867/1000\n",
            "1/1 [==============================] - 0s 16ms/step - loss: 2.5443 - mae: 2.5443\n",
            "Epoch 868/1000\n",
            "1/1 [==============================] - 0s 14ms/step - loss: 2.5387 - mae: 2.5387\n",
            "Epoch 869/1000\n",
            "1/1 [==============================] - 0s 21ms/step - loss: 2.5331 - mae: 2.5331\n",
            "Epoch 870/1000\n",
            "1/1 [==============================] - 0s 22ms/step - loss: 2.5285 - mae: 2.5285\n",
            "Epoch 871/1000\n",
            "1/1 [==============================] - 0s 23ms/step - loss: 2.5237 - mae: 2.5237\n",
            "Epoch 872/1000\n",
            "1/1 [==============================] - 0s 17ms/step - loss: 2.5181 - mae: 2.5181\n",
            "Epoch 873/1000\n",
            "1/1 [==============================] - 0s 25ms/step - loss: 2.5125 - mae: 2.5125\n",
            "Epoch 874/1000\n",
            "1/1 [==============================] - 0s 17ms/step - loss: 2.5068 - mae: 2.5068\n",
            "Epoch 875/1000\n",
            "1/1 [==============================] - 0s 19ms/step - loss: 2.5012 - mae: 2.5012\n",
            "Epoch 876/1000\n",
            "1/1 [==============================] - 0s 12ms/step - loss: 2.4956 - mae: 2.4956\n",
            "Epoch 877/1000\n",
            "1/1 [==============================] - 0s 20ms/step - loss: 2.4900 - mae: 2.4900\n",
            "Epoch 878/1000\n",
            "1/1 [==============================] - 0s 54ms/step - loss: 2.4843 - mae: 2.4843\n",
            "Epoch 879/1000\n",
            "1/1 [==============================] - 0s 36ms/step - loss: 2.4787 - mae: 2.4787\n",
            "Epoch 880/1000\n",
            "1/1 [==============================] - 0s 35ms/step - loss: 2.4731 - mae: 2.4731\n",
            "Epoch 881/1000\n",
            "1/1 [==============================] - 0s 35ms/step - loss: 2.4675 - mae: 2.4675\n",
            "Epoch 882/1000\n",
            "1/1 [==============================] - 0s 30ms/step - loss: 2.4618 - mae: 2.4618\n",
            "Epoch 883/1000\n",
            "1/1 [==============================] - 0s 24ms/step - loss: 2.4562 - mae: 2.4562\n",
            "Epoch 884/1000\n",
            "1/1 [==============================] - 0s 26ms/step - loss: 2.4506 - mae: 2.4506\n",
            "Epoch 885/1000\n",
            "1/1 [==============================] - 0s 38ms/step - loss: 2.4450 - mae: 2.4450\n",
            "Epoch 886/1000\n",
            "1/1 [==============================] - 0s 33ms/step - loss: 2.4393 - mae: 2.4393\n",
            "Epoch 887/1000\n",
            "1/1 [==============================] - 0s 22ms/step - loss: 2.4337 - mae: 2.4337\n",
            "Epoch 888/1000\n",
            "1/1 [==============================] - 0s 20ms/step - loss: 2.4281 - mae: 2.4281\n",
            "Epoch 889/1000\n",
            "1/1 [==============================] - 0s 36ms/step - loss: 2.4225 - mae: 2.4225\n",
            "Epoch 890/1000\n",
            "1/1 [==============================] - 0s 27ms/step - loss: 2.4168 - mae: 2.4168\n",
            "Epoch 891/1000\n",
            "1/1 [==============================] - 0s 31ms/step - loss: 2.4112 - mae: 2.4112\n",
            "Epoch 892/1000\n",
            "1/1 [==============================] - 0s 29ms/step - loss: 2.4056 - mae: 2.4056\n",
            "Epoch 893/1000\n",
            "1/1 [==============================] - 0s 35ms/step - loss: 2.4000 - mae: 2.4000\n",
            "Epoch 894/1000\n",
            "1/1 [==============================] - 0s 90ms/step - loss: 2.3943 - mae: 2.3943\n",
            "Epoch 895/1000\n",
            "1/1 [==============================] - 0s 31ms/step - loss: 2.3887 - mae: 2.3887\n",
            "Epoch 896/1000\n",
            "1/1 [==============================] - 0s 25ms/step - loss: 2.3831 - mae: 2.3831\n",
            "Epoch 897/1000\n",
            "1/1 [==============================] - 0s 34ms/step - loss: 2.3775 - mae: 2.3775\n",
            "Epoch 898/1000\n",
            "1/1 [==============================] - 0s 37ms/step - loss: 2.3718 - mae: 2.3718\n",
            "Epoch 899/1000\n",
            "1/1 [==============================] - 0s 34ms/step - loss: 2.3662 - mae: 2.3662\n",
            "Epoch 900/1000\n",
            "1/1 [==============================] - 0s 26ms/step - loss: 2.3606 - mae: 2.3606\n",
            "Epoch 901/1000\n",
            "1/1 [==============================] - 0s 33ms/step - loss: 2.3550 - mae: 2.3550\n",
            "Epoch 902/1000\n",
            "1/1 [==============================] - 0s 22ms/step - loss: 2.3493 - mae: 2.3493\n",
            "Epoch 903/1000\n",
            "1/1 [==============================] - 0s 18ms/step - loss: 2.3437 - mae: 2.3437\n",
            "Epoch 904/1000\n",
            "1/1 [==============================] - 0s 20ms/step - loss: 2.3381 - mae: 2.3381\n",
            "Epoch 905/1000\n",
            "1/1 [==============================] - 0s 13ms/step - loss: 2.3325 - mae: 2.3325\n",
            "Epoch 906/1000\n",
            "1/1 [==============================] - 0s 13ms/step - loss: 2.3268 - mae: 2.3268\n",
            "Epoch 907/1000\n",
            "1/1 [==============================] - 0s 13ms/step - loss: 2.3212 - mae: 2.3212\n",
            "Epoch 908/1000\n",
            "1/1 [==============================] - 0s 13ms/step - loss: 2.3156 - mae: 2.3156\n",
            "Epoch 909/1000\n",
            "1/1 [==============================] - 0s 14ms/step - loss: 2.3100 - mae: 2.3100\n",
            "Epoch 910/1000\n",
            "1/1 [==============================] - 0s 13ms/step - loss: 2.3043 - mae: 2.3043\n",
            "Epoch 911/1000\n",
            "1/1 [==============================] - 0s 12ms/step - loss: 2.3004 - mae: 2.3004\n",
            "Epoch 912/1000\n",
            "1/1 [==============================] - 0s 19ms/step - loss: 2.2950 - mae: 2.2950\n",
            "Epoch 913/1000\n",
            "1/1 [==============================] - 0s 27ms/step - loss: 2.2893 - mae: 2.2893\n",
            "Epoch 914/1000\n",
            "1/1 [==============================] - 0s 14ms/step - loss: 2.2837 - mae: 2.2837\n",
            "Epoch 915/1000\n",
            "1/1 [==============================] - 0s 10ms/step - loss: 2.2781 - mae: 2.2781\n",
            "Epoch 916/1000\n",
            "1/1 [==============================] - 0s 26ms/step - loss: 2.2725 - mae: 2.2725\n",
            "Epoch 917/1000\n",
            "1/1 [==============================] - 0s 21ms/step - loss: 2.2668 - mae: 2.2668\n",
            "Epoch 918/1000\n",
            "1/1 [==============================] - 0s 21ms/step - loss: 2.2612 - mae: 2.2612\n",
            "Epoch 919/1000\n",
            "1/1 [==============================] - 0s 27ms/step - loss: 2.2556 - mae: 2.2556\n",
            "Epoch 920/1000\n",
            "1/1 [==============================] - 0s 24ms/step - loss: 2.2500 - mae: 2.2500\n",
            "Epoch 921/1000\n",
            "1/1 [==============================] - 0s 13ms/step - loss: 2.2443 - mae: 2.2443\n",
            "Epoch 922/1000\n",
            "1/1 [==============================] - 0s 21ms/step - loss: 2.2387 - mae: 2.2387\n",
            "Epoch 923/1000\n",
            "1/1 [==============================] - 0s 26ms/step - loss: 2.2331 - mae: 2.2331\n",
            "Epoch 924/1000\n",
            "1/1 [==============================] - 0s 20ms/step - loss: 2.2275 - mae: 2.2275\n",
            "Epoch 925/1000\n",
            "1/1 [==============================] - 0s 22ms/step - loss: 2.2218 - mae: 2.2218\n",
            "Epoch 926/1000\n",
            "1/1 [==============================] - 0s 24ms/step - loss: 2.2162 - mae: 2.2162\n",
            "Epoch 927/1000\n",
            "1/1 [==============================] - 0s 12ms/step - loss: 2.2106 - mae: 2.2106\n",
            "Epoch 928/1000\n",
            "1/1 [==============================] - 0s 27ms/step - loss: 2.2050 - mae: 2.2050\n",
            "Epoch 929/1000\n",
            "1/1 [==============================] - 0s 38ms/step - loss: 2.1993 - mae: 2.1993\n",
            "Epoch 930/1000\n",
            "1/1 [==============================] - 0s 25ms/step - loss: 2.1937 - mae: 2.1937\n",
            "Epoch 931/1000\n",
            "1/1 [==============================] - 0s 34ms/step - loss: 2.1881 - mae: 2.1881\n",
            "Epoch 932/1000\n",
            "1/1 [==============================] - 0s 43ms/step - loss: 2.1825 - mae: 2.1825\n",
            "Epoch 933/1000\n",
            "1/1 [==============================] - 0s 63ms/step - loss: 2.1768 - mae: 2.1768\n",
            "Epoch 934/1000\n",
            "1/1 [==============================] - 0s 34ms/step - loss: 2.1712 - mae: 2.1712\n",
            "Epoch 935/1000\n",
            "1/1 [==============================] - 0s 27ms/step - loss: 2.1656 - mae: 2.1656\n",
            "Epoch 936/1000\n",
            "1/1 [==============================] - 0s 40ms/step - loss: 2.1600 - mae: 2.1600\n",
            "Epoch 937/1000\n",
            "1/1 [==============================] - 0s 63ms/step - loss: 2.1543 - mae: 2.1543\n",
            "Epoch 938/1000\n",
            "1/1 [==============================] - 0s 67ms/step - loss: 2.1487 - mae: 2.1487\n",
            "Epoch 939/1000\n",
            "1/1 [==============================] - 0s 35ms/step - loss: 2.1431 - mae: 2.1431\n",
            "Epoch 940/1000\n",
            "1/1 [==============================] - 0s 53ms/step - loss: 2.1375 - mae: 2.1375\n",
            "Epoch 941/1000\n",
            "1/1 [==============================] - 0s 27ms/step - loss: 2.1318 - mae: 2.1318\n",
            "Epoch 942/1000\n",
            "1/1 [==============================] - 0s 32ms/step - loss: 2.1262 - mae: 2.1262\n",
            "Epoch 943/1000\n",
            "1/1 [==============================] - 0s 33ms/step - loss: 2.1206 - mae: 2.1206\n",
            "Epoch 944/1000\n",
            "1/1 [==============================] - 0s 33ms/step - loss: 2.1150 - mae: 2.1150\n",
            "Epoch 945/1000\n",
            "1/1 [==============================] - 0s 33ms/step - loss: 2.1093 - mae: 2.1093\n",
            "Epoch 946/1000\n",
            "1/1 [==============================] - 0s 24ms/step - loss: 2.1037 - mae: 2.1037\n",
            "Epoch 947/1000\n",
            "1/1 [==============================] - 0s 19ms/step - loss: 2.0981 - mae: 2.0981\n",
            "Epoch 948/1000\n",
            "1/1 [==============================] - 0s 18ms/step - loss: 2.0925 - mae: 2.0925\n",
            "Epoch 949/1000\n",
            "1/1 [==============================] - 0s 20ms/step - loss: 2.0868 - mae: 2.0868\n",
            "Epoch 950/1000\n",
            "1/1 [==============================] - 0s 24ms/step - loss: 2.0812 - mae: 2.0812\n",
            "Epoch 951/1000\n",
            "1/1 [==============================] - 0s 23ms/step - loss: 2.0760 - mae: 2.0760\n",
            "Epoch 952/1000\n",
            "1/1 [==============================] - 0s 18ms/step - loss: 2.0718 - mae: 2.0718\n",
            "Epoch 953/1000\n",
            "1/1 [==============================] - 0s 52ms/step - loss: 2.0662 - mae: 2.0662\n",
            "Epoch 954/1000\n",
            "1/1 [==============================] - 0s 53ms/step - loss: 2.0606 - mae: 2.0606\n",
            "Epoch 955/1000\n",
            "1/1 [==============================] - 0s 41ms/step - loss: 2.0550 - mae: 2.0550\n",
            "Epoch 956/1000\n",
            "1/1 [==============================] - 0s 41ms/step - loss: 2.0493 - mae: 2.0493\n",
            "Epoch 957/1000\n",
            "1/1 [==============================] - 0s 27ms/step - loss: 2.0437 - mae: 2.0437\n",
            "Epoch 958/1000\n",
            "1/1 [==============================] - 0s 22ms/step - loss: 2.0381 - mae: 2.0381\n",
            "Epoch 959/1000\n",
            "1/1 [==============================] - 0s 13ms/step - loss: 2.0325 - mae: 2.0325\n",
            "Epoch 960/1000\n",
            "1/1 [==============================] - 0s 13ms/step - loss: 2.0268 - mae: 2.0268\n",
            "Epoch 961/1000\n",
            "1/1 [==============================] - 0s 21ms/step - loss: 2.0212 - mae: 2.0212\n",
            "Epoch 962/1000\n",
            "1/1 [==============================] - 0s 23ms/step - loss: 2.0156 - mae: 2.0156\n",
            "Epoch 963/1000\n",
            "1/1 [==============================] - 0s 18ms/step - loss: 2.0100 - mae: 2.0100\n",
            "Epoch 964/1000\n",
            "1/1 [==============================] - 0s 29ms/step - loss: 2.0043 - mae: 2.0043\n",
            "Epoch 965/1000\n",
            "1/1 [==============================] - 0s 65ms/step - loss: 1.9987 - mae: 1.9987\n",
            "Epoch 966/1000\n",
            "1/1 [==============================] - 0s 39ms/step - loss: 1.9931 - mae: 1.9931\n",
            "Epoch 967/1000\n",
            "1/1 [==============================] - 0s 48ms/step - loss: 1.9875 - mae: 1.9875\n",
            "Epoch 968/1000\n",
            "1/1 [==============================] - 0s 24ms/step - loss: 1.9818 - mae: 1.9818\n",
            "Epoch 969/1000\n",
            "1/1 [==============================] - 0s 24ms/step - loss: 1.9762 - mae: 1.9762\n",
            "Epoch 970/1000\n",
            "1/1 [==============================] - 0s 78ms/step - loss: 1.9706 - mae: 1.9706\n",
            "Epoch 971/1000\n",
            "1/1 [==============================] - 0s 26ms/step - loss: 1.9650 - mae: 1.9650\n",
            "Epoch 972/1000\n",
            "1/1 [==============================] - 0s 20ms/step - loss: 1.9593 - mae: 1.9593\n",
            "Epoch 973/1000\n",
            "1/1 [==============================] - 0s 20ms/step - loss: 1.9537 - mae: 1.9537\n",
            "Epoch 974/1000\n",
            "1/1 [==============================] - 0s 25ms/step - loss: 1.9481 - mae: 1.9481\n",
            "Epoch 975/1000\n",
            "1/1 [==============================] - 0s 17ms/step - loss: 1.9424 - mae: 1.9424\n",
            "Epoch 976/1000\n",
            "1/1 [==============================] - 0s 23ms/step - loss: 1.9368 - mae: 1.9368\n",
            "Epoch 977/1000\n",
            "1/1 [==============================] - 0s 18ms/step - loss: 1.9312 - mae: 1.9312\n",
            "Epoch 978/1000\n",
            "1/1 [==============================] - 0s 18ms/step - loss: 1.9256 - mae: 1.9256\n",
            "Epoch 979/1000\n",
            "1/1 [==============================] - 0s 22ms/step - loss: 1.9199 - mae: 1.9199\n",
            "Epoch 980/1000\n",
            "1/1 [==============================] - 0s 19ms/step - loss: 1.9143 - mae: 1.9143\n",
            "Epoch 981/1000\n",
            "1/1 [==============================] - 0s 19ms/step - loss: 1.9087 - mae: 1.9087\n",
            "Epoch 982/1000\n",
            "1/1 [==============================] - 0s 15ms/step - loss: 1.9031 - mae: 1.9031\n",
            "Epoch 983/1000\n",
            "1/1 [==============================] - 0s 14ms/step - loss: 1.8974 - mae: 1.8974\n",
            "Epoch 984/1000\n",
            "1/1 [==============================] - 0s 12ms/step - loss: 1.8918 - mae: 1.8918\n",
            "Epoch 985/1000\n",
            "1/1 [==============================] - 0s 17ms/step - loss: 1.8862 - mae: 1.8862\n",
            "Epoch 986/1000\n",
            "1/1 [==============================] - 0s 17ms/step - loss: 1.8806 - mae: 1.8806\n",
            "Epoch 987/1000\n",
            "1/1 [==============================] - 0s 19ms/step - loss: 1.8749 - mae: 1.8749\n",
            "Epoch 988/1000\n",
            "1/1 [==============================] - 0s 19ms/step - loss: 1.8693 - mae: 1.8693\n",
            "Epoch 989/1000\n",
            "1/1 [==============================] - 0s 14ms/step - loss: 1.8637 - mae: 1.8637\n",
            "Epoch 990/1000\n",
            "1/1 [==============================] - 0s 13ms/step - loss: 1.8581 - mae: 1.8581\n",
            "Epoch 991/1000\n",
            "1/1 [==============================] - 0s 13ms/step - loss: 1.8524 - mae: 1.8524\n",
            "Epoch 992/1000\n",
            "1/1 [==============================] - 0s 13ms/step - loss: 1.8479 - mae: 1.8479\n",
            "Epoch 993/1000\n",
            "1/1 [==============================] - 0s 12ms/step - loss: 1.8431 - mae: 1.8431\n",
            "Epoch 994/1000\n",
            "1/1 [==============================] - 0s 18ms/step - loss: 1.8374 - mae: 1.8374\n",
            "Epoch 995/1000\n",
            "1/1 [==============================] - 0s 16ms/step - loss: 1.8318 - mae: 1.8318\n",
            "Epoch 996/1000\n",
            "1/1 [==============================] - 0s 16ms/step - loss: 1.8262 - mae: 1.8262\n",
            "Epoch 997/1000\n",
            "1/1 [==============================] - 0s 19ms/step - loss: 1.8206 - mae: 1.8206\n",
            "Epoch 998/1000\n",
            "1/1 [==============================] - 0s 16ms/step - loss: 1.8149 - mae: 1.8149\n",
            "Epoch 999/1000\n",
            "1/1 [==============================] - 0s 12ms/step - loss: 1.8093 - mae: 1.8093\n",
            "Epoch 1000/1000\n",
            "1/1 [==============================] - 0s 16ms/step - loss: 1.8037 - mae: 1.8037\n"
          ]
        },
        {
          "output_type": "execute_result",
          "data": {
            "text/plain": [
              "<keras.src.callbacks.History at 0x7e48b0cf6da0>"
            ]
          },
          "metadata": {},
          "execution_count": 10
        }
      ]
    },
    {
      "cell_type": "code",
      "source": [
        "# Check out X and Y\n",
        "X, Y\n"
      ],
      "metadata": {
        "colab": {
          "base_uri": "https://localhost:8080/"
        },
        "id": "06El7nZ5jUAS",
        "outputId": "a8144857-2cdd-4ea5-d75f-e1dde4b0d5b3"
      },
      "execution_count": 11,
      "outputs": [
        {
          "output_type": "execute_result",
          "data": {
            "text/plain": [
              "(<tf.Tensor: shape=(8,), dtype=float64, numpy=array([-7., -4., -1.,  2.,  5.,  8., 11., 14.])>,\n",
              " <tf.Tensor: shape=(8,), dtype=float64, numpy=array([ 3.,  6.,  9., 12., 15., 18., 21., 24.])>)"
            ]
          },
          "metadata": {},
          "execution_count": 11
        }
      ]
    },
    {
      "cell_type": "code",
      "source": [
        "#try and make the prediction using our model\n",
        "model.predict([11.0])"
      ],
      "metadata": {
        "colab": {
          "base_uri": "https://localhost:8080/"
        },
        "id": "IFa7B0tCjYUi",
        "outputId": "b2d8684e-fd9d-4c33-e6b8-85d430f2b35c"
      },
      "execution_count": 12,
      "outputs": [
        {
          "output_type": "stream",
          "name": "stdout",
          "text": [
            "1/1 [==============================] - 0s 165ms/step\n"
          ]
        },
        {
          "output_type": "execute_result",
          "data": {
            "text/plain": [
              "array([[20.766666]], dtype=float32)"
            ]
          },
          "metadata": {},
          "execution_count": 12
        }
      ]
    },
    {
      "cell_type": "markdown",
      "source": [
        "### Improving our model\n",
        " We can imrove our model, by altering the steps we took to creat a model.\n",
        "\n",
        " 1. ** Creating a model**- here we might add more layers, increase the number of hidden units (all called neurons) within each of the hidden layers, change the activation function of each layer.\n",
        " 2. ** Compiling a model** - Here we might change the optimization function or perhaps the learning rate of the optimization function.\n",
        " 3. Fitting a model - Here we might fit a model for more epochs (leave it training for longer_ or on more data (give the model more examples to learn from)."
      ],
      "metadata": {
        "id": "8t89qvXblThw"
      }
    },
    {
      "cell_type": "code",
      "source": [
        "# Lets rebuild the model\n",
        "# Create a mode\n",
        "model2 = tf.keras.Sequential([\n",
        "    tf.keras.layers.Dense(1)\n",
        "])\n",
        "\n",
        "# model2 = tf.keras.Sequential({\n",
        "#     tf.keras.layers.Dense(1)\n",
        "# })\n",
        "\n",
        "# 2 Compile the model\n",
        "model2.compile(loss= tf.keras.losses.mae,\n",
        "              optimizer= tf.keras.optimizers.SGD(),\n",
        "              metrics= ['mae'])\n",
        "\n",
        "# 3 Fit the model\n",
        "model2.fit(tf.expand_dims(X, axis=1), Y, epochs=100)"
      ],
      "metadata": {
        "colab": {
          "base_uri": "https://localhost:8080/"
        },
        "id": "XDW2o9Raj3vC",
        "outputId": "1de102bf-3414-46ed-f418-ed3000c490fb"
      },
      "execution_count": 13,
      "outputs": [
        {
          "output_type": "stream",
          "name": "stdout",
          "text": [
            "Epoch 1/100\n",
            "1/1 [==============================] - 1s 638ms/step - loss: 13.0558 - mae: 13.0558\n",
            "Epoch 2/100\n",
            "1/1 [==============================] - 0s 20ms/step - loss: 12.9233 - mae: 12.9233\n",
            "Epoch 3/100\n",
            "1/1 [==============================] - 0s 14ms/step - loss: 12.7908 - mae: 12.7908\n",
            "Epoch 4/100\n",
            "1/1 [==============================] - 0s 13ms/step - loss: 12.6583 - mae: 12.6583\n",
            "Epoch 5/100\n",
            "1/1 [==============================] - 0s 11ms/step - loss: 12.5258 - mae: 12.5258\n",
            "Epoch 6/100\n",
            "1/1 [==============================] - 0s 13ms/step - loss: 12.3933 - mae: 12.3933\n",
            "Epoch 7/100\n",
            "1/1 [==============================] - 0s 26ms/step - loss: 12.2608 - mae: 12.2608\n",
            "Epoch 8/100\n",
            "1/1 [==============================] - 0s 19ms/step - loss: 12.1283 - mae: 12.1283\n",
            "Epoch 9/100\n",
            "1/1 [==============================] - 0s 15ms/step - loss: 11.9958 - mae: 11.9958\n",
            "Epoch 10/100\n",
            "1/1 [==============================] - 0s 14ms/step - loss: 11.8633 - mae: 11.8633\n",
            "Epoch 11/100\n",
            "1/1 [==============================] - 0s 17ms/step - loss: 11.7308 - mae: 11.7308\n",
            "Epoch 12/100\n",
            "1/1 [==============================] - 0s 11ms/step - loss: 11.5983 - mae: 11.5983\n",
            "Epoch 13/100\n",
            "1/1 [==============================] - 0s 12ms/step - loss: 11.4658 - mae: 11.4658\n",
            "Epoch 14/100\n",
            "1/1 [==============================] - 0s 11ms/step - loss: 11.3333 - mae: 11.3333\n",
            "Epoch 15/100\n",
            "1/1 [==============================] - 0s 13ms/step - loss: 11.2008 - mae: 11.2008\n",
            "Epoch 16/100\n",
            "1/1 [==============================] - 0s 14ms/step - loss: 11.0683 - mae: 11.0683\n",
            "Epoch 17/100\n",
            "1/1 [==============================] - 0s 11ms/step - loss: 10.9358 - mae: 10.9358\n",
            "Epoch 18/100\n",
            "1/1 [==============================] - 0s 12ms/step - loss: 10.8033 - mae: 10.8033\n",
            "Epoch 19/100\n",
            "1/1 [==============================] - 0s 15ms/step - loss: 10.6708 - mae: 10.6708\n",
            "Epoch 20/100\n",
            "1/1 [==============================] - 0s 12ms/step - loss: 10.5383 - mae: 10.5383\n",
            "Epoch 21/100\n",
            "1/1 [==============================] - 0s 11ms/step - loss: 10.4058 - mae: 10.4058\n",
            "Epoch 22/100\n",
            "1/1 [==============================] - 0s 11ms/step - loss: 10.2733 - mae: 10.2733\n",
            "Epoch 23/100\n",
            "1/1 [==============================] - 0s 14ms/step - loss: 10.1408 - mae: 10.1408\n",
            "Epoch 24/100\n",
            "1/1 [==============================] - 0s 15ms/step - loss: 10.0083 - mae: 10.0083\n",
            "Epoch 25/100\n",
            "1/1 [==============================] - 0s 11ms/step - loss: 9.8758 - mae: 9.8758\n",
            "Epoch 26/100\n",
            "1/1 [==============================] - 0s 12ms/step - loss: 9.7433 - mae: 9.7433\n",
            "Epoch 27/100\n",
            "1/1 [==============================] - 0s 12ms/step - loss: 9.6108 - mae: 9.6108\n",
            "Epoch 28/100\n",
            "1/1 [==============================] - 0s 12ms/step - loss: 9.4783 - mae: 9.4783\n",
            "Epoch 29/100\n",
            "1/1 [==============================] - 0s 15ms/step - loss: 9.3458 - mae: 9.3458\n",
            "Epoch 30/100\n",
            "1/1 [==============================] - 0s 14ms/step - loss: 9.2133 - mae: 9.2133\n",
            "Epoch 31/100\n",
            "1/1 [==============================] - 0s 14ms/step - loss: 9.0808 - mae: 9.0808\n",
            "Epoch 32/100\n",
            "1/1 [==============================] - 0s 13ms/step - loss: 8.9483 - mae: 8.9483\n",
            "Epoch 33/100\n",
            "1/1 [==============================] - 0s 12ms/step - loss: 8.8158 - mae: 8.8158\n",
            "Epoch 34/100\n",
            "1/1 [==============================] - 0s 20ms/step - loss: 8.6833 - mae: 8.6833\n",
            "Epoch 35/100\n",
            "1/1 [==============================] - 0s 14ms/step - loss: 8.5508 - mae: 8.5508\n",
            "Epoch 36/100\n",
            "1/1 [==============================] - 0s 15ms/step - loss: 8.4183 - mae: 8.4183\n",
            "Epoch 37/100\n",
            "1/1 [==============================] - 0s 12ms/step - loss: 8.2858 - mae: 8.2858\n",
            "Epoch 38/100\n",
            "1/1 [==============================] - 0s 14ms/step - loss: 8.1533 - mae: 8.1533\n",
            "Epoch 39/100\n",
            "1/1 [==============================] - 0s 12ms/step - loss: 8.0208 - mae: 8.0208\n",
            "Epoch 40/100\n",
            "1/1 [==============================] - 0s 13ms/step - loss: 7.8883 - mae: 7.8883\n",
            "Epoch 41/100\n",
            "1/1 [==============================] - 0s 33ms/step - loss: 7.7558 - mae: 7.7558\n",
            "Epoch 42/100\n",
            "1/1 [==============================] - 0s 13ms/step - loss: 7.6233 - mae: 7.6233\n",
            "Epoch 43/100\n",
            "1/1 [==============================] - 0s 17ms/step - loss: 7.4908 - mae: 7.4908\n",
            "Epoch 44/100\n",
            "1/1 [==============================] - 0s 13ms/step - loss: 7.3583 - mae: 7.3583\n",
            "Epoch 45/100\n",
            "1/1 [==============================] - 0s 12ms/step - loss: 7.2258 - mae: 7.2258\n",
            "Epoch 46/100\n",
            "1/1 [==============================] - 0s 15ms/step - loss: 7.1625 - mae: 7.1625\n",
            "Epoch 47/100\n",
            "1/1 [==============================] - 0s 18ms/step - loss: 7.1569 - mae: 7.1569\n",
            "Epoch 48/100\n",
            "1/1 [==============================] - 0s 13ms/step - loss: 7.1512 - mae: 7.1512\n",
            "Epoch 49/100\n",
            "1/1 [==============================] - 0s 14ms/step - loss: 7.1456 - mae: 7.1456\n",
            "Epoch 50/100\n",
            "1/1 [==============================] - 0s 15ms/step - loss: 7.1400 - mae: 7.1400\n",
            "Epoch 51/100\n",
            "1/1 [==============================] - 0s 14ms/step - loss: 7.1344 - mae: 7.1344\n",
            "Epoch 52/100\n",
            "1/1 [==============================] - 0s 16ms/step - loss: 7.1287 - mae: 7.1287\n",
            "Epoch 53/100\n",
            "1/1 [==============================] - 0s 16ms/step - loss: 7.1231 - mae: 7.1231\n",
            "Epoch 54/100\n",
            "1/1 [==============================] - 0s 13ms/step - loss: 7.1175 - mae: 7.1175\n",
            "Epoch 55/100\n",
            "1/1 [==============================] - 0s 17ms/step - loss: 7.1119 - mae: 7.1119\n",
            "Epoch 56/100\n",
            "1/1 [==============================] - 0s 13ms/step - loss: 7.1062 - mae: 7.1062\n",
            "Epoch 57/100\n",
            "1/1 [==============================] - 0s 15ms/step - loss: 7.1006 - mae: 7.1006\n",
            "Epoch 58/100\n",
            "1/1 [==============================] - 0s 12ms/step - loss: 7.0950 - mae: 7.0950\n",
            "Epoch 59/100\n",
            "1/1 [==============================] - 0s 13ms/step - loss: 7.0894 - mae: 7.0894\n",
            "Epoch 60/100\n",
            "1/1 [==============================] - 0s 12ms/step - loss: 7.0838 - mae: 7.0838\n",
            "Epoch 61/100\n",
            "1/1 [==============================] - 0s 11ms/step - loss: 7.0781 - mae: 7.0781\n",
            "Epoch 62/100\n",
            "1/1 [==============================] - 0s 9ms/step - loss: 7.0725 - mae: 7.0725\n",
            "Epoch 63/100\n",
            "1/1 [==============================] - 0s 25ms/step - loss: 7.0669 - mae: 7.0669\n",
            "Epoch 64/100\n",
            "1/1 [==============================] - 0s 25ms/step - loss: 7.0612 - mae: 7.0612\n",
            "Epoch 65/100\n",
            "1/1 [==============================] - 0s 18ms/step - loss: 7.0556 - mae: 7.0556\n",
            "Epoch 66/100\n",
            "1/1 [==============================] - 0s 16ms/step - loss: 7.0500 - mae: 7.0500\n",
            "Epoch 67/100\n",
            "1/1 [==============================] - 0s 37ms/step - loss: 7.0444 - mae: 7.0444\n",
            "Epoch 68/100\n",
            "1/1 [==============================] - 0s 15ms/step - loss: 7.0388 - mae: 7.0388\n",
            "Epoch 69/100\n",
            "1/1 [==============================] - 0s 11ms/step - loss: 7.0331 - mae: 7.0331\n",
            "Epoch 70/100\n",
            "1/1 [==============================] - 0s 20ms/step - loss: 7.0275 - mae: 7.0275\n",
            "Epoch 71/100\n",
            "1/1 [==============================] - 0s 17ms/step - loss: 7.0219 - mae: 7.0219\n",
            "Epoch 72/100\n",
            "1/1 [==============================] - 0s 15ms/step - loss: 7.0163 - mae: 7.0163\n",
            "Epoch 73/100\n",
            "1/1 [==============================] - 0s 12ms/step - loss: 7.0106 - mae: 7.0106\n",
            "Epoch 74/100\n",
            "1/1 [==============================] - 0s 12ms/step - loss: 7.0050 - mae: 7.0050\n",
            "Epoch 75/100\n",
            "1/1 [==============================] - 0s 13ms/step - loss: 6.9994 - mae: 6.9994\n",
            "Epoch 76/100\n",
            "1/1 [==============================] - 0s 12ms/step - loss: 6.9938 - mae: 6.9938\n",
            "Epoch 77/100\n",
            "1/1 [==============================] - 0s 14ms/step - loss: 6.9881 - mae: 6.9881\n",
            "Epoch 78/100\n",
            "1/1 [==============================] - 0s 16ms/step - loss: 6.9825 - mae: 6.9825\n",
            "Epoch 79/100\n",
            "1/1 [==============================] - 0s 13ms/step - loss: 6.9769 - mae: 6.9769\n",
            "Epoch 80/100\n",
            "1/1 [==============================] - 0s 11ms/step - loss: 6.9713 - mae: 6.9713\n",
            "Epoch 81/100\n",
            "1/1 [==============================] - 0s 10ms/step - loss: 6.9656 - mae: 6.9656\n",
            "Epoch 82/100\n",
            "1/1 [==============================] - 0s 16ms/step - loss: 6.9600 - mae: 6.9600\n",
            "Epoch 83/100\n",
            "1/1 [==============================] - 0s 20ms/step - loss: 6.9544 - mae: 6.9544\n",
            "Epoch 84/100\n",
            "1/1 [==============================] - 0s 20ms/step - loss: 6.9488 - mae: 6.9488\n",
            "Epoch 85/100\n",
            "1/1 [==============================] - 0s 20ms/step - loss: 6.9431 - mae: 6.9431\n",
            "Epoch 86/100\n",
            "1/1 [==============================] - 0s 20ms/step - loss: 6.9375 - mae: 6.9375\n",
            "Epoch 87/100\n",
            "1/1 [==============================] - 0s 53ms/step - loss: 6.9319 - mae: 6.9319\n",
            "Epoch 88/100\n",
            "1/1 [==============================] - 0s 40ms/step - loss: 6.9263 - mae: 6.9263\n",
            "Epoch 89/100\n",
            "1/1 [==============================] - 0s 27ms/step - loss: 6.9206 - mae: 6.9206\n",
            "Epoch 90/100\n",
            "1/1 [==============================] - 0s 17ms/step - loss: 6.9150 - mae: 6.9150\n",
            "Epoch 91/100\n",
            "1/1 [==============================] - 0s 24ms/step - loss: 6.9094 - mae: 6.9094\n",
            "Epoch 92/100\n",
            "1/1 [==============================] - 0s 68ms/step - loss: 6.9038 - mae: 6.9038\n",
            "Epoch 93/100\n",
            "1/1 [==============================] - 0s 56ms/step - loss: 6.8981 - mae: 6.8981\n",
            "Epoch 94/100\n",
            "1/1 [==============================] - 0s 33ms/step - loss: 6.8925 - mae: 6.8925\n",
            "Epoch 95/100\n",
            "1/1 [==============================] - 0s 23ms/step - loss: 6.8869 - mae: 6.8869\n",
            "Epoch 96/100\n",
            "1/1 [==============================] - 0s 19ms/step - loss: 6.8813 - mae: 6.8813\n",
            "Epoch 97/100\n",
            "1/1 [==============================] - 0s 15ms/step - loss: 6.8756 - mae: 6.8756\n",
            "Epoch 98/100\n",
            "1/1 [==============================] - 0s 15ms/step - loss: 6.8700 - mae: 6.8700\n",
            "Epoch 99/100\n",
            "1/1 [==============================] - 0s 21ms/step - loss: 6.8644 - mae: 6.8644\n",
            "Epoch 100/100\n",
            "1/1 [==============================] - 0s 17ms/step - loss: 6.8588 - mae: 6.8588\n"
          ]
        },
        {
          "output_type": "execute_result",
          "data": {
            "text/plain": [
              "<keras.src.callbacks.History at 0x7e48b017ef80>"
            ]
          },
          "metadata": {},
          "execution_count": 13
        }
      ]
    },
    {
      "cell_type": "code",
      "source": [
        "X, Y\n"
      ],
      "metadata": {
        "colab": {
          "base_uri": "https://localhost:8080/"
        },
        "id": "k_eA3rMwpBzh",
        "outputId": "7aad8f8a-f7b2-4d80-d31e-fedf57731c22"
      },
      "execution_count": 14,
      "outputs": [
        {
          "output_type": "execute_result",
          "data": {
            "text/plain": [
              "(<tf.Tensor: shape=(8,), dtype=float64, numpy=array([-7., -4., -1.,  2.,  5.,  8., 11., 14.])>,\n",
              " <tf.Tensor: shape=(8,), dtype=float64, numpy=array([ 3.,  6.,  9., 12., 15., 18., 21., 24.])>)"
            ]
          },
          "metadata": {},
          "execution_count": 14
        }
      ]
    },
    {
      "cell_type": "code",
      "source": [
        "model.predict([17.0])"
      ],
      "metadata": {
        "colab": {
          "base_uri": "https://localhost:8080/"
        },
        "id": "qU-6CbhupFoY",
        "outputId": "05d5e345-700d-4465-e134-8106ad433a36"
      },
      "execution_count": 15,
      "outputs": [
        {
          "output_type": "stream",
          "name": "stdout",
          "text": [
            "1/1 [==============================] - 0s 121ms/step\n"
          ]
        },
        {
          "output_type": "execute_result",
          "data": {
            "text/plain": [
              "array([[27.94708]], dtype=float32)"
            ]
          },
          "metadata": {},
          "execution_count": 15
        }
      ]
    },
    {
      "cell_type": "code",
      "source": [
        "# Rewrite again our mode\n",
        "\n",
        "model = tf.keras.Sequential([\n",
        "    tf.keras.layers.Dense(100, activation= \"relu\"),\n",
        "    tf.keras.layers.Dense(1)\n",
        "])\n",
        "\n",
        "# Compile the model\n",
        "model.compile(loss = tf.keras.losses.mae,optimizer = tf.keras.optimizers.Adam(learning_rate= 0.01),metrics= [\"mae\"])\n",
        "\n",
        "#Fit the model\n",
        "\n",
        "# 3 Fit the model\n",
        "model.fit(tf.expand_dims(X, axis=1), Y, epochs=200)"
      ],
      "metadata": {
        "colab": {
          "base_uri": "https://localhost:8080/"
        },
        "id": "3nTAZEdEpTov",
        "outputId": "3eccc56f-9f4a-4bc2-e0b2-4b073febcead"
      },
      "execution_count": 16,
      "outputs": [
        {
          "output_type": "stream",
          "name": "stdout",
          "text": [
            "Epoch 1/200\n",
            "1/1 [==============================] - 2s 2s/step - loss: 13.2759 - mae: 13.2759\n",
            "Epoch 2/200\n",
            "1/1 [==============================] - 0s 18ms/step - loss: 12.4149 - mae: 12.4149\n",
            "Epoch 3/200\n",
            "1/1 [==============================] - 0s 19ms/step - loss: 11.5685 - mae: 11.5685\n",
            "Epoch 4/200\n",
            "1/1 [==============================] - 0s 26ms/step - loss: 10.7267 - mae: 10.7267\n",
            "Epoch 5/200\n",
            "1/1 [==============================] - 0s 24ms/step - loss: 9.8913 - mae: 9.8913\n",
            "Epoch 6/200\n",
            "1/1 [==============================] - 0s 22ms/step - loss: 9.2448 - mae: 9.2448\n",
            "Epoch 7/200\n",
            "1/1 [==============================] - 0s 24ms/step - loss: 8.5977 - mae: 8.5977\n",
            "Epoch 8/200\n",
            "1/1 [==============================] - 0s 21ms/step - loss: 7.9356 - mae: 7.9356\n",
            "Epoch 9/200\n",
            "1/1 [==============================] - 0s 26ms/step - loss: 7.2609 - mae: 7.2609\n",
            "Epoch 10/200\n",
            "1/1 [==============================] - 0s 40ms/step - loss: 6.5651 - mae: 6.5651\n",
            "Epoch 11/200\n",
            "1/1 [==============================] - 0s 35ms/step - loss: 5.8396 - mae: 5.8396\n",
            "Epoch 12/200\n",
            "1/1 [==============================] - 0s 45ms/step - loss: 5.0817 - mae: 5.0817\n",
            "Epoch 13/200\n",
            "1/1 [==============================] - 0s 28ms/step - loss: 4.2888 - mae: 4.2888\n",
            "Epoch 14/200\n",
            "1/1 [==============================] - 0s 17ms/step - loss: 3.8565 - mae: 3.8565\n",
            "Epoch 15/200\n",
            "1/1 [==============================] - 0s 12ms/step - loss: 3.8554 - mae: 3.8554\n",
            "Epoch 16/200\n",
            "1/1 [==============================] - 0s 12ms/step - loss: 4.0008 - mae: 4.0008\n",
            "Epoch 17/200\n",
            "1/1 [==============================] - 0s 11ms/step - loss: 4.2509 - mae: 4.2509\n",
            "Epoch 18/200\n",
            "1/1 [==============================] - 0s 13ms/step - loss: 4.5060 - mae: 4.5060\n",
            "Epoch 19/200\n",
            "1/1 [==============================] - 0s 12ms/step - loss: 4.6557 - mae: 4.6557\n",
            "Epoch 20/200\n",
            "1/1 [==============================] - 0s 13ms/step - loss: 4.7121 - mae: 4.7121\n",
            "Epoch 21/200\n",
            "1/1 [==============================] - 0s 12ms/step - loss: 4.6885 - mae: 4.6885\n",
            "Epoch 22/200\n",
            "1/1 [==============================] - 0s 14ms/step - loss: 4.5980 - mae: 4.5980\n",
            "Epoch 23/200\n",
            "1/1 [==============================] - 0s 16ms/step - loss: 4.4487 - mae: 4.4487\n",
            "Epoch 24/200\n",
            "1/1 [==============================] - 0s 21ms/step - loss: 4.2499 - mae: 4.2499\n",
            "Epoch 25/200\n",
            "1/1 [==============================] - 0s 13ms/step - loss: 4.0120 - mae: 4.0120\n",
            "Epoch 26/200\n",
            "1/1 [==============================] - 0s 11ms/step - loss: 3.7862 - mae: 3.7862\n",
            "Epoch 27/200\n",
            "1/1 [==============================] - 0s 17ms/step - loss: 3.6677 - mae: 3.6677\n",
            "Epoch 28/200\n",
            "1/1 [==============================] - 0s 13ms/step - loss: 3.5475 - mae: 3.5475\n",
            "Epoch 29/200\n",
            "1/1 [==============================] - 0s 13ms/step - loss: 3.4266 - mae: 3.4266\n",
            "Epoch 30/200\n",
            "1/1 [==============================] - 0s 13ms/step - loss: 3.3647 - mae: 3.3647\n",
            "Epoch 31/200\n",
            "1/1 [==============================] - 0s 12ms/step - loss: 3.3950 - mae: 3.3950\n",
            "Epoch 32/200\n",
            "1/1 [==============================] - 0s 13ms/step - loss: 3.3911 - mae: 3.3911\n",
            "Epoch 33/200\n",
            "1/1 [==============================] - 0s 18ms/step - loss: 3.3543 - mae: 3.3543\n",
            "Epoch 34/200\n",
            "1/1 [==============================] - 0s 17ms/step - loss: 3.2811 - mae: 3.2811\n",
            "Epoch 35/200\n",
            "1/1 [==============================] - 0s 13ms/step - loss: 3.1809 - mae: 3.1809\n",
            "Epoch 36/200\n",
            "1/1 [==============================] - 0s 14ms/step - loss: 3.0539 - mae: 3.0539\n",
            "Epoch 37/200\n",
            "1/1 [==============================] - 0s 25ms/step - loss: 2.9381 - mae: 2.9381\n",
            "Epoch 38/200\n",
            "1/1 [==============================] - 0s 19ms/step - loss: 2.9325 - mae: 2.9325\n",
            "Epoch 39/200\n",
            "1/1 [==============================] - 0s 20ms/step - loss: 2.8843 - mae: 2.8843\n",
            "Epoch 40/200\n",
            "1/1 [==============================] - 0s 20ms/step - loss: 2.8190 - mae: 2.8190\n",
            "Epoch 41/200\n",
            "1/1 [==============================] - 0s 33ms/step - loss: 2.7692 - mae: 2.7692\n",
            "Epoch 42/200\n",
            "1/1 [==============================] - 0s 27ms/step - loss: 2.6985 - mae: 2.6985\n",
            "Epoch 43/200\n",
            "1/1 [==============================] - 0s 19ms/step - loss: 2.6100 - mae: 2.6100\n",
            "Epoch 44/200\n",
            "1/1 [==============================] - 0s 22ms/step - loss: 2.5096 - mae: 2.5096\n",
            "Epoch 45/200\n",
            "1/1 [==============================] - 0s 16ms/step - loss: 2.3969 - mae: 2.3969\n",
            "Epoch 46/200\n",
            "1/1 [==============================] - 0s 13ms/step - loss: 2.2741 - mae: 2.2741\n",
            "Epoch 47/200\n",
            "1/1 [==============================] - 0s 15ms/step - loss: 2.1427 - mae: 2.1427\n",
            "Epoch 48/200\n",
            "1/1 [==============================] - 0s 14ms/step - loss: 2.0491 - mae: 2.0491\n",
            "Epoch 49/200\n",
            "1/1 [==============================] - 0s 14ms/step - loss: 1.9134 - mae: 1.9134\n",
            "Epoch 50/200\n",
            "1/1 [==============================] - 0s 14ms/step - loss: 1.7992 - mae: 1.7992\n",
            "Epoch 51/200\n",
            "1/1 [==============================] - 0s 17ms/step - loss: 1.6624 - mae: 1.6624\n",
            "Epoch 52/200\n",
            "1/1 [==============================] - 0s 13ms/step - loss: 1.5246 - mae: 1.5246\n",
            "Epoch 53/200\n",
            "1/1 [==============================] - 0s 16ms/step - loss: 1.3963 - mae: 1.3963\n",
            "Epoch 54/200\n",
            "1/1 [==============================] - 0s 21ms/step - loss: 1.2516 - mae: 1.2516\n",
            "Epoch 55/200\n",
            "1/1 [==============================] - 0s 20ms/step - loss: 1.0913 - mae: 1.0913\n",
            "Epoch 56/200\n",
            "1/1 [==============================] - 0s 12ms/step - loss: 0.9662 - mae: 0.9662\n",
            "Epoch 57/200\n",
            "1/1 [==============================] - 0s 12ms/step - loss: 0.8364 - mae: 0.8364\n",
            "Epoch 58/200\n",
            "1/1 [==============================] - 0s 8ms/step - loss: 0.7199 - mae: 0.7199\n",
            "Epoch 59/200\n",
            "1/1 [==============================] - 0s 17ms/step - loss: 0.5158 - mae: 0.5158\n",
            "Epoch 60/200\n",
            "1/1 [==============================] - 0s 11ms/step - loss: 0.4433 - mae: 0.4433\n",
            "Epoch 61/200\n",
            "1/1 [==============================] - 0s 9ms/step - loss: 0.2247 - mae: 0.2247\n",
            "Epoch 62/200\n",
            "1/1 [==============================] - 0s 9ms/step - loss: 0.2030 - mae: 0.2030\n",
            "Epoch 63/200\n",
            "1/1 [==============================] - 0s 12ms/step - loss: 0.4164 - mae: 0.4164\n",
            "Epoch 64/200\n",
            "1/1 [==============================] - 0s 10ms/step - loss: 0.3058 - mae: 0.3058\n",
            "Epoch 65/200\n",
            "1/1 [==============================] - 0s 12ms/step - loss: 0.4705 - mae: 0.4705\n",
            "Epoch 66/200\n",
            "1/1 [==============================] - 0s 12ms/step - loss: 0.5867 - mae: 0.5867\n",
            "Epoch 67/200\n",
            "1/1 [==============================] - 0s 11ms/step - loss: 0.4806 - mae: 0.4806\n",
            "Epoch 68/200\n",
            "1/1 [==============================] - 0s 9ms/step - loss: 0.4488 - mae: 0.4488\n",
            "Epoch 69/200\n",
            "1/1 [==============================] - 0s 11ms/step - loss: 0.4126 - mae: 0.4126\n",
            "Epoch 70/200\n",
            "1/1 [==============================] - 0s 10ms/step - loss: 0.3949 - mae: 0.3949\n",
            "Epoch 71/200\n",
            "1/1 [==============================] - 0s 9ms/step - loss: 0.3798 - mae: 0.3798\n",
            "Epoch 72/200\n",
            "1/1 [==============================] - 0s 8ms/step - loss: 0.3382 - mae: 0.3382\n",
            "Epoch 73/200\n",
            "1/1 [==============================] - 0s 8ms/step - loss: 0.3243 - mae: 0.3243\n",
            "Epoch 74/200\n",
            "1/1 [==============================] - 0s 9ms/step - loss: 0.3157 - mae: 0.3157\n",
            "Epoch 75/200\n",
            "1/1 [==============================] - 0s 11ms/step - loss: 0.2735 - mae: 0.2735\n",
            "Epoch 76/200\n",
            "1/1 [==============================] - 0s 9ms/step - loss: 0.2010 - mae: 0.2010\n",
            "Epoch 77/200\n",
            "1/1 [==============================] - 0s 28ms/step - loss: 0.2268 - mae: 0.2268\n",
            "Epoch 78/200\n",
            "1/1 [==============================] - 0s 21ms/step - loss: 0.1612 - mae: 0.1612\n",
            "Epoch 79/200\n",
            "1/1 [==============================] - 0s 19ms/step - loss: 0.3804 - mae: 0.3804\n",
            "Epoch 80/200\n",
            "1/1 [==============================] - 0s 19ms/step - loss: 0.3970 - mae: 0.3970\n",
            "Epoch 81/200\n",
            "1/1 [==============================] - 0s 11ms/step - loss: 0.1690 - mae: 0.1690\n",
            "Epoch 82/200\n",
            "1/1 [==============================] - 0s 11ms/step - loss: 0.5177 - mae: 0.5177\n",
            "Epoch 83/200\n",
            "1/1 [==============================] - 0s 11ms/step - loss: 0.6044 - mae: 0.6044\n",
            "Epoch 84/200\n",
            "1/1 [==============================] - 0s 13ms/step - loss: 0.3974 - mae: 0.3974\n",
            "Epoch 85/200\n",
            "1/1 [==============================] - 0s 14ms/step - loss: 0.2875 - mae: 0.2875\n",
            "Epoch 86/200\n",
            "1/1 [==============================] - 0s 22ms/step - loss: 0.4239 - mae: 0.4239\n",
            "Epoch 87/200\n",
            "1/1 [==============================] - 0s 11ms/step - loss: 0.3241 - mae: 0.3241\n",
            "Epoch 88/200\n",
            "1/1 [==============================] - 0s 12ms/step - loss: 0.1898 - mae: 0.1898\n",
            "Epoch 89/200\n",
            "1/1 [==============================] - 0s 9ms/step - loss: 0.2044 - mae: 0.2044\n",
            "Epoch 90/200\n",
            "1/1 [==============================] - 0s 9ms/step - loss: 0.1600 - mae: 0.1600\n",
            "Epoch 91/200\n",
            "1/1 [==============================] - 0s 13ms/step - loss: 0.1196 - mae: 0.1196\n",
            "Epoch 92/200\n",
            "1/1 [==============================] - 0s 12ms/step - loss: 0.2577 - mae: 0.2577\n",
            "Epoch 93/200\n",
            "1/1 [==============================] - 0s 12ms/step - loss: 0.2705 - mae: 0.2705\n",
            "Epoch 94/200\n",
            "1/1 [==============================] - 0s 14ms/step - loss: 0.1074 - mae: 0.1074\n",
            "Epoch 95/200\n",
            "1/1 [==============================] - 0s 26ms/step - loss: 0.4161 - mae: 0.4161\n",
            "Epoch 96/200\n",
            "1/1 [==============================] - 0s 13ms/step - loss: 0.4898 - mae: 0.4898\n",
            "Epoch 97/200\n",
            "1/1 [==============================] - 0s 42ms/step - loss: 0.3471 - mae: 0.3471\n",
            "Epoch 98/200\n",
            "1/1 [==============================] - 0s 35ms/step - loss: 0.1847 - mae: 0.1847\n",
            "Epoch 99/200\n",
            "1/1 [==============================] - 0s 38ms/step - loss: 0.2400 - mae: 0.2400\n",
            "Epoch 100/200\n",
            "1/1 [==============================] - 0s 44ms/step - loss: 0.1136 - mae: 0.1136\n",
            "Epoch 101/200\n",
            "1/1 [==============================] - 0s 27ms/step - loss: 0.3149 - mae: 0.3149\n",
            "Epoch 102/200\n",
            "1/1 [==============================] - 0s 20ms/step - loss: 0.3591 - mae: 0.3591\n",
            "Epoch 103/200\n",
            "1/1 [==============================] - 0s 31ms/step - loss: 0.1246 - mae: 0.1246\n",
            "Epoch 104/200\n",
            "1/1 [==============================] - 0s 27ms/step - loss: 0.3275 - mae: 0.3275\n",
            "Epoch 105/200\n",
            "1/1 [==============================] - 0s 32ms/step - loss: 0.4341 - mae: 0.4341\n",
            "Epoch 106/200\n",
            "1/1 [==============================] - 0s 34ms/step - loss: 0.2625 - mae: 0.2625\n",
            "Epoch 107/200\n",
            "1/1 [==============================] - 0s 29ms/step - loss: 0.2040 - mae: 0.2040\n",
            "Epoch 108/200\n",
            "1/1 [==============================] - 0s 17ms/step - loss: 0.3322 - mae: 0.3322\n",
            "Epoch 109/200\n",
            "1/1 [==============================] - 0s 23ms/step - loss: 0.2172 - mae: 0.2172\n",
            "Epoch 110/200\n",
            "1/1 [==============================] - 0s 26ms/step - loss: 0.1763 - mae: 0.1763\n",
            "Epoch 111/200\n",
            "1/1 [==============================] - 0s 51ms/step - loss: 0.2511 - mae: 0.2511\n",
            "Epoch 112/200\n",
            "1/1 [==============================] - 0s 35ms/step - loss: 0.0875 - mae: 0.0875\n",
            "Epoch 113/200\n",
            "1/1 [==============================] - 0s 28ms/step - loss: 0.3098 - mae: 0.3098\n",
            "Epoch 114/200\n",
            "1/1 [==============================] - 0s 37ms/step - loss: 0.3949 - mae: 0.3949\n",
            "Epoch 115/200\n",
            "1/1 [==============================] - 0s 35ms/step - loss: 0.3078 - mae: 0.3078\n",
            "Epoch 116/200\n",
            "1/1 [==============================] - 0s 38ms/step - loss: 0.1626 - mae: 0.1626\n",
            "Epoch 117/200\n",
            "1/1 [==============================] - 0s 62ms/step - loss: 0.2121 - mae: 0.2121\n",
            "Epoch 118/200\n",
            "1/1 [==============================] - 0s 65ms/step - loss: 0.1347 - mae: 0.1347\n",
            "Epoch 119/200\n",
            "1/1 [==============================] - 0s 65ms/step - loss: 0.2972 - mae: 0.2972\n",
            "Epoch 120/200\n",
            "1/1 [==============================] - 0s 27ms/step - loss: 0.3338 - mae: 0.3338\n",
            "Epoch 121/200\n",
            "1/1 [==============================] - 0s 36ms/step - loss: 0.1213 - mae: 0.1213\n",
            "Epoch 122/200\n",
            "1/1 [==============================] - 0s 32ms/step - loss: 0.3129 - mae: 0.3129\n",
            "Epoch 123/200\n",
            "1/1 [==============================] - 0s 26ms/step - loss: 0.4568 - mae: 0.4568\n",
            "Epoch 124/200\n",
            "1/1 [==============================] - 0s 28ms/step - loss: 0.3522 - mae: 0.3522\n",
            "Epoch 125/200\n",
            "1/1 [==============================] - 0s 38ms/step - loss: 0.1500 - mae: 0.1500\n",
            "Epoch 126/200\n",
            "1/1 [==============================] - 0s 14ms/step - loss: 0.1454 - mae: 0.1454\n",
            "Epoch 127/200\n",
            "1/1 [==============================] - 0s 24ms/step - loss: 0.1313 - mae: 0.1313\n",
            "Epoch 128/200\n",
            "1/1 [==============================] - 0s 16ms/step - loss: 0.2915 - mae: 0.2915\n",
            "Epoch 129/200\n",
            "1/1 [==============================] - 0s 22ms/step - loss: 0.2830 - mae: 0.2830\n",
            "Epoch 130/200\n",
            "1/1 [==============================] - 0s 10ms/step - loss: 0.0627 - mae: 0.0627\n",
            "Epoch 131/200\n",
            "1/1 [==============================] - 0s 16ms/step - loss: 0.3484 - mae: 0.3484\n",
            "Epoch 132/200\n",
            "1/1 [==============================] - 0s 18ms/step - loss: 0.5026 - mae: 0.5026\n",
            "Epoch 133/200\n",
            "1/1 [==============================] - 0s 9ms/step - loss: 0.4263 - mae: 0.4263\n",
            "Epoch 134/200\n",
            "1/1 [==============================] - 0s 18ms/step - loss: 0.1470 - mae: 0.1470\n",
            "Epoch 135/200\n",
            "1/1 [==============================] - 0s 10ms/step - loss: 0.3361 - mae: 0.3361\n",
            "Epoch 136/200\n",
            "1/1 [==============================] - 0s 11ms/step - loss: 0.5392 - mae: 0.5392\n",
            "Epoch 137/200\n",
            "1/1 [==============================] - 0s 18ms/step - loss: 0.5446 - mae: 0.5446\n",
            "Epoch 138/200\n",
            "1/1 [==============================] - 0s 16ms/step - loss: 0.3485 - mae: 0.3485\n",
            "Epoch 139/200\n",
            "1/1 [==============================] - 0s 13ms/step - loss: 0.1066 - mae: 0.1066\n",
            "Epoch 140/200\n",
            "1/1 [==============================] - 0s 15ms/step - loss: 0.2188 - mae: 0.2188\n",
            "Epoch 141/200\n",
            "1/1 [==============================] - 0s 19ms/step - loss: 0.1837 - mae: 0.1837\n",
            "Epoch 142/200\n",
            "1/1 [==============================] - 0s 16ms/step - loss: 0.2002 - mae: 0.2002\n",
            "Epoch 143/200\n",
            "1/1 [==============================] - 0s 18ms/step - loss: 0.1793 - mae: 0.1793\n",
            "Epoch 144/200\n",
            "1/1 [==============================] - 0s 21ms/step - loss: 0.0881 - mae: 0.0881\n",
            "Epoch 145/200\n",
            "1/1 [==============================] - 0s 21ms/step - loss: 0.1786 - mae: 0.1786\n",
            "Epoch 146/200\n",
            "1/1 [==============================] - 0s 17ms/step - loss: 0.1148 - mae: 0.1148\n",
            "Epoch 147/200\n",
            "1/1 [==============================] - 0s 24ms/step - loss: 0.1002 - mae: 0.1002\n",
            "Epoch 148/200\n",
            "1/1 [==============================] - 0s 25ms/step - loss: 0.1062 - mae: 0.1062\n",
            "Epoch 149/200\n",
            "1/1 [==============================] - 0s 19ms/step - loss: 0.1148 - mae: 0.1148\n",
            "Epoch 150/200\n",
            "1/1 [==============================] - 0s 24ms/step - loss: 0.1852 - mae: 0.1852\n",
            "Epoch 151/200\n",
            "1/1 [==============================] - 0s 22ms/step - loss: 0.0736 - mae: 0.0736\n",
            "Epoch 152/200\n",
            "1/1 [==============================] - 0s 21ms/step - loss: 0.1792 - mae: 0.1792\n",
            "Epoch 153/200\n",
            "1/1 [==============================] - 0s 17ms/step - loss: 0.2087 - mae: 0.2087\n",
            "Epoch 154/200\n",
            "1/1 [==============================] - 0s 15ms/step - loss: 0.0880 - mae: 0.0880\n",
            "Epoch 155/200\n",
            "1/1 [==============================] - 0s 12ms/step - loss: 0.0486 - mae: 0.0486\n",
            "Epoch 156/200\n",
            "1/1 [==============================] - 0s 11ms/step - loss: 0.1676 - mae: 0.1676\n",
            "Epoch 157/200\n",
            "1/1 [==============================] - 0s 13ms/step - loss: 0.1621 - mae: 0.1621\n",
            "Epoch 158/200\n",
            "1/1 [==============================] - 0s 13ms/step - loss: 0.2471 - mae: 0.2471\n",
            "Epoch 159/200\n",
            "1/1 [==============================] - 0s 13ms/step - loss: 0.2093 - mae: 0.2093\n",
            "Epoch 160/200\n",
            "1/1 [==============================] - 0s 14ms/step - loss: 0.0563 - mae: 0.0563\n",
            "Epoch 161/200\n",
            "1/1 [==============================] - 0s 13ms/step - loss: 0.2123 - mae: 0.2123\n",
            "Epoch 162/200\n",
            "1/1 [==============================] - 0s 30ms/step - loss: 0.1957 - mae: 0.1957\n",
            "Epoch 163/200\n",
            "1/1 [==============================] - 0s 16ms/step - loss: 0.0347 - mae: 0.0347\n",
            "Epoch 164/200\n",
            "1/1 [==============================] - 0s 17ms/step - loss: 0.1507 - mae: 0.1507\n",
            "Epoch 165/200\n",
            "1/1 [==============================] - 0s 29ms/step - loss: 0.0854 - mae: 0.0854\n",
            "Epoch 166/200\n",
            "1/1 [==============================] - 0s 36ms/step - loss: 0.2077 - mae: 0.2077\n",
            "Epoch 167/200\n",
            "1/1 [==============================] - 0s 31ms/step - loss: 0.2400 - mae: 0.2400\n",
            "Epoch 168/200\n",
            "1/1 [==============================] - 0s 28ms/step - loss: 0.1197 - mae: 0.1197\n",
            "Epoch 169/200\n",
            "1/1 [==============================] - 0s 14ms/step - loss: 0.2981 - mae: 0.2981\n",
            "Epoch 170/200\n",
            "1/1 [==============================] - 0s 33ms/step - loss: 0.3471 - mae: 0.3471\n",
            "Epoch 171/200\n",
            "1/1 [==============================] - 0s 18ms/step - loss: 0.2547 - mae: 0.2547\n",
            "Epoch 172/200\n",
            "1/1 [==============================] - 0s 14ms/step - loss: 0.1926 - mae: 0.1926\n",
            "Epoch 173/200\n",
            "1/1 [==============================] - 0s 12ms/step - loss: 0.2545 - mae: 0.2545\n",
            "Epoch 174/200\n",
            "1/1 [==============================] - 0s 17ms/step - loss: 0.1081 - mae: 0.1081\n",
            "Epoch 175/200\n",
            "1/1 [==============================] - 0s 12ms/step - loss: 0.2207 - mae: 0.2207\n",
            "Epoch 176/200\n",
            "1/1 [==============================] - 0s 20ms/step - loss: 0.2963 - mae: 0.2963\n",
            "Epoch 177/200\n",
            "1/1 [==============================] - 0s 44ms/step - loss: 0.1622 - mae: 0.1622\n",
            "Epoch 178/200\n",
            "1/1 [==============================] - 0s 12ms/step - loss: 0.2295 - mae: 0.2295\n",
            "Epoch 179/200\n",
            "1/1 [==============================] - 0s 17ms/step - loss: 0.2723 - mae: 0.2723\n",
            "Epoch 180/200\n",
            "1/1 [==============================] - 0s 23ms/step - loss: 0.1539 - mae: 0.1539\n",
            "Epoch 181/200\n",
            "1/1 [==============================] - 0s 22ms/step - loss: 0.2499 - mae: 0.2499\n",
            "Epoch 182/200\n",
            "1/1 [==============================] - 0s 26ms/step - loss: 0.3277 - mae: 0.3277\n",
            "Epoch 183/200\n",
            "1/1 [==============================] - 0s 41ms/step - loss: 0.2976 - mae: 0.2976\n",
            "Epoch 184/200\n",
            "1/1 [==============================] - 0s 28ms/step - loss: 0.0867 - mae: 0.0867\n",
            "Epoch 185/200\n",
            "1/1 [==============================] - 0s 32ms/step - loss: 0.3237 - mae: 0.3237\n",
            "Epoch 186/200\n",
            "1/1 [==============================] - 0s 37ms/step - loss: 0.4881 - mae: 0.4881\n",
            "Epoch 187/200\n",
            "1/1 [==============================] - 0s 34ms/step - loss: 0.4461 - mae: 0.4461\n",
            "Epoch 188/200\n",
            "1/1 [==============================] - 0s 54ms/step - loss: 0.2083 - mae: 0.2083\n",
            "Epoch 189/200\n",
            "1/1 [==============================] - 0s 46ms/step - loss: 0.2338 - mae: 0.2338\n",
            "Epoch 190/200\n",
            "1/1 [==============================] - 0s 43ms/step - loss: 0.4085 - mae: 0.4085\n",
            "Epoch 191/200\n",
            "1/1 [==============================] - 0s 33ms/step - loss: 0.3489 - mae: 0.3489\n",
            "Epoch 192/200\n",
            "1/1 [==============================] - 0s 41ms/step - loss: 0.0809 - mae: 0.0809\n",
            "Epoch 193/200\n",
            "1/1 [==============================] - 0s 34ms/step - loss: 0.3701 - mae: 0.3701\n",
            "Epoch 194/200\n",
            "1/1 [==============================] - 0s 38ms/step - loss: 0.5663 - mae: 0.5663\n",
            "Epoch 195/200\n",
            "1/1 [==============================] - 0s 30ms/step - loss: 0.5377 - mae: 0.5377\n",
            "Epoch 196/200\n",
            "1/1 [==============================] - 0s 21ms/step - loss: 0.3069 - mae: 0.3069\n",
            "Epoch 197/200\n",
            "1/1 [==============================] - 0s 35ms/step - loss: 0.1198 - mae: 0.1198\n",
            "Epoch 198/200\n",
            "1/1 [==============================] - 0s 36ms/step - loss: 0.2859 - mae: 0.2859\n",
            "Epoch 199/200\n",
            "1/1 [==============================] - 0s 23ms/step - loss: 0.2293 - mae: 0.2293\n",
            "Epoch 200/200\n",
            "1/1 [==============================] - 0s 21ms/step - loss: 0.0324 - mae: 0.0324\n"
          ]
        },
        {
          "output_type": "execute_result",
          "data": {
            "text/plain": [
              "<keras.src.callbacks.History at 0x7e48a37690f0>"
            ]
          },
          "metadata": {},
          "execution_count": 16
        }
      ]
    },
    {
      "cell_type": "code",
      "source": [
        "model.predict([17.0])"
      ],
      "metadata": {
        "colab": {
          "base_uri": "https://localhost:8080/"
        },
        "id": "m8tM3_lzqFTK",
        "outputId": "25ca1d19-75ff-4777-f43b-5d71a3b1c40c"
      },
      "execution_count": 17,
      "outputs": [
        {
          "output_type": "stream",
          "name": "stdout",
          "text": [
            "1/1 [==============================] - 0s 194ms/step\n"
          ]
        },
        {
          "output_type": "execute_result",
          "data": {
            "text/plain": [
              "array([[26.851048]], dtype=float32)"
            ]
          },
          "metadata": {},
          "execution_count": 17
        }
      ]
    },
    {
      "cell_type": "code",
      "source": [],
      "metadata": {
        "id": "eMGJKUa1qyQO"
      },
      "execution_count": 17,
      "outputs": []
    },
    {
      "cell_type": "markdown",
      "source": [
        "Evaluation a model\n",
        "\n",
        "In practice\n",
        "\n",
        "> # Build a model  ->  fit it -> evaluate it -> tweak a model -> fit it  -> evaluate it  -> tweak a model -> fit  it -> evaluate it -> and goes on ....\n",
        "\n",
        "\n",
        "\n",
        "\n",
        "\n"
      ],
      "metadata": {
        "id": "Zspt5F3kyVLO"
      }
    },
    {
      "cell_type": "markdown",
      "source": [
        "When it comes to evaluation .... there a re word you shoul memorize\n",
        "\n",
        "> \"Visualize, Visualize, Visualize\"\n",
        "\n",
        "* The data - What data are we working with ?\n",
        "\n",
        " * The model itself - what does our model looks like ?\n",
        " * The training of the model -> How does a model perform while it learns\n",
        " * The predictions of the model -> How the predictions of a model line up against the ground truth (the original labels)?"
      ],
      "metadata": {
        "id": "GM1xmqx_zH7V"
      }
    },
    {
      "cell_type": "code",
      "source": [
        "#Make a bigger dataset\n",
        "X = tf.range(-100, 100 ,4)\n",
        "X"
      ],
      "metadata": {
        "colab": {
          "base_uri": "https://localhost:8080/"
        },
        "id": "N67y0MZeysTZ",
        "outputId": "b482327c-61c2-48d7-9cee-baa78ebadbf8"
      },
      "execution_count": 18,
      "outputs": [
        {
          "output_type": "execute_result",
          "data": {
            "text/plain": [
              "<tf.Tensor: shape=(50,), dtype=int32, numpy=\n",
              "array([-100,  -96,  -92,  -88,  -84,  -80,  -76,  -72,  -68,  -64,  -60,\n",
              "        -56,  -52,  -48,  -44,  -40,  -36,  -32,  -28,  -24,  -20,  -16,\n",
              "        -12,   -8,   -4,    0,    4,    8,   12,   16,   20,   24,   28,\n",
              "         32,   36,   40,   44,   48,   52,   56,   60,   64,   68,   72,\n",
              "         76,   80,   84,   88,   92,   96], dtype=int32)>"
            ]
          },
          "metadata": {},
          "execution_count": 18
        }
      ]
    },
    {
      "cell_type": "code",
      "source": [
        "# Make labels for the data set\n",
        "Y = X +10\n",
        "Y"
      ],
      "metadata": {
        "colab": {
          "base_uri": "https://localhost:8080/"
        },
        "id": "GExXogpwynGO",
        "outputId": "d41a2ba2-5958-4b6c-8ab7-0632bc213010"
      },
      "execution_count": 19,
      "outputs": [
        {
          "output_type": "execute_result",
          "data": {
            "text/plain": [
              "<tf.Tensor: shape=(50,), dtype=int32, numpy=\n",
              "array([-90, -86, -82, -78, -74, -70, -66, -62, -58, -54, -50, -46, -42,\n",
              "       -38, -34, -30, -26, -22, -18, -14, -10,  -6,  -2,   2,   6,  10,\n",
              "        14,  18,  22,  26,  30,  34,  38,  42,  46,  50,  54,  58,  62,\n",
              "        66,  70,  74,  78,  82,  86,  90,  94,  98, 102, 106], dtype=int32)>"
            ]
          },
          "metadata": {},
          "execution_count": 19
        }
      ]
    },
    {
      "cell_type": "code",
      "source": [
        "# Visulaize the data\n",
        "import matplotlib.pyplot as plt\n",
        "plt.scatter(X, Y)"
      ],
      "metadata": {
        "colab": {
          "base_uri": "https://localhost:8080/",
          "height": 447
        },
        "id": "2RTBZbXw0GKQ",
        "outputId": "73d08ece-2ead-49a6-c12b-fba2e39a496d"
      },
      "execution_count": 20,
      "outputs": [
        {
          "output_type": "execute_result",
          "data": {
            "text/plain": [
              "<matplotlib.collections.PathCollection at 0x7e48a367b580>"
            ]
          },
          "metadata": {},
          "execution_count": 20
        },
        {
          "output_type": "display_data",
          "data": {
            "text/plain": [
              "<Figure size 640x480 with 1 Axes>"
            ],
            "image/png": "[encoded data removed]"
          },
          "metadata": {}
        }
      ]
    },
    {
      "cell_type": "markdown",
      "source": [
        "### The 3 sets. . .\n",
        "* Training sets -> Model learns from this data which is typically 70 to 80 percent of dataset (Course material)\n",
        "\n",
        "* Validation set  -> Validataion set is typically to 10 -15 % of the data available  (Practice exam)\n",
        "* Test set -> the model gets evaluated to test the data  (Final  exam)"
      ],
      "metadata": {
        "id": "vkqIW3qv0ooS"
      }
    },
    {
      "cell_type": "code",
      "source": [
        "len(X)"
      ],
      "metadata": {
        "colab": {
          "base_uri": "https://localhost:8080/"
        },
        "id": "W--mmtTc0Wlw",
        "outputId": "73a98243-b92b-4dae-f774-c4318f58fac7"
      },
      "execution_count": 21,
      "outputs": [
        {
          "output_type": "execute_result",
          "data": {
            "text/plain": [
              "50"
            ]
          },
          "metadata": {},
          "execution_count": 21
        }
      ]
    },
    {
      "cell_type": "code",
      "source": [
        "# Split the data into train and test sets\n",
        "X_train = X[:40] # First 40 are training samples\n",
        "Y_train = Y[:40]\n",
        "\n",
        "X_test = X[40:] # last 1- are testing samples\n",
        "Y_test = Y[40:]\n",
        "\n",
        "len(X_train), len(X_test)\n",
        "\n"
      ],
      "metadata": {
        "colab": {
          "base_uri": "https://localhost:8080/"
        },
        "id": "TnSgxhGL1pls",
        "outputId": "6ee82824-4d53-4e33-f94e-cfb86a30025e"
      },
      "execution_count": 22,
      "outputs": [
        {
          "output_type": "execute_result",
          "data": {
            "text/plain": [
              "(40, 10)"
            ]
          },
          "metadata": {},
          "execution_count": 22
        }
      ]
    },
    {
      "cell_type": "markdown",
      "source": [
        "### Visualizing the data\n",
        "# Now we've got our data in training and test sets... lets visualize it"
      ],
      "metadata": {
        "id": "ugxcOoni6LfB"
      }
    },
    {
      "cell_type": "code",
      "source": [
        "plt.figure(figsize= (10,7))\n",
        "# Plot training dta in blue\n",
        "plt.scatter(X_train, Y_train, c= \"b\", label= \"Training data\")\n",
        "# Plot testing data in green\n",
        "plt.scatter(X_test, Y_test, c= \"g\", label= \"Testing data\")\n",
        "# Show the legend\n",
        "plt.legend()"
      ],
      "metadata": {
        "colab": {
          "base_uri": "https://localhost:8080/",
          "height": 616
        },
        "id": "sfpRx2dy6BEr",
        "outputId": "8cf8a079-f15c-4659-9380-31d52e5c18ce"
      },
      "execution_count": 23,
      "outputs": [
        {
          "output_type": "execute_result",
          "data": {
            "text/plain": [
              "<matplotlib.legend.Legend at 0x7e48a3512bf0>"
            ]
          },
          "metadata": {},
          "execution_count": 23
        },
        {
          "output_type": "display_data",
          "data": {
            "text/plain": [
              "<Figure size 1000x700 with 1 Axes>"
            ],
            "image/png": "[encoded data removed]"
          },
          "metadata": {}
        }
      ]
    },
    {
      "cell_type": "markdown",
      "source": [
        "# Lets have a  loot at build a neural networkk"
      ],
      "metadata": {
        "id": "6OrKm09Q6MR2"
      }
    },
    {
      "cell_type": "code",
      "source": [
        "# Create a model\n",
        "\n",
        "model = tf.keras.Sequential([\n",
        "    tf.keras.layers.Dense(1)\n",
        "])\n",
        "\n",
        "# Compile the model\n",
        "model.compile(loss = tf.losses.mae, optimizer = tf.keras.optimizers.SGD(), metrics= [\"mae\"])\n",
        "\n",
        "#Fit the model\n",
        "# model.fit(tf.expand_dims(X_train, axis=1), Y_train, epochs=50)"
      ],
      "metadata": {
        "id": "P4w8o3Vo7WKp"
      },
      "execution_count": 24,
      "outputs": []
    },
    {
      "cell_type": "code",
      "source": [
        "# model.build()\n",
        "# Lets creat a model which builds automatically by defining the input_shape argument\n",
        "tf.random.set_seed(42)\n",
        "\n",
        "#Create a model same as above\n",
        "\n",
        "model  = tf.keras.Sequential([\n",
        "    tf.keras.layers.Dense(10, input_shape =[1],name= \"innput_layer\"),\n",
        "    tf.keras.layers.Dense(1, name= \"output_layer\"),\n",
        "], name=\"model_1\")\n",
        "\n",
        "# Compile the model\n",
        "model.compile(loss = tf.keras.losses.mae, optimizer = tf.keras.optimizers.SGD(), metrics= [\"mae\"])\n",
        "\n",
        "#Fit the model\n",
        "# model.fit(tf.expand_dims(X_train, axis=1), Y_train, epochs=50)"
      ],
      "metadata": {
        "id": "ZhpGbo9Q75E_"
      },
      "execution_count": 58,
      "outputs": []
    },
    {
      "cell_type": "code",
      "source": [
        "model.summary()\n"
      ],
      "metadata": {
        "colab": {
          "base_uri": "https://localhost:8080/"
        },
        "id": "17QXEh4z7yQb",
        "outputId": "609f7be3-600a-4460-900c-3ccf37e16999"
      },
      "execution_count": 59,
      "outputs": [
        {
          "output_type": "stream",
          "name": "stdout",
          "text": [
            "Model: \"model_1\"\n",
            "_________________________________________________________________\n",
            " Layer (type)                Output Shape              Param #   \n",
            "=================================================================\n",
            " innput_layer (Dense)        (None, 10)                20        \n",
            "                                                                 \n",
            " output_layer (Dense)        (None, 1)                 11        \n",
            "                                                                 \n",
            "=================================================================\n",
            "Total params: 31 (124.00 Byte)\n",
            "Trainable params: 31 (124.00 Byte)\n",
            "Non-trainable params: 0 (0.00 Byte)\n",
            "_________________________________________________________________\n"
          ]
        }
      ]
    },
    {
      "cell_type": "markdown",
      "source": [
        "* Total parameters -> total number of parameters in the model.\n",
        "* Trainable parameters - these are the parameters (pattherns ) can update can update as it trains\n",
        "* Non trainable params -> These parameters aren't updated during training (this typical when you add parameters from other models during transfer leanring.\n"
      ],
      "metadata": {
        "id": "JB3kpdqBrbXc"
      }
    },
    {
      "cell_type": "code",
      "source": [
        "model.fit(tf.expand_dims(X_train, axis=1), Y_train, epochs=50, verbose=0)"
      ],
      "metadata": {
        "colab": {
          "base_uri": "https://localhost:8080/"
        },
        "id": "qWhzh1TPrZV0",
        "outputId": "d1f98a4d-f558-4854-a38a-b230902a2198"
      },
      "execution_count": 60,
      "outputs": [
        {
          "output_type": "execute_result",
          "data": {
            "text/plain": [
              "<keras.src.callbacks.History at 0x7e48a28dfd90>"
            ]
          },
          "metadata": {},
          "execution_count": 60
        }
      ]
    },
    {
      "cell_type": "code",
      "source": [
        "model.summary()"
      ],
      "metadata": {
        "colab": {
          "base_uri": "https://localhost:8080/"
        },
        "id": "WeM9rG6IuflA",
        "outputId": "09470d87-6e04-4c65-e41a-e8fb3242ee73"
      },
      "execution_count": 61,
      "outputs": [
        {
          "output_type": "stream",
          "name": "stdout",
          "text": [
            "Model: \"model_1\"\n",
            "_________________________________________________________________\n",
            " Layer (type)                Output Shape              Param #   \n",
            "=================================================================\n",
            " innput_layer (Dense)        (None, 10)                20        \n",
            "                                                                 \n",
            " output_layer (Dense)        (None, 1)                 11        \n",
            "                                                                 \n",
            "=================================================================\n",
            "Total params: 31 (124.00 Byte)\n",
            "Trainable params: 31 (124.00 Byte)\n",
            "Non-trainable params: 0 (0.00 Byte)\n",
            "_________________________________________________________________\n"
          ]
        }
      ]
    },
    {
      "cell_type": "code",
      "source": [
        "from tensorflow.keras.utils import plot_model\n",
        "plot_model(model= model, show_shapes= True)"
      ],
      "metadata": {
        "colab": {
          "base_uri": "https://localhost:8080/",
          "height": 312
        },
        "id": "wtSBabc9uvvX",
        "outputId": "5d83bb7b-7038-4c39-c34e-5de392ec0dee"
      },
      "execution_count": 62,
      "outputs": [
        {
          "output_type": "execute_result",
          "data": {
            "image/png": "[encoded data removed]",
            "text/plain": [
              "<IPython.core.display.Image object>"
            ]
          },
          "metadata": {},
          "execution_count": 62
        }
      ]
    },
    {
      "cell_type": "markdown",
      "source": [
        "### Visualizing model's prediction\n",
        "\n",
        "To visualizing predictions, it's a good idea to plot them against the ground truth labels\n",
        "\n",
        "Often you see this\n",
        "\n",
        "y_test, y_true versus y_pred"
      ],
      "metadata": {
        "id": "MC95f1IexuZS"
      }
    },
    {
      "cell_type": "code",
      "source": [
        "y_pred= model.predict(X_test)\n",
        "y_pred"
      ],
      "metadata": {
        "colab": {
          "base_uri": "https://localhost:8080/"
        },
        "id": "DEgK5Hbuxp7l",
        "outputId": "e59879d8-3c8f-4adf-93d4-e0fb6739b159"
      },
      "execution_count": 63,
      "outputs": [
        {
          "output_type": "stream",
          "name": "stdout",
          "text": [
            "1/1 [==============================] - 0s 92ms/step\n"
          ]
        },
        {
          "output_type": "execute_result",
          "data": {
            "text/plain": [
              "array([[ 65.67749 ],\n",
              "       [ 69.99775 ],\n",
              "       [ 74.31801 ],\n",
              "       [ 78.63827 ],\n",
              "       [ 82.95853 ],\n",
              "       [ 87.27878 ],\n",
              "       [ 91.599045],\n",
              "       [ 95.9193  ],\n",
              "       [100.239555],\n",
              "       [104.559814]], dtype=float32)"
            ]
          },
          "metadata": {},
          "execution_count": 63
        }
      ]
    },
    {
      "cell_type": "code",
      "source": [
        "Y_test"
      ],
      "metadata": {
        "colab": {
          "base_uri": "https://localhost:8080/"
        },
        "id": "QyYrKmxeycU5",
        "outputId": "c19802b2-139d-44c6-ada2-ea4a1f0ae3ef"
      },
      "execution_count": 65,
      "outputs": [
        {
          "output_type": "execute_result",
          "data": {
            "text/plain": [
              "<tf.Tensor: shape=(10,), dtype=int32, numpy=array([ 70,  74,  78,  82,  86,  90,  94,  98, 102, 106], dtype=int32)>"
            ]
          },
          "metadata": {},
          "execution_count": 65
        }
      ]
    },
    {
      "cell_type": "code",
      "source": [
        "#  lets create a plotting function to match the output and predictions\n",
        "def plot_prediction(train_data = X_train, train_labels = Y_train, test_data = X_test, test_labels= Y_test, predictions= y_pred):\n",
        "    \"\"\"\n",
        "    Plot training data and predictions\n",
        "    \"\"\"\n",
        "    plt.figure(figsize= (10,7))\n",
        "    # Plot training data in to  blue\n",
        "    plt.scatter(train_data, train_labels, c= \"b\", label =\"Training Data\")\n",
        "    # Plot testing data in to green\n",
        "    plt.scatter(test_data, test_labels, c=\"g\", label= \"Testing Data\")\n",
        "    # Plot the predictions in purple\n",
        "    plt.scatter(test_data, predictions, c= \"r\", label= \"Predictions\")\n",
        "    # Show the legend\n",
        "    plt.legend()\n",
        "\n",
        "plot_prediction(X_train, Y_train, X_test, Y_test, y_pred)"
      ],
      "metadata": {
        "colab": {
          "base_uri": "https://localhost:8080/",
          "height": 599
        },
        "id": "w9Grr9aGyix3",
        "outputId": "b84b675e-ede4-45cc-c2f9-7335687eff64"
      },
      "execution_count": 67,
      "outputs": [
        {
          "output_type": "display_data",
          "data": {
            "text/plain": [
              "<Figure size 1000x700 with 1 Axes>"
            ],
            "image/png": "[encoded data removed]"
          },
          "metadata": {}
        }
      ]
    },
    {
      "cell_type": "markdown",
      "source": [
        "### Evaluating our model's prediction with regression evaluation mertrics\n",
        "* Depending on the problem you're working on there will be different evaluation metrics to evaluate your model's performance\n",
        "\n",
        "Since we're working we have two of the main metrics\n",
        "\n",
        "* MAE-> Mean absolute error \"On average how wrong is each of my model's prediction  tf.keras.losses or tf.metrics.mean_absolute_error() -> As a great starter mtertic for any regression problems\n",
        "\n",
        "* MSE -> Mean square error, \"Square the average errors\"  tf.keras.losses.MSE() or tf.metrics.mean_square_error() -> When larger errors are more significant than smaller errors\n",
        "\n",
        "* Huber -> tf.keras.losses.Huber() -> It is a combination of MSE and MAE less sensitive to outliers than MSE\n",
        "\n"
      ],
      "metadata": {
        "id": "P-938Jpb0BcV"
      }
    },
    {
      "cell_type": "code",
      "source": [
        "model.evaluate(tf.expand_dims(X_test, axis=1), Y_test)"
      ],
      "metadata": {
        "colab": {
          "base_uri": "https://localhost:8080/"
        },
        "id": "U_4EP_SB3MnH",
        "outputId": "32f267de-2b86-4b8c-8975-8f2196d292d0"
      },
      "execution_count": 68,
      "outputs": [
        {
          "output_type": "stream",
          "name": "stdout",
          "text": [
            "1/1 [==============================] - 0s 348ms/step - loss: 2.8813 - mae: 2.8813\n"
          ]
        },
        {
          "output_type": "execute_result",
          "data": {
            "text/plain": [
              "[2.8813438415527344, 2.8813438415527344]"
            ]
          },
          "metadata": {},
          "execution_count": 68
        }
      ]
    },
    {
      "cell_type": "code",
      "source": [
        "y_pred = tf.constant(y_pred)"
      ],
      "metadata": {
        "id": "PGRWFUep3UA3"
      },
      "execution_count": 75,
      "outputs": []
    },
    {
      "cell_type": "code",
      "source": [
        "tf.metrics.mean_absolute_error(Y_test, tf.constant(y_pred))"
      ],
      "metadata": {
        "colab": {
          "base_uri": "https://localhost:8080/"
        },
        "id": "_MWZpJQ73bce",
        "outputId": "18746fa4-70a1-4394-b8fb-ece78073d0a2"
      },
      "execution_count": 73,
      "outputs": [
        {
          "output_type": "execute_result",
          "data": {
            "text/plain": [
              "<tf.Tensor: shape=(10,), dtype=float32, numpy=\n",
              "array([22.32251  , 18.00225  , 14.609195 , 12.144693 , 10.6082945,\n",
              "       10.       , 10.319809 , 11.5677185, 13.743733 , 16.84785  ],\n",
              "      dtype=float32)>"
            ]
          },
          "metadata": {},
          "execution_count": 73
        }
      ]
    },
    {
      "cell_type": "code",
      "source": [],
      "metadata": {
        "id": "qf-dM3DtFBle"
      },
      "execution_count": null,
      "outputs": []
    },
    {
      "cell_type": "code",
      "source": [
        "Y_test"
      ],
      "metadata": {
        "colab": {
          "base_uri": "https://localhost:8080/"
        },
        "id": "foOPgNjY3Vxy",
        "outputId": "b5b1cc04-2e76-491c-bf3e-97a0faffd713"
      },
      "execution_count": 70,
      "outputs": [
        {
          "output_type": "execute_result",
          "data": {
            "text/plain": [
              "<tf.Tensor: shape=(10,), dtype=int32, numpy=array([ 70,  74,  78,  82,  86,  90,  94,  98, 102, 106], dtype=int32)>"
            ]
          },
          "metadata": {},
          "execution_count": 70
        }
      ]
    },
    {
      "cell_type": "code",
      "source": [
        "tf.squeeze(y_pred)"
      ],
      "metadata": {
        "colab": {
          "base_uri": "https://localhost:8080/"
        },
        "id": "NkScr5wN3YiU",
        "outputId": "3dc39043-aaa2-442b-d563-cda468333e1b"
      },
      "execution_count": 77,
      "outputs": [
        {
          "output_type": "execute_result",
          "data": {
            "text/plain": [
              "<tf.Tensor: shape=(10,), dtype=float32, numpy=\n",
              "array([ 65.67749 ,  69.99775 ,  74.31801 ,  78.63827 ,  82.95853 ,\n",
              "        87.27878 ,  91.599045,  95.9193  , 100.239555, 104.559814],\n",
              "      dtype=float32)>"
            ]
          },
          "metadata": {},
          "execution_count": 77
        }
      ]
    },
    {
      "cell_type": "markdown",
      "source": [],
      "metadata": {
        "id": "mLtLIK-uratY"
      }
    },
    {
      "cell_type": "code",
      "source": [
        "# Finding the mean absolute error\n",
        "tf.metrics.mean_absolute_error(y_true=Y_test, y_pred = tf.squeeze(y_pred))"
      ],
      "metadata": {
        "colab": {
          "base_uri": "https://localhost:8080/"
        },
        "id": "1mVHYjx5FCq3",
        "outputId": "a09438bf-7078-4759-80c9-422f433f0152"
      },
      "execution_count": 79,
      "outputs": [
        {
          "output_type": "execute_result",
          "data": {
            "text/plain": [
              "<tf.Tensor: shape=(), dtype=float32, numpy=2.881347>"
            ]
          },
          "metadata": {},
          "execution_count": 79
        }
      ]
    },
    {
      "cell_type": "code",
      "source": [
        "# Finding the mean square error\n",
        "tf.metrics.mean_squared_error(y_true=Y_test, y_pred = tf.squeeze(y_pred))"
      ],
      "metadata": {
        "colab": {
          "base_uri": "https://localhost:8080/"
        },
        "id": "Sze0_GGJFYbO",
        "outputId": "f31ecac7-ca21-43b9-cb98-2affc49c02f7"
      },
      "execution_count": 82,
      "outputs": [
        {
          "output_type": "execute_result",
          "data": {
            "text/plain": [
              "<tf.Tensor: shape=(), dtype=float32, numpy=9.148324>"
            ]
          },
          "metadata": {},
          "execution_count": 82
        }
      ]
    },
    {
      "cell_type": "code",
      "source": [
        "# Make some function to reuse MAE and MSE\n",
        "def mae(y_true, y_pred):\n",
        "  return tf.metrics.mean_absolute_error(y_true= y_true, y_pred= tf.squeeze(y_pred))\n",
        "\n",
        "def mse(y_true, y_pred):\n",
        "  return tf.metrics.mean_squared_error(y_true= y_true, y_pred= tf.squeeze(y_pred))"
      ],
      "metadata": {
        "id": "L-IBmj1vF7jM"
      },
      "execution_count": 96,
      "outputs": []
    },
    {
      "cell_type": "markdown",
      "source": [
        "### Running experiments to imporve our model\n",
        "\n",
        "``` Build a model -> fit it -> evaluate it -> tweak a model -> fit it -> evaluate it -> and goes on .... ```\n",
        "\n",
        "1 . Get more data - get more examples for your model to train on (more opportunities to learn patterns or relationships between features and labels).\n",
        "\n",
        "2 . Make your model larger ( using a more complex model) - this might come in the form of more layers or more hidden units in each layer.\n",
        "\n",
        "3 . Train for longer - give your model more of a chance to find patterns in the data.\n",
        "\n",
        "Lets do 3 modelling experiments:\n",
        "\n",
        "1. `model_1` - same as the original model, 1 layer, trained for 100 epochs.\n",
        "2. `model_2` - 2 layer , 100 epochs\n",
        "3. `model_3` - 2 layers , 500 epochs"
      ],
      "metadata": {
        "id": "Ahru2DD4Gt1S"
      }
    },
    {
      "cell_type": "code",
      "source": [
        "tf.random.set_seed(42)\n",
        "\n",
        "# Create a model\n",
        "model_1 = tf.keras.Sequential([\n",
        "    tf.keras.layers.Dense(1)\n",
        "])\n",
        "\n",
        "# Compile the model\n",
        "model_1.compile(loss= tf.keras.losses.mae, optimizer= tf.keras.optimizers.SGD(), metrics= [\"mae\"])\n",
        "\n",
        "# Fit the model\n",
        "model_1.fit(tf.expand_dims(X_train, axis=1), Y_train, epochs=100, verbose=0)"
      ],
      "metadata": {
        "colab": {
          "base_uri": "https://localhost:8080/"
        },
        "id": "dMWE0439GlMC",
        "outputId": "a777e205-cde6-4b1c-d3e9-0f58ef54d4e1"
      },
      "execution_count": 86,
      "outputs": [
        {
          "output_type": "execute_result",
          "data": {
            "text/plain": [
              "<keras.src.callbacks.History at 0x7e48a1e1f070>"
            ]
          },
          "metadata": {},
          "execution_count": 86
        }
      ]
    },
    {
      "cell_type": "code",
      "source": [
        "model.summary()"
      ],
      "metadata": {
        "colab": {
          "base_uri": "https://localhost:8080/"
        },
        "id": "wWp6xJqIJFgs",
        "outputId": "4ae3c608-7476-487b-d729-de314a0cd72a"
      },
      "execution_count": 88,
      "outputs": [
        {
          "output_type": "stream",
          "name": "stdout",
          "text": [
            "Model: \"model_1\"\n",
            "_________________________________________________________________\n",
            " Layer (type)                Output Shape              Param #   \n",
            "=================================================================\n",
            " innput_layer (Dense)        (None, 10)                20        \n",
            "                                                                 \n",
            " output_layer (Dense)        (None, 1)                 11        \n",
            "                                                                 \n",
            "=================================================================\n",
            "Total params: 31 (124.00 Byte)\n",
            "Trainable params: 31 (124.00 Byte)\n",
            "Non-trainable params: 0 (0.00 Byte)\n",
            "_________________________________________________________________\n"
          ]
        }
      ]
    },
    {
      "cell_type": "code",
      "source": [
        "# Make and plot predictions\n",
        "y_pred_1 = model_1.predict(X_test)\n",
        "plot_prediction(X_train, Y_train, X_test, Y_test, y_pred_1)"
      ],
      "metadata": {
        "colab": {
          "base_uri": "https://localhost:8080/",
          "height": 616
        },
        "id": "1YGAbiYoJPx_",
        "outputId": "1e0040c5-5cd6-4c9f-84cc-444204b6f1fd"
      },
      "execution_count": 90,
      "outputs": [
        {
          "output_type": "stream",
          "name": "stdout",
          "text": [
            "1/1 [==============================] - 0s 24ms/step\n"
          ]
        },
        {
          "output_type": "display_data",
          "data": {
            "text/plain": [
              "<Figure size 1000x700 with 1 Axes>"
            ],
            "image/png": "[encoded data removed]"
          },
          "metadata": {}
        }
      ]
    },
    {
      "cell_type": "code",
      "source": [
        "# Calculate model 1 evaluation metrics\n",
        "# with the help of squeeeze we remove one dimensions\n",
        "mae_1 = mae(Y_test, y_pred_1)\n",
        "mse_1 = mse(Y_test, y_pred_1)\n",
        "mae_1, mse_1"
      ],
      "metadata": {
        "colab": {
          "base_uri": "https://localhost:8080/"
        },
        "id": "f9qIwhemJmVd",
        "outputId": "2a4925b8-c39a-4d38-bd77-0eb26152002f"
      },
      "execution_count": 97,
      "outputs": [
        {
          "output_type": "execute_result",
          "data": {
            "text/plain": [
              "(<tf.Tensor: shape=(), dtype=float32, numpy=30.673843>,\n",
              " <tf.Tensor: shape=(), dtype=float32, numpy=951.3727>)"
            ]
          },
          "metadata": {},
          "execution_count": 97
        }
      ]
    },
    {
      "cell_type": "code",
      "source": [
        "# Model no2\n",
        "\n",
        "tf.random.set_seed(42)\n",
        "\n",
        "# Create a model\n",
        "model_2 = tf.keras.Sequential([\n",
        "    tf.keras.layers.Dense(1),\n",
        "    tf.keras.layers.Dense(1)\n",
        "])\n",
        "\n",
        "# Compile the model\n",
        "\n",
        "model_2.compile(loss = tf.keras.losses.mae, optimizer= tf.keras.optimizers.SGD(), metrics= [\"mae\"])\n",
        "\n",
        "# Fit the model\n",
        "model_2.fit(tf.expand_dims(X_train, axis=1), Y_train, epochs=100, verbose=0)\n"
      ],
      "metadata": {
        "colab": {
          "base_uri": "https://localhost:8080/"
        },
        "id": "m7QPn7iXIqFX",
        "outputId": "b0e8fb9f-15b6-4be2-ace0-1f4fe1a37eb7"
      },
      "execution_count": 87,
      "outputs": [
        {
          "output_type": "execute_result",
          "data": {
            "text/plain": [
              "<keras.src.callbacks.History at 0x7e48a2e92a40>"
            ]
          },
          "metadata": {},
          "execution_count": 87
        }
      ]
    },
    {
      "cell_type": "code",
      "source": [
        "y_pred_2 = model_2.predict(X_test)\n",
        "plot_prediction(X_train, Y_train, X_test, Y_test, y_pred_2)"
      ],
      "metadata": {
        "colab": {
          "base_uri": "https://localhost:8080/",
          "height": 654
        },
        "id": "86oKXk6UJdzs",
        "outputId": "8819a19b-7009-4c74-a9d5-834dc0d4d8c4"
      },
      "execution_count": 91,
      "outputs": [
        {
          "output_type": "stream",
          "name": "stderr",
          "text": [
            "WARNING:tensorflow:5 out of the last 7 calls to <function Model.make_predict_function.<locals>.predict_function at 0x7e48a1cf3910> triggered tf.function retracing. Tracing is expensive and the excessive number of tracings could be due to (1) creating @tf.function repeatedly in a loop, (2) passing tensors with different shapes, (3) passing Python objects instead of tensors. For (1), please define your @tf.function outside of the loop. For (2), @tf.function has reduce_retracing=True option that can avoid unnecessary retracing. For (3), please refer to https://www.tensorflow.org/guide/function#controlling_retracing and https://www.tensorflow.org/api_docs/python/tf/function for  more details.\n"
          ]
        },
        {
          "output_type": "stream",
          "name": "stdout",
          "text": [
            "1/1 [==============================] - 0s 117ms/step\n"
          ]
        },
        {
          "output_type": "display_data",
          "data": {
            "text/plain": [
              "<Figure size 1000x700 with 1 Axes>"
            ],
            "image/png": "[encoded data removed]"
          },
          "metadata": {}
        }
      ]
    },
    {
      "cell_type": "code",
      "source": [
        "mae_2 = mae(Y_test, y_pred_2)\n",
        "mse_2 = mse(Y_test, y_pred_2)\n",
        "mae_2, mse_2"
      ],
      "metadata": {
        "colab": {
          "base_uri": "https://localhost:8080/"
        },
        "id": "OJxD7I8RM18_",
        "outputId": "a4190cd3-7139-442f-f620-18bad7de7c51"
      },
      "execution_count": 107,
      "outputs": [
        {
          "output_type": "execute_result",
          "data": {
            "text/plain": [
              "(<tf.Tensor: shape=(), dtype=float32, numpy=43.10914>,\n",
              " <tf.Tensor: shape=(), dtype=float32, numpy=1884.316>)"
            ]
          },
          "metadata": {},
          "execution_count": 107
        }
      ]
    },
    {
      "cell_type": "code",
      "source": [
        "# Lets creat model 3\n",
        "tf.random.set_seed(42)\n",
        "\n",
        "# Create a model\n",
        "model_3 = tf.keras.Sequential([\n",
        "    tf.keras.layers.Dense(100, activation= \"relu\"),\n",
        "    tf.keras.layers.Dense(1)\n",
        "])\n",
        "\n",
        "# Compile the model\n",
        "model_3.compile(loss = tf.keras.losses.mae, optimizer= tf.keras.optimizers.Adam(), metrics= [\"mae\"])\n",
        "\n",
        "# Fit the model\n",
        "model_3.fit(tf.expand_dims(X_train, axis=1), Y_train, epochs=1000, verbose=0)"
      ],
      "metadata": {
        "colab": {
          "base_uri": "https://localhost:8080/"
        },
        "id": "Casppjy-JLNG",
        "outputId": "c6defb17-7c01-4d05-c0d6-a2e6b76b812f"
      },
      "execution_count": 99,
      "outputs": [
        {
          "output_type": "execute_result",
          "data": {
            "text/plain": [
              "<keras.src.callbacks.History at 0x7e48a1bba590>"
            ]
          },
          "metadata": {},
          "execution_count": 99
        }
      ]
    },
    {
      "cell_type": "code",
      "source": [
        "# Predict\n",
        "y_pred_3 = model_3.predict(X_test)\n",
        "plot_prediction(X_train, Y_train, X_test, Y_test, y_pred_3)\n"
      ],
      "metadata": {
        "colab": {
          "base_uri": "https://localhost:8080/",
          "height": 654
        },
        "id": "HndKDmf0KuTv",
        "outputId": "7ff2e3c7-415b-4145-c721-c86d3c3ec5f3"
      },
      "execution_count": 100,
      "outputs": [
        {
          "output_type": "stream",
          "name": "stderr",
          "text": [
            "WARNING:tensorflow:6 out of the last 8 calls to <function Model.make_predict_function.<locals>.predict_function at 0x7e48a1210af0> triggered tf.function retracing. Tracing is expensive and the excessive number of tracings could be due to (1) creating @tf.function repeatedly in a loop, (2) passing tensors with different shapes, (3) passing Python objects instead of tensors. For (1), please define your @tf.function outside of the loop. For (2), @tf.function has reduce_retracing=True option that can avoid unnecessary retracing. For (3), please refer to https://www.tensorflow.org/guide/function#controlling_retracing and https://www.tensorflow.org/api_docs/python/tf/function for  more details.\n"
          ]
        },
        {
          "output_type": "stream",
          "name": "stdout",
          "text": [
            "1/1 [==============================] - 0s 83ms/step\n"
          ]
        },
        {
          "output_type": "display_data",
          "data": {
            "text/plain": [
              "<Figure size 1000x700 with 1 Axes>"
            ],
            "image/png": "[encoded data removed]"
          },
          "metadata": {}
        }
      ]
    },
    {
      "cell_type": "markdown",
      "source": [],
      "metadata": {
        "id": "ou-Qar4PMeb_"
      }
    },
    {
      "cell_type": "code",
      "source": [
        "mae_3 = mae(Y_test, y_pred_3)\n",
        "mse_3 = mse(Y_test, y_pred_3)\n",
        "mae_3, mse_3"
      ],
      "metadata": {
        "colab": {
          "base_uri": "https://localhost:8080/"
        },
        "id": "Q_G1i0AlK7DX",
        "outputId": "30ce178e-7bf2-49af-de03-c9c10526012d"
      },
      "execution_count": 103,
      "outputs": [
        {
          "output_type": "execute_result",
          "data": {
            "text/plain": [
              "(<tf.Tensor: shape=(), dtype=float32, numpy=0.16097641>,\n",
              " <tf.Tensor: shape=(), dtype=float32, numpy=0.026710028>)"
            ]
          },
          "metadata": {},
          "execution_count": 103
        }
      ]
    },
    {
      "cell_type": "code",
      "source": [
        "# Compare the result our models using a pandas Data frame\n",
        "\n",
        "import pandas as pd\n",
        "\n",
        "model_results = [[\"model_1\", mae_1.numpy(), mse_1.numpy()],[\n",
        "    \"model_2\", mae_2.numpy(), mse_2.numpy()\n",
        "],[\"model_3\", mae_3.numpy(), mse_3.numpy()]]\n",
        "\n",
        "all_models = pd.DataFrame(model_results, columns= [\"model\", \"mae\", \"mse\"])\n",
        "all_models"
      ],
      "metadata": {
        "colab": {
          "base_uri": "https://localhost:8080/",
          "height": 143
        },
        "id": "K7IHSrpqMd3a",
        "outputId": "aa85206a-d3e5-48fa-e668-2e26629365e1"
      },
      "execution_count": 108,
      "outputs": [
        {
          "output_type": "execute_result",
          "data": {
            "text/plain": [
              "     model        mae          mse\n",
              "0  model_1  30.673843   951.372681\n",
              "1  model_2  43.109138  1884.316040\n",
              "2  model_3   0.160976     0.026710"
            ],
            "text/html": [
              "\n",
              "  <div id=\"df-c6ea3188-2a41-4f67-a1bd-9a8f1d3800bd\" class=\"colab-df-container\">\n",
              "    <div>\n",
              "<style scoped>\n",
              "    .dataframe tbody tr th:only-of-type {\n",
              "        vertical-align: middle;\n",
              "    }\n",
              "\n",
              "    .dataframe tbody tr th {\n",
              "        vertical-align: top;\n",
              "    }\n",
              "\n",
              "    .dataframe thead th {\n",
              "        text-align: right;\n",
              "    }\n",
              "</style>\n",
              "<table border=\"1\" class=\"dataframe\">\n",
              "  <thead>\n",
              "    <tr style=\"text-align: right;\">\n",
              "      <th></th>\n",
              "      <th>model</th>\n",
              "      <th>mae</th>\n",
              "      <th>mse</th>\n",
              "    </tr>\n",
              "  </thead>\n",
              "  <tbody>\n",
              "    <tr>\n",
              "      <th>0</th>\n",
              "      <td>model_1</td>\n",
              "      <td>30.673843</td>\n",
              "      <td>951.372681</td>\n",
              "    </tr>\n",
              "    <tr>\n",
              "      <th>1</th>\n",
              "      <td>model_2</td>\n",
              "      <td>43.109138</td>\n",
              "      <td>1884.316040</td>\n",
              "    </tr>\n",
              "    <tr>\n",
              "      <th>2</th>\n",
              "      <td>model_3</td>\n",
              "      <td>0.160976</td>\n",
              "      <td>0.026710</td>\n",
              "    </tr>\n",
              "  </tbody>\n",
              "</table>\n",
              "</div>\n",
              "    <div class=\"colab-df-buttons\">\n",
              "\n",
              "  <div class=\"colab-df-container\">\n",
              "    <button class=\"colab-df-convert\" onclick=\"convertToInteractive('df-c6ea3188-2a41-4f67-a1bd-9a8f1d3800bd')\"\n",
              "            title=\"Convert this dataframe to an interactive table.\"\n",
              "            style=\"display:none;\">\n",
              "\n",
              "  <svg xmlns=\"http://www.w3.org/2000/svg\" height=\"24px\" viewBox=\"0 -960 960 960\">\n",
              "    <path d=\"M120-120v-720h720v720H120Zm60-500h600v-160H180v160Zm220 220h160v-160H400v160Zm0 220h160v-160H400v160ZM180-400h160v-160H180v160Zm440 0h160v-160H620v160ZM180-180h160v-160H180v160Zm440 0h160v-160H620v160Z\"/>\n",
              "  </svg>\n",
              "    </button>\n",
              "\n",
              "  <style>\n",
              "    .colab-df-container {\n",
              "      display:flex;\n",
              "      gap: 12px;\n",
              "    }\n",
              "\n",
              "    .colab-df-convert {\n",
              "      background-color: #E8F0FE;\n",
              "      border: none;\n",
              "      border-radius: 50%;\n",
              "      cursor: pointer;\n",
              "      display: none;\n",
              "      fill: #1967D2;\n",
              "      height: 32px;\n",
              "      padding: 0 0 0 0;\n",
              "      width: 32px;\n",
              "    }\n",
              "\n",
              "    .colab-df-convert:hover {\n",
              "      background-color: #E2EBFA;\n",
              "      box-shadow: 0px 1px 2px rgba(60, 64, 67, 0.3), 0px 1px 3px 1px rgba(60, 64, 67, 0.15);\n",
              "      fill: #174EA6;\n",
              "    }\n",
              "\n",
              "    .colab-df-buttons div {\n",
              "      margin-bottom: 4px;\n",
              "    }\n",
              "\n",
              "    [theme=dark] .colab-df-convert {\n",
              "      background-color: #3B4455;\n",
              "      fill: #D2E3FC;\n",
              "    }\n",
              "\n",
              "    [theme=dark] .colab-df-convert:hover {\n",
              "      background-color: #434B5C;\n",
              "      box-shadow: 0px 1px 3px 1px rgba(0, 0, 0, 0.15);\n",
              "      filter: drop-shadow(0px 1px 2px rgba(0, 0, 0, 0.3));\n",
              "      fill: #FFFFFF;\n",
              "    }\n",
              "  </style>\n",
              "\n",
              "    <script>\n",
              "      const buttonEl =\n",
              "        document.querySelector('#df-c6ea3188-2a41-4f67-a1bd-9a8f1d3800bd button.colab-df-convert');\n",
              "      buttonEl.style.display =\n",
              "        google.colab.kernel.accessAllowed ? 'block' : 'none';\n",
              "\n",
              "      async function convertToInteractive(key) {\n",
              "        const element = document.querySelector('#df-c6ea3188-2a41-4f67-a1bd-9a8f1d3800bd');\n",
              "        const dataTable =\n",
              "          await google.colab.kernel.invokeFunction('convertToInteractive',\n",
              "                                                    [key], {});\n",
              "        if (!dataTable) return;\n",
              "\n",
              "        const docLinkHtml = 'Like what you see? Visit the ' +\n",
              "          '<a target=\"_blank\" href=https://colab.research.google.com/notebooks/data_table.ipynb>data table notebook</a>'\n",
              "          + ' to learn more about interactive tables.';\n",
              "        element.innerHTML = '';\n",
              "        dataTable['output_type'] = 'display_data';\n",
              "        await google.colab.output.renderOutput(dataTable, element);\n",
              "        const docLink = document.createElement('div');\n",
              "        docLink.innerHTML = docLinkHtml;\n",
              "        element.appendChild(docLink);\n",
              "      }\n",
              "    </script>\n",
              "  </div>\n",
              "\n",
              "\n",
              "<div id=\"df-51952b20-d6ad-4941-b617-88f4c293c0a2\">\n",
              "  <button class=\"colab-df-quickchart\" onclick=\"quickchart('df-51952b20-d6ad-4941-b617-88f4c293c0a2')\"\n",
              "            title=\"Suggest charts\"\n",
              "            style=\"display:none;\">\n",
              "\n",
              "<svg xmlns=\"http://www.w3.org/2000/svg\" height=\"24px\"viewBox=\"0 0 24 24\"\n",
              "     width=\"24px\">\n",
              "    <g>\n",
              "        <path d=\"M19 3H5c-1.1 0-2 .9-2 2v14c0 1.1.9 2 2 2h14c1.1 0 2-.9 2-2V5c0-1.1-.9-2-2-2zM9 17H7v-7h2v7zm4 0h-2V7h2v10zm4 0h-2v-4h2v4z\"/>\n",
              "    </g>\n",
              "</svg>\n",
              "  </button>\n",
              "\n",
              "<style>\n",
              "  .colab-df-quickchart {\n",
              "      --bg-color: #E8F0FE;\n",
              "      --fill-color: #1967D2;\n",
              "      --hover-bg-color: #E2EBFA;\n",
              "      --hover-fill-color: #174EA6;\n",
              "      --disabled-fill-color: #AAA;\n",
              "      --disabled-bg-color: #DDD;\n",
              "  }\n",
              "\n",
              "  [theme=dark] .colab-df-quickchart {\n",
              "      --bg-color: #3B4455;\n",
              "      --fill-color: #D2E3FC;\n",
              "      --hover-bg-color: #434B5C;\n",
              "      --hover-fill-color: #FFFFFF;\n",
              "      --disabled-bg-color: #3B4455;\n",
              "      --disabled-fill-color: #666;\n",
              "  }\n",
              "\n",
              "  .colab-df-quickchart {\n",
              "    background-color: var(--bg-color);\n",
              "    border: none;\n",
              "    border-radius: 50%;\n",
              "    cursor: pointer;\n",
              "    display: none;\n",
              "    fill: var(--fill-color);\n",
              "    height: 32px;\n",
              "    padding: 0;\n",
              "    width: 32px;\n",
              "  }\n",
              "\n",
              "  .colab-df-quickchart:hover {\n",
              "    background-color: var(--hover-bg-color);\n",
              "    box-shadow: 0 1px 2px rgba(60, 64, 67, 0.3), 0 1px 3px 1px rgba(60, 64, 67, 0.15);\n",
              "    fill: var(--button-hover-fill-color);\n",
              "  }\n",
              "\n",
              "  .colab-df-quickchart-complete:disabled,\n",
              "  .colab-df-quickchart-complete:disabled:hover {\n",
              "    background-color: var(--disabled-bg-color);\n",
              "    fill: var(--disabled-fill-color);\n",
              "    box-shadow: none;\n",
              "  }\n",
              "\n",
              "  .colab-df-spinner {\n",
              "    border: 2px solid var(--fill-color);\n",
              "    border-color: transparent;\n",
              "    border-bottom-color: var(--fill-color);\n",
              "    animation:\n",
              "      spin 1s steps(1) infinite;\n",
              "  }\n",
              "\n",
              "  @keyframes spin {\n",
              "    0% {\n",
              "      border-color: transparent;\n",
              "      border-bottom-color: var(--fill-color);\n",
              "      border-left-color: var(--fill-color);\n",
              "    }\n",
              "    20% {\n",
              "      border-color: transparent;\n",
              "      border-left-color: var(--fill-color);\n",
              "      border-top-color: var(--fill-color);\n",
              "    }\n",
              "    30% {\n",
              "      border-color: transparent;\n",
              "      border-left-color: var(--fill-color);\n",
              "      border-top-color: var(--fill-color);\n",
              "      border-right-color: var(--fill-color);\n",
              "    }\n",
              "    40% {\n",
              "      border-color: transparent;\n",
              "      border-right-color: var(--fill-color);\n",
              "      border-top-color: var(--fill-color);\n",
              "    }\n",
              "    60% {\n",
              "      border-color: transparent;\n",
              "      border-right-color: var(--fill-color);\n",
              "    }\n",
              "    80% {\n",
              "      border-color: transparent;\n",
              "      border-right-color: var(--fill-color);\n",
              "      border-bottom-color: var(--fill-color);\n",
              "    }\n",
              "    90% {\n",
              "      border-color: transparent;\n",
              "      border-bottom-color: var(--fill-color);\n",
              "    }\n",
              "  }\n",
              "</style>\n",
              "\n",
              "  <script>\n",
              "    async function quickchart(key) {\n",
              "      const quickchartButtonEl =\n",
              "        document.querySelector('#' + key + ' button');\n",
              "      quickchartButtonEl.disabled = true;  // To prevent multiple clicks.\n",
              "      quickchartButtonEl.classList.add('colab-df-spinner');\n",
              "      try {\n",
              "        const charts = await google.colab.kernel.invokeFunction(\n",
              "            'suggestCharts', [key], {});\n",
              "      } catch (error) {\n",
              "        console.error('Error during call to suggestCharts:', error);\n",
              "      }\n",
              "      quickchartButtonEl.classList.remove('colab-df-spinner');\n",
              "      quickchartButtonEl.classList.add('colab-df-quickchart-complete');\n",
              "    }\n",
              "    (() => {\n",
              "      let quickchartButtonEl =\n",
              "        document.querySelector('#df-51952b20-d6ad-4941-b617-88f4c293c0a2 button');\n",
              "      quickchartButtonEl.style.display =\n",
              "        google.colab.kernel.accessAllowed ? 'block' : 'none';\n",
              "    })();\n",
              "  </script>\n",
              "</div>\n",
              "\n",
              "  <div id=\"id_a30e4668-f25e-4cea-9925-11ac7d76b075\">\n",
              "    <style>\n",
              "      .colab-df-generate {\n",
              "        background-color: #E8F0FE;\n",
              "        border: none;\n",
              "        border-radius: 50%;\n",
              "        cursor: pointer;\n",
              "        display: none;\n",
              "        fill: #1967D2;\n",
              "        height: 32px;\n",
              "        padding: 0 0 0 0;\n",
              "        width: 32px;\n",
              "      }\n",
              "\n",
              "      .colab-df-generate:hover {\n",
              "        background-color: #E2EBFA;\n",
              "        box-shadow: 0px 1px 2px rgba(60, 64, 67, 0.3), 0px 1px 3px 1px rgba(60, 64, 67, 0.15);\n",
              "        fill: #174EA6;\n",
              "      }\n",
              "\n",
              "      [theme=dark] .colab-df-generate {\n",
              "        background-color: #3B4455;\n",
              "        fill: #D2E3FC;\n",
              "      }\n",
              "\n",
              "      [theme=dark] .colab-df-generate:hover {\n",
              "        background-color: #434B5C;\n",
              "        box-shadow: 0px 1px 3px 1px rgba(0, 0, 0, 0.15);\n",
              "        filter: drop-shadow(0px 1px 2px rgba(0, 0, 0, 0.3));\n",
              "        fill: #FFFFFF;\n",
              "      }\n",
              "    </style>\n",
              "    <button class=\"colab-df-generate\" onclick=\"generateWithVariable('all_models')\"\n",
              "            title=\"Generate code using this dataframe.\"\n",
              "            style=\"display:none;\">\n",
              "\n",
              "  <svg xmlns=\"http://www.w3.org/2000/svg\" height=\"24px\"viewBox=\"0 0 24 24\"\n",
              "       width=\"24px\">\n",
              "    <path d=\"M7,19H8.4L18.45,9,17,7.55,7,17.6ZM5,21V16.75L18.45,3.32a2,2,0,0,1,2.83,0l1.4,1.43a1.91,1.91,0,0,1,.58,1.4,1.91,1.91,0,0,1-.58,1.4L9.25,21ZM18.45,9,17,7.55Zm-12,3A5.31,5.31,0,0,0,4.9,8.1,5.31,5.31,0,0,0,1,6.5,5.31,5.31,0,0,0,4.9,4.9,5.31,5.31,0,0,0,6.5,1,5.31,5.31,0,0,0,8.1,4.9,5.31,5.31,0,0,0,12,6.5,5.46,5.46,0,0,0,6.5,12Z\"/>\n",
              "  </svg>\n",
              "    </button>\n",
              "    <script>\n",
              "      (() => {\n",
              "      const buttonEl =\n",
              "        document.querySelector('#id_a30e4668-f25e-4cea-9925-11ac7d76b075 button.colab-df-generate');\n",
              "      buttonEl.style.display =\n",
              "        google.colab.kernel.accessAllowed ? 'block' : 'none';\n",
              "\n",
              "      buttonEl.onclick = () => {\n",
              "        google.colab.notebook.generateWithVariable('all_models');\n",
              "      }\n",
              "      })();\n",
              "    </script>\n",
              "  </div>\n",
              "\n",
              "    </div>\n",
              "  </div>\n"
            ],
            "application/vnd.google.colaboratory.intrinsic+json": {
              "type": "dataframe",
              "variable_name": "all_models",
              "summary": "{\n  \"name\": \"all_models\",\n  \"rows\": 3,\n  \"fields\": [\n    {\n      \"column\": \"model\",\n      \"properties\": {\n        \"dtype\": \"string\",\n        \"num_unique_values\": 3,\n        \"samples\": [\n          \"model_1\",\n          \"model_2\",\n          \"model_3\"\n        ],\n        \"semantic_type\": \"\",\n        \"description\": \"\"\n      }\n    },\n    {\n      \"column\": \"mae\",\n      \"properties\": {\n        \"dtype\": \"float32\",\n        \"num_unique_values\": 3,\n        \"samples\": [\n          30.673843383789062,\n          43.10913848876953,\n          0.16097640991210938\n        ],\n        \"semantic_type\": \"\",\n        \"description\": \"\"\n      }\n    },\n    {\n      \"column\": \"mse\",\n      \"properties\": {\n        \"dtype\": \"float32\",\n        \"num_unique_values\": 3,\n        \"samples\": [\n          951.3726806640625,\n          1884.3160400390625,\n          0.0267100278288126\n        ],\n        \"semantic_type\": \"\",\n        \"description\": \"\"\n      }\n    }\n  ]\n}"
            }
          },
          "metadata": {},
          "execution_count": 108
        }
      ]
    },
    {
      "cell_type": "code",
      "source": [],
      "metadata": {
        "id": "DimVcFHYMeA5"
      },
      "execution_count": null,
      "outputs": []
    },
    {
      "cell_type": "markdown",
      "source": [
        "Note -> One of our main goals to minimize the time between your experiments,\n",
        "The more experiments you do , the more things you'll  figure out which don't work and in turn , get closer to figuring out what does work. Remember the\n",
        "motto: -> Experiment -> Experiment -> Experiment.\n"
      ],
      "metadata": {
        "id": "vdLrBRYQQc1c"
      }
    },
    {
      "cell_type": "markdown",
      "source": [
        "## tracking your experiments\n",
        "\n",
        "1. Track your all result s of youe experiments\n",
        "\n",
        "2. It can be  tedious if you're running lots of experiments\n",
        "\n",
        "Luckily there are tools to helps\n",
        "\n",
        "\n",
        "Tools\n",
        "\n",
        "* TensorBoard -  It help to track the modelling experimeents.\n",
        "* Weights and Biases -> a tool for tracking all of kinds of machine learning  ( plugs straight in tensorBoard)"
      ],
      "metadata": {
        "id": "kEzu52vWRNaj"
      }
    },
    {
      "cell_type": "markdown",
      "source": [
        "### Saving out Model\n",
        "\n",
        "Saving our models allows us to use in website and all\n",
        "\n",
        "\n",
        "There are two formats for saving a model\n",
        "\n",
        "1. The SavedModel Format\n",
        "\n",
        "2. The HDF5 format"
      ],
      "metadata": {
        "id": "YoncvGJiRNXt"
      }
    },
    {
      "cell_type": "code",
      "source": [
        "model_3.save(filepath= \"model_3\")"
      ],
      "metadata": {
        "id": "PA2u_3siRDxp"
      },
      "execution_count": 111,
      "outputs": []
    },
    {
      "cell_type": "markdown",
      "source": [],
      "metadata": {
        "id": "F06d0DWtR98C"
      }
    },
    {
      "cell_type": "code",
      "source": [
        "# Save model using hdf5 format\n",
        "model_3.save(filepath= \"modesl_3.keras\")"
      ],
      "metadata": {
        "id": "9cR0P0C_R9q5"
      },
      "execution_count": 113,
      "outputs": []
    },
    {
      "cell_type": "markdown",
      "source": [],
      "metadata": {
        "id": "CJyD_uudR95N"
      }
    }
  ]
}