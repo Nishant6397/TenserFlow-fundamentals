{
  "nbformat": 4,
  "nbformat_minor": 0,
  "metadata": {
    "colab": {
      "provenance": [],
      "toc_visible": true,
      "authorship_tag": "ABX9TyPCtJJqpcQ/QRrtWTonzgK3",
      "include_colab_link": true
    },
    "kernelspec": {
      "name": "python3",
      "display_name": "Python 3"
    },
    "language_info": {
      "name": "python"
    }
  },
  "cells": [
    {
      "cell_type": "markdown",
      "metadata": {
        "id": "view-in-github",
        "colab_type": "text"
      },
      "source": [
        "<a href=\"https://colab.research.google.com/github/Nishant6397/TenserFlow-fundamentals/blob/main/Untitled5.ipynb\" target=\"_parent\"><img src=\"https://colab.research.google.com/assets/colab-badge.svg\" alt=\"Open In Colab\"/></a>"
      ]
    },
    {
      "cell_type": "markdown",
      "source": [
        "We have images -> convert those images into normalized values -> goes in the machine learning algorithm ->  then predict\n",
        "\n",
        "Input and output shapes in for image classification\n",
        "\n",
        "Inputs -> [ batch_sizem, width , height, colour_channels]\n",
        "\n",
        "Shape = [None , 224, 224 , 3]\n",
        "\n",
        "        or\n",
        "\n",
        "Shape = [32 , 224, 224 , 3]\n",
        "\n",
        "batch_size is means 32 samples at a time\n",
        "\n",
        "\n",
        "Output\n",
        "Shape = [3]"
      ],
      "metadata": {
        "id": "QVZRoQ367Q__"
      }
    },
    {
      "cell_type": "code",
      "execution_count": null,
      "metadata": {
        "id": "Zjtk9GWY5rG2"
      },
      "outputs": [],
      "source": []
    }
  ]
}